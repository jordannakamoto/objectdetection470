{
 "cells": [
  {
   "cell_type": "code",
   "execution_count": 1,
   "id": "644a0851-4d25-4407-ad19-652c10c7c38d",
   "metadata": {},
   "outputs": [
    {
     "name": "stdout",
     "output_type": "stream",
     "text": [
      "True\n"
     ]
    }
   ],
   "source": [
    "import torch; \n",
    "print(torch.cuda.is_available());"
   ]
  },
  {
   "cell_type": "code",
   "execution_count": 2,
   "id": "9ba65784-c600-4dd1-9ba1-17749f1c8c50",
   "metadata": {},
   "outputs": [
    {
     "name": "stdout",
     "output_type": "stream",
     "text": [
      "GPU is available.\n",
      "GPU name:  NVIDIA GeForce RTX 2070\n"
     ]
    }
   ],
   "source": [
    "import torch\n",
    "\n",
    "# Check if CUDA (NVIDIA GPU) is available\n",
    "if torch.cuda.is_available():\n",
    "    print(\"GPU is available.\")\n",
    "    print(\"GPU name: \", torch.cuda.get_device_name(0))\n",
    "else:\n",
    "    print(\"No GPU found.\")"
   ]
  },
  {
   "cell_type": "code",
   "execution_count": 5,
   "id": "98dadb27-418d-45ba-86f9-51b34e863588",
   "metadata": {},
   "outputs": [
    {
     "name": "stdout",
     "output_type": "stream",
     "text": [
      "Requirement already satisfied: ultralytics in /home/microuasml/anaconda3/test/envs/craterdetectionfall24/lib/python3.10/site-packages (8.3.23)\n",
      "Collecting ultralytics\n",
      "\u001b[33m  WARNING: Retrying (Retry(total=4, connect=None, read=None, redirect=None, status=None)) after connection broken by 'NewConnectionError('<pip._vendor.urllib3.connection.HTTPSConnection object at 0x72e1e29dc5b0>: Failed to establish a new connection: [Errno 101] Network is unreachable')': /packages/26/4e/82aa24340c6975253a97d5e925f6a1243101e34e2a63358dfd1d49b19381/ultralytics-8.3.24-py3-none-any.whl.metadata\u001b[0m\u001b[33m\n",
      "\u001b[0m  Downloading ultralytics-8.3.24-py3-none-any.whl.metadata (35 kB)\n",
      "Requirement already satisfied: numpy>=1.23.0 in /home/microuasml/.local/lib/python3.10/site-packages (from ultralytics) (1.26.3)\n",
      "Requirement already satisfied: matplotlib>=3.3.0 in /home/microuasml/.local/lib/python3.10/site-packages (from ultralytics) (3.8.2)\n",
      "Requirement already satisfied: opencv-python>=4.6.0 in /home/microuasml/anaconda3/test/envs/craterdetectionfall24/lib/python3.10/site-packages (from ultralytics) (4.10.0.84)\n",
      "Requirement already satisfied: pillow>=7.1.2 in /home/microuasml/anaconda3/test/envs/craterdetectionfall24/lib/python3.10/site-packages (from ultralytics) (11.0.0)\n",
      "Requirement already satisfied: pyyaml>=5.3.1 in /home/microuasml/anaconda3/test/envs/craterdetectionfall24/lib/python3.10/site-packages (from ultralytics) (6.0.2)\n",
      "Requirement already satisfied: requests>=2.23.0 in /home/microuasml/anaconda3/test/envs/craterdetectionfall24/lib/python3.10/site-packages (from ultralytics) (2.32.3)\n",
      "Requirement already satisfied: scipy>=1.4.1 in /home/microuasml/.local/lib/python3.10/site-packages (from ultralytics) (1.12.0)\n",
      "Requirement already satisfied: torch>=1.8.0 in /home/microuasml/anaconda3/test/envs/craterdetectionfall24/lib/python3.10/site-packages (from ultralytics) (2.5.0)\n",
      "Requirement already satisfied: torchvision>=0.9.0 in /home/microuasml/anaconda3/test/envs/craterdetectionfall24/lib/python3.10/site-packages (from ultralytics) (0.20.0)\n",
      "Requirement already satisfied: tqdm>=4.64.0 in /home/microuasml/anaconda3/test/envs/craterdetectionfall24/lib/python3.10/site-packages (from ultralytics) (4.66.5)\n",
      "Requirement already satisfied: psutil in /home/microuasml/anaconda3/test/envs/craterdetectionfall24/lib/python3.10/site-packages (from ultralytics) (6.0.0)\n",
      "Requirement already satisfied: py-cpuinfo in /home/microuasml/anaconda3/test/envs/craterdetectionfall24/lib/python3.10/site-packages (from ultralytics) (9.0.0)\n",
      "Requirement already satisfied: pandas>=1.1.4 in /home/microuasml/.local/lib/python3.10/site-packages (from ultralytics) (2.2.0)\n",
      "Requirement already satisfied: seaborn>=0.11.0 in /home/microuasml/anaconda3/test/envs/craterdetectionfall24/lib/python3.10/site-packages (from ultralytics) (0.13.2)\n",
      "Requirement already satisfied: ultralytics-thop>=2.0.0 in /home/microuasml/anaconda3/test/envs/craterdetectionfall24/lib/python3.10/site-packages (from ultralytics) (2.0.9)\n",
      "Requirement already satisfied: contourpy>=1.0.1 in /home/microuasml/.local/lib/python3.10/site-packages (from matplotlib>=3.3.0->ultralytics) (1.2.0)\n",
      "Requirement already satisfied: cycler>=0.10 in /home/microuasml/.local/lib/python3.10/site-packages (from matplotlib>=3.3.0->ultralytics) (0.12.1)\n",
      "Requirement already satisfied: fonttools>=4.22.0 in /home/microuasml/.local/lib/python3.10/site-packages (from matplotlib>=3.3.0->ultralytics) (4.47.2)\n",
      "Requirement already satisfied: kiwisolver>=1.3.1 in /home/microuasml/.local/lib/python3.10/site-packages (from matplotlib>=3.3.0->ultralytics) (1.4.5)\n",
      "Requirement already satisfied: packaging>=20.0 in /home/microuasml/.local/lib/python3.10/site-packages (from matplotlib>=3.3.0->ultralytics) (23.2)\n",
      "Requirement already satisfied: pyparsing>=2.3.1 in /home/microuasml/anaconda3/test/envs/craterdetectionfall24/lib/python3.10/site-packages (from matplotlib>=3.3.0->ultralytics) (3.2.0)\n",
      "Requirement already satisfied: python-dateutil>=2.7 in /home/microuasml/.local/lib/python3.10/site-packages (from matplotlib>=3.3.0->ultralytics) (2.8.2)\n",
      "Requirement already satisfied: pytz>=2020.1 in /home/microuasml/anaconda3/test/envs/craterdetectionfall24/lib/python3.10/site-packages (from pandas>=1.1.4->ultralytics) (2024.1)\n",
      "Requirement already satisfied: tzdata>=2022.7 in /home/microuasml/.local/lib/python3.10/site-packages (from pandas>=1.1.4->ultralytics) (2023.4)\n",
      "Requirement already satisfied: charset-normalizer<4,>=2 in /home/microuasml/anaconda3/test/envs/craterdetectionfall24/lib/python3.10/site-packages (from requests>=2.23.0->ultralytics) (3.4.0)\n",
      "Requirement already satisfied: idna<4,>=2.5 in /home/microuasml/anaconda3/test/envs/craterdetectionfall24/lib/python3.10/site-packages (from requests>=2.23.0->ultralytics) (3.10)\n",
      "Requirement already satisfied: urllib3<3,>=1.21.1 in /home/microuasml/anaconda3/test/envs/craterdetectionfall24/lib/python3.10/site-packages (from requests>=2.23.0->ultralytics) (2.2.3)\n",
      "Requirement already satisfied: certifi>=2017.4.17 in /home/microuasml/anaconda3/test/envs/craterdetectionfall24/lib/python3.10/site-packages (from requests>=2.23.0->ultralytics) (2024.8.30)\n",
      "Requirement already satisfied: filelock in /home/microuasml/.local/lib/python3.10/site-packages (from torch>=1.8.0->ultralytics) (3.13.1)\n",
      "Requirement already satisfied: typing-extensions>=4.8.0 in /home/microuasml/.local/lib/python3.10/site-packages (from torch>=1.8.0->ultralytics) (4.9.0)\n",
      "Requirement already satisfied: networkx in /home/microuasml/.local/lib/python3.10/site-packages (from torch>=1.8.0->ultralytics) (3.2.1)\n",
      "Requirement already satisfied: jinja2 in /home/microuasml/.local/lib/python3.10/site-packages (from torch>=1.8.0->ultralytics) (3.1.3)\n",
      "Requirement already satisfied: fsspec in /home/microuasml/.local/lib/python3.10/site-packages (from torch>=1.8.0->ultralytics) (2023.12.2)\n",
      "Requirement already satisfied: nvidia-cuda-nvrtc-cu12==12.4.127 in /home/microuasml/anaconda3/test/envs/craterdetectionfall24/lib/python3.10/site-packages (from torch>=1.8.0->ultralytics) (12.4.127)\n",
      "Requirement already satisfied: nvidia-cuda-runtime-cu12==12.4.127 in /home/microuasml/anaconda3/test/envs/craterdetectionfall24/lib/python3.10/site-packages (from torch>=1.8.0->ultralytics) (12.4.127)\n",
      "Requirement already satisfied: nvidia-cuda-cupti-cu12==12.4.127 in /home/microuasml/anaconda3/test/envs/craterdetectionfall24/lib/python3.10/site-packages (from torch>=1.8.0->ultralytics) (12.4.127)\n",
      "Requirement already satisfied: nvidia-cudnn-cu12==9.1.0.70 in /home/microuasml/anaconda3/test/envs/craterdetectionfall24/lib/python3.10/site-packages (from torch>=1.8.0->ultralytics) (9.1.0.70)\n",
      "Requirement already satisfied: nvidia-cublas-cu12==12.4.5.8 in /home/microuasml/anaconda3/test/envs/craterdetectionfall24/lib/python3.10/site-packages (from torch>=1.8.0->ultralytics) (12.4.5.8)\n",
      "Requirement already satisfied: nvidia-cufft-cu12==11.2.1.3 in /home/microuasml/anaconda3/test/envs/craterdetectionfall24/lib/python3.10/site-packages (from torch>=1.8.0->ultralytics) (11.2.1.3)\n",
      "Requirement already satisfied: nvidia-curand-cu12==10.3.5.147 in /home/microuasml/anaconda3/test/envs/craterdetectionfall24/lib/python3.10/site-packages (from torch>=1.8.0->ultralytics) (10.3.5.147)\n",
      "Requirement already satisfied: nvidia-cusolver-cu12==11.6.1.9 in /home/microuasml/anaconda3/test/envs/craterdetectionfall24/lib/python3.10/site-packages (from torch>=1.8.0->ultralytics) (11.6.1.9)\n",
      "Requirement already satisfied: nvidia-cusparse-cu12==12.3.1.170 in /home/microuasml/anaconda3/test/envs/craterdetectionfall24/lib/python3.10/site-packages (from torch>=1.8.0->ultralytics) (12.3.1.170)\n",
      "Requirement already satisfied: nvidia-nccl-cu12==2.21.5 in /home/microuasml/anaconda3/test/envs/craterdetectionfall24/lib/python3.10/site-packages (from torch>=1.8.0->ultralytics) (2.21.5)\n",
      "Requirement already satisfied: nvidia-nvtx-cu12==12.4.127 in /home/microuasml/anaconda3/test/envs/craterdetectionfall24/lib/python3.10/site-packages (from torch>=1.8.0->ultralytics) (12.4.127)\n",
      "Requirement already satisfied: nvidia-nvjitlink-cu12==12.4.127 in /home/microuasml/anaconda3/test/envs/craterdetectionfall24/lib/python3.10/site-packages (from torch>=1.8.0->ultralytics) (12.4.127)\n",
      "Requirement already satisfied: triton==3.1.0 in /home/microuasml/anaconda3/test/envs/craterdetectionfall24/lib/python3.10/site-packages (from torch>=1.8.0->ultralytics) (3.1.0)\n",
      "Requirement already satisfied: sympy==1.13.1 in /home/microuasml/anaconda3/test/envs/craterdetectionfall24/lib/python3.10/site-packages (from torch>=1.8.0->ultralytics) (1.13.1)\n",
      "Requirement already satisfied: mpmath<1.4,>=1.1.0 in /home/microuasml/.local/lib/python3.10/site-packages (from sympy==1.13.1->torch>=1.8.0->ultralytics) (1.3.0)\n",
      "Requirement already satisfied: six>=1.5 in /home/microuasml/anaconda3/test/envs/craterdetectionfall24/lib/python3.10/site-packages (from python-dateutil>=2.7->matplotlib>=3.3.0->ultralytics) (1.16.0)\n",
      "Requirement already satisfied: MarkupSafe>=2.0 in /home/microuasml/anaconda3/test/envs/craterdetectionfall24/lib/python3.10/site-packages (from jinja2->torch>=1.8.0->ultralytics) (3.0.2)\n",
      "Downloading ultralytics-8.3.24-py3-none-any.whl (877 kB)\n",
      "\u001b[2K   \u001b[38;2;114;156;31m━━━━━━━━━━━━━━━━━━━━━━━━━━━━━━━━━━━━━━━━\u001b[0m \u001b[32m877.7/877.7 kB\u001b[0m \u001b[31m18.6 MB/s\u001b[0m eta \u001b[36m0:00:00\u001b[0m\n",
      "\u001b[?25hInstalling collected packages: ultralytics\n",
      "  Attempting uninstall: ultralytics\n",
      "    Found existing installation: ultralytics 8.3.23\n",
      "    Uninstalling ultralytics-8.3.23:\n",
      "      Successfully uninstalled ultralytics-8.3.23\n",
      "Successfully installed ultralytics-8.3.24\n",
      "Requirement already satisfied: supervision in /home/microuasml/anaconda3/test/envs/craterdetectionfall24/lib/python3.10/site-packages (0.24.0)\n",
      "Requirement already satisfied: defusedxml<0.8.0,>=0.7.1 in /home/microuasml/anaconda3/test/envs/craterdetectionfall24/lib/python3.10/site-packages (from supervision) (0.7.1)\n",
      "Requirement already satisfied: matplotlib>=3.6.0 in /home/microuasml/.local/lib/python3.10/site-packages (from supervision) (3.8.2)\n",
      "Requirement already satisfied: numpy>=1.23.3 in /home/microuasml/.local/lib/python3.10/site-packages (from supervision) (1.26.3)\n",
      "Requirement already satisfied: opencv-python>=4.5.5.64 in /home/microuasml/anaconda3/test/envs/craterdetectionfall24/lib/python3.10/site-packages (from supervision) (4.10.0.84)\n",
      "Requirement already satisfied: pillow>=9.4 in /home/microuasml/anaconda3/test/envs/craterdetectionfall24/lib/python3.10/site-packages (from supervision) (11.0.0)\n",
      "Requirement already satisfied: pyyaml>=5.3 in /home/microuasml/anaconda3/test/envs/craterdetectionfall24/lib/python3.10/site-packages (from supervision) (6.0.2)\n",
      "Requirement already satisfied: scipy<2.0.0,>=1.10.0 in /home/microuasml/.local/lib/python3.10/site-packages (from supervision) (1.12.0)\n",
      "Requirement already satisfied: contourpy>=1.0.1 in /home/microuasml/.local/lib/python3.10/site-packages (from matplotlib>=3.6.0->supervision) (1.2.0)\n",
      "Requirement already satisfied: cycler>=0.10 in /home/microuasml/.local/lib/python3.10/site-packages (from matplotlib>=3.6.0->supervision) (0.12.1)\n",
      "Requirement already satisfied: fonttools>=4.22.0 in /home/microuasml/.local/lib/python3.10/site-packages (from matplotlib>=3.6.0->supervision) (4.47.2)\n",
      "Requirement already satisfied: kiwisolver>=1.3.1 in /home/microuasml/.local/lib/python3.10/site-packages (from matplotlib>=3.6.0->supervision) (1.4.5)\n",
      "Requirement already satisfied: packaging>=20.0 in /home/microuasml/.local/lib/python3.10/site-packages (from matplotlib>=3.6.0->supervision) (23.2)\n",
      "Requirement already satisfied: pyparsing>=2.3.1 in /home/microuasml/anaconda3/test/envs/craterdetectionfall24/lib/python3.10/site-packages (from matplotlib>=3.6.0->supervision) (3.2.0)\n",
      "Requirement already satisfied: python-dateutil>=2.7 in /home/microuasml/.local/lib/python3.10/site-packages (from matplotlib>=3.6.0->supervision) (2.8.2)\n",
      "Requirement already satisfied: six>=1.5 in /home/microuasml/anaconda3/test/envs/craterdetectionfall24/lib/python3.10/site-packages (from python-dateutil>=2.7->matplotlib>=3.6.0->supervision) (1.16.0)\n"
     ]
    }
   ],
   "source": [
    "!pip install -U ultralytics\n",
    "!pip install supervision"
   ]
  },
  {
   "cell_type": "code",
   "execution_count": 3,
   "id": "56c10128-fbfc-42a2-bab0-5470affb8535",
   "metadata": {},
   "outputs": [],
   "source": [
    "\n",
    "import shutil\n",
    "from pathlib import Path\n",
    "import sys\n",
    "\n",
    "from matplotlib import pyplot as plt\n",
    "import skimage.io as io\n",
    "\n",
    "import torch\n",
    "from torch import cuda\n",
    "import supervision as sv\n",
    "from ultralytics import YOLO\n",
    "\n",
    "import locale\n",
    "locale.getpreferredencoding = lambda: \"UTF-8\""
   ]
  },
  {
   "cell_type": "code",
   "execution_count": 4,
   "id": "cdf85e51-4a5d-4196-a900-78d0fe61c068",
   "metadata": {},
   "outputs": [
    {
     "name": "stdout",
     "output_type": "stream",
     "text": [
      "3.10.15 | packaged by conda-forge | (main, Oct 16 2024, 01:24:24) [GCC 13.3.0]\n",
      "cuda\n",
      "NVIDIA GeForce RTX 2070\n"
     ]
    }
   ],
   "source": [
    "print(sys.version)\n",
    "\n",
    "has_gpu = cuda.is_available()\n",
    "device = torch.device('cuda' if has_gpu else 'cpu')\n",
    "\n",
    "print(device)\n",
    "if has_gpu:\n",
    "    print(cuda.get_device_name(0))\n",
    "    "
   ]
  },
  {
   "cell_type": "markdown",
   "id": "21db339a-4919-438a-88d7-0d162090d2fe",
   "metadata": {},
   "source": [
    "Creating path variables for our new project "
   ]
  },
  {
   "cell_type": "code",
   "execution_count": 12,
   "id": "4e689fca-bf84-490e-8cc4-928e4f1183a7",
   "metadata": {},
   "outputs": [],
   "source": [
    "path_map = {'ROOT': Path('craterdetectionluna')}\n",
    "path_map['DS'] = path_map['ROOT'] / 'datasets'\n",
    "\n",
    "# We will treat DS_CRATERS as the repository directory containing the\n",
    "# original images and labels that are provided with the dataset. This helps\n",
    "# keep things clean if we want to make another dataset using the same data\n",
    "# (which we'll do in a few steps)\n",
    "path_map['DS_CRATERS'] = path_map['DS'] / 'craters'\n",
    "path_map['DS_CRATERS_IMAGES'] = path_map['DS_CRATERS'] / 'images'\n",
    "path_map['DS_CRATERS_LABELS'] = path_map['DS_CRATERS'] / 'labels'\n",
    "\n",
    "# Here is our project paths. We'll also keep this in DS for simplicity.\n",
    "# We need three directories for our dataset: root, images, labels.\n",
    "# In this case, \"root\" will be the project name. Additionally, we will define\n",
    "# the path and name of another file we'll make later on.\n",
    "path_map['PROJECT_NAME'] = \"yolov9c_craters\"\n",
    "path_map['DS_PROJECT'] = path_map['DS'] / path_map['PROJECT_NAME']\n",
    "path_map['PROJECT_IMAGES'] = path_map['DS_PROJECT'] / 'images'\n",
    "path_map['PROJECT_LABELS'] = path_map['DS_PROJECT'] / 'labels'\n",
    "path_map['PROJECT_DATA_YAML'] = path_map['DS_PROJECT'] / 'data.yaml'\n",
    "\n",
    "# Declare the output paths that are created by the model automatically by\n",
    "# the model. We'll declare them now because we will use them later.\n",
    "path_map['RUNS'] = path_map['ROOT'] / 'runs'\n",
    "path_map['DETECT'] = path_map['RUNS'] / 'detect'\n",
    "path_map['PROJECT_RESULTS'] = path_map['DETECT'] / path_map['PROJECT_NAME']"
   ]
  },
  {
   "cell_type": "code",
   "execution_count": 13,
   "id": "24085eee-de1e-4f65-afc5-cf590748173a",
   "metadata": {},
   "outputs": [
    {
     "name": "stdout",
     "output_type": "stream",
     "text": [
      "Creating directory structure\n",
      "   /home/microuasml/tmp/craterdetectionluna\n",
      "   /home/microuasml/tmp/craterdetectionluna/datasets\n",
      "   /home/microuasml/tmp/craterdetectionluna/datasets/craters\n",
      "   /home/microuasml/tmp/craterdetectionluna/datasets/craters/images\n",
      "   /home/microuasml/tmp/craterdetectionluna/datasets/craters/labels\n",
      "   /home/microuasml/tmp/craterdetectionluna/datasets/yolov9c_craters\n",
      "   /home/microuasml/tmp/craterdetectionluna/datasets/yolov9c_craters/images\n",
      "   /home/microuasml/tmp/craterdetectionluna/datasets/yolov9c_craters/labels\n",
      "   /home/microuasml/tmp/craterdetectionluna/runs\n",
      "   /home/microuasml/tmp/craterdetectionluna/runs/detect\n",
      "   /home/microuasml/tmp/craterdetectionluna/runs/detect/yolov9c_craters\n",
      "Complete\n"
     ]
    }
   ],
   "source": [
    "def create_project_directories():\n",
    "  print(\"Creating directory structure\")\n",
    "  for name, path in path_map.items():\n",
    "      if isinstance(path, Path) and not path.suffix:\n",
    "          path = path.resolve()\n",
    "          path_map[name] = path\n",
    "          path.mkdir(parents=True, exist_ok=True)\n",
    "          print('  ',path)\n",
    "  print(\"Complete\")\n",
    "\n",
    "create_project_directories()"
   ]
  },
  {
   "cell_type": "code",
   "execution_count": 15,
   "id": "175432cd-0394-4fcc-89b0-c13fe272dc42",
   "metadata": {},
   "outputs": [
    {
     "name": "stdout",
     "output_type": "stream",
     "text": [
      "Image: render3064.png, Width: 720, Height: 480\n"
     ]
    }
   ],
   "source": [
    "from PIL import Image\n",
    "import os\n",
    "\n",
    "# Path to your images directory\n",
    "images_dir = path_map['ROOT'] / \"rocksdataset/images/render\"\n",
    "\n",
    "# Loop through each image in the directory to find the dimensions\n",
    "for image_file in os.listdir(images_dir):\n",
    "    if image_file.endswith((\".tif\", \".jpg\", \".png\")):  # Add any other extensions as needed\n",
    "        image_path = os.path.join(images_dir, image_file)\n",
    "        \n",
    "        # Open the image\n",
    "        with Image.open(image_path) as img:\n",
    "            width, height = img.size\n",
    "            print(f\"Image: {image_file}, Width: {width}, Height: {height}\")\n",
    "        \n",
    "        # Uncomment the following line if all images are the same size and you just need one sample\n",
    "        break"
   ]
  },
  {
   "cell_type": "code",
   "execution_count": 18,
   "id": "17248747-b4b2-4436-9edf-467b3daf56e3",
   "metadata": {},
   "outputs": [
    {
     "name": "stdout",
     "output_type": "stream",
     "text": [
      "Conversion complete. YOLO annotation files saved in 'labels' directory.\n"
     ]
    }
   ],
   "source": [
    "import pandas as pd\n",
    "import os\n",
    "\n",
    "# Load the CSV file\n",
    "csv_path = path_map['ROOT'] / \"rocksdataset/bounding_boxes.csv\"\n",
    "output_dir = path_map['ROOT'] / \"labels\"\n",
    "image_width = 720  # Replace with the actual image width\n",
    "image_height = 480  # Replace with the actual image height\n",
    "\n",
    "# Create output directory if it doesn't exist\n",
    "os.makedirs(output_dir, exist_ok=True)\n",
    "\n",
    "# Read the CSV\n",
    "df = pd.read_csv(csv_path)\n",
    "\n",
    "# Process each row in the CSV\n",
    "for _, row in df.iterrows():\n",
    "    # Extract data from the CSV\n",
    "    frame_number = int(row[\"Frame\"])\n",
    "    top_left_x = row[\"TopLeftCornerX\"]\n",
    "    top_left_y = row[\"TopLeftCornerY\"]\n",
    "    length = row[\"Length\"]\n",
    "    height = row[\"Height\"]\n",
    "    class_id = 0  # Assuming a single class (e.g., rock)\n",
    "\n",
    "    # Convert to YOLO format\n",
    "    center_x = (top_left_x + length / 2) / image_width\n",
    "    center_y = (top_left_y + height / 2) / image_height\n",
    "    width = length / image_width\n",
    "    height = height / image_height\n",
    "\n",
    "    # Construct the output filename\n",
    "    output_filename = f\"render{frame_number:04d}.txt\"\n",
    "    output_path = os.path.join(output_dir, output_filename)\n",
    "\n",
    "    # Write the bounding box to the file\n",
    "    with open(output_path, \"a\") as f:\n",
    "        f.write(f\"{class_id} {center_x:.6f} {center_y:.6f} {width:.6f} {height:.6f}\\n\")\n",
    "\n",
    "print(\"Conversion complete. YOLO annotation files saved in 'labels' directory.\")\n"
   ]
  },
  {
   "cell_type": "code",
   "execution_count": 37,
   "id": "39bbfdd7-c9f2-4b34-b8e2-4c50f73fa784",
   "metadata": {},
   "outputs": [],
   "source": [
    "import yaml\n",
    "\n",
    "def make_data_yaml(data_yaml_path, abs_root_path, rel_train_images_path, rel_val_images_path, class_map):\n",
    "    \"\"\"\n",
    "    Creates a YAML configuration file for YOLO with plain text formatting.\n",
    "\n",
    "    Parameters:\n",
    "    - data_yaml_path (str): Path where the YAML file will be saved.\n",
    "    - abs_root_path (str): Absolute root path of the dataset.\n",
    "    - rel_train_images_path (str): Relative path to the training images directory from the root.\n",
    "    - rel_val_images_path (str): Relative path to the validation images directory from the root.\n",
    "    - class_map (dict): Dictionary mapping class IDs to class names.\n",
    "    \"\"\"\n",
    "    with open(data_yaml_path, 'w') as f:\n",
    "        f.write(f\"path: {abs_root_path}\\n\")\n",
    "        f.write(f\"train: {rel_train_images_path}\\n\")  # Use relative path for images\n",
    "        f.write(f\"val: {rel_val_images_path}\\n\")\n",
    "        f.write(\"names:\\n\")\n",
    "        for id, name in class_map.items():\n",
    "            f.write(f\"  {id}: {name}\\n\")\n",
    "    \n",
    "    print(f\"Created '{data_yaml_path}' with paths as plain strings.\")\n"
   ]
  },
  {
   "cell_type": "code",
   "execution_count": 22,
   "id": "802a3fe3-963b-4521-bfb9-b387bbddf70a",
   "metadata": {},
   "outputs": [],
   "source": [
    "import os\n",
    "import shutil\n",
    "import random\n",
    "\n",
    "def split_dataset(images_dir, labels_dir, output_dir, train_ratio=0.8, val_ratio=0.1, test_ratio=0.1):\n",
    "    # Check if ratios sum to 1.0\n",
    "    assert train_ratio + val_ratio + test_ratio == 1.0, \"Ratios must sum to 1.0\"\n",
    "\n",
    "    # Paths for train, val, and test\n",
    "    for subset in [\"train\", \"val\", \"test\"]:\n",
    "        os.makedirs(os.path.join(output_dir, \"images\", subset), exist_ok=True)\n",
    "        os.makedirs(os.path.join(output_dir, \"labels\", subset), exist_ok=True)\n",
    "\n",
    "    # Get list of all images and shuffle\n",
    "    images = [img for img in os.listdir(images_dir) if img.endswith((\".jpg\", \".png\", \".tif\"))]\n",
    "    random.shuffle(images)\n",
    "\n",
    "    # Split images into train, val, and test\n",
    "    train_count = int(len(images) * train_ratio)\n",
    "    val_count = int(len(images) * val_ratio)\n",
    "\n",
    "    splits = {\n",
    "        \"train\": images[:train_count],\n",
    "        \"val\": images[train_count:train_count + val_count],\n",
    "        \"test\": images[train_count + val_count:]\n",
    "    }\n",
    "\n",
    "    # Move images and labels to respective folders\n",
    "    for subset, files in splits.items():\n",
    "        for image in files:\n",
    "            image_path = os.path.join(images_dir, image)\n",
    "            label_path = os.path.join(labels_dir, image.replace(\".jpg\", \".txt\").replace(\".png\", \".txt\").replace(\".tif\", \".txt\"))\n",
    "\n",
    "            if os.path.exists(label_path):\n",
    "                shutil.copy(image_path, os.path.join(output_dir, \"images\", subset, image))\n",
    "                shutil.copy(label_path, os.path.join(output_dir, \"labels\", subset, os.path.basename(label_path)))\n",
    "            else:\n",
    "                print(f\"Warning: Label not found for {image}\")\n",
    "\n",
    "    print(\"Dataset split complete.\")"
   ]
  },
  {
   "cell_type": "code",
   "execution_count": 26,
   "id": "15b70901-c727-4bb9-8d49-ae8a3f0bbf9e",
   "metadata": {},
   "outputs": [
    {
     "name": "stdout",
     "output_type": "stream",
     "text": [
      "Warning: Label not found for render4842.png\n",
      "Warning: Label not found for render7696.png\n",
      "Warning: Label not found for render2257.png\n",
      "Warning: Label not found for render9359.png\n",
      "Warning: Label not found for render2910.png\n",
      "Warning: Label not found for render1801.png\n",
      "Warning: Label not found for render1599.png\n",
      "Warning: Label not found for render1487.png\n",
      "Warning: Label not found for render7668.png\n",
      "Warning: Label not found for render3408.png\n",
      "Warning: Label not found for render5481.png\n",
      "Warning: Label not found for render5386.png\n",
      "Warning: Label not found for render9642.png\n",
      "Warning: Label not found for render4645.png\n",
      "Warning: Label not found for render3222.png\n",
      "Warning: Label not found for render3248.png\n",
      "Warning: Label not found for render0919.png\n",
      "Warning: Label not found for render4255.png\n",
      "Warning: Label not found for render2414.png\n",
      "Warning: Label not found for render2663.png\n",
      "Warning: Label not found for render7303.png\n",
      "Warning: Label not found for render8780.png\n",
      "Warning: Label not found for render3084.png\n",
      "Warning: Label not found for render8640.png\n",
      "Warning: Label not found for render5498.png\n",
      "Warning: Label not found for render0930.png\n",
      "Warning: Label not found for render0821.png\n",
      "Warning: Label not found for render8207.png\n",
      "Warning: Label not found for render2352.png\n",
      "Warning: Label not found for render4485.png\n",
      "Warning: Label not found for render4950.png\n",
      "Warning: Label not found for render4822.png\n",
      "Warning: Label not found for render8967.png\n",
      "Warning: Label not found for render2344.png\n",
      "Warning: Label not found for render5608.png\n",
      "Warning: Label not found for render1552.png\n",
      "Warning: Label not found for render3055.png\n",
      "Warning: Label not found for render4474.png\n",
      "Warning: Label not found for render9453.png\n",
      "Warning: Label not found for render7176.png\n",
      "Warning: Label not found for render6998.png\n",
      "Warning: Label not found for render6718.png\n",
      "Warning: Label not found for render8531.png\n",
      "Warning: Label not found for render6165.png\n",
      "Warning: Label not found for render4577.png\n",
      "Warning: Label not found for render8046.png\n",
      "Warning: Label not found for render4107.png\n",
      "Warning: Label not found for render5971.png\n",
      "Warning: Label not found for render1921.png\n",
      "Warning: Label not found for render7584.png\n",
      "Warning: Label not found for render4962.png\n",
      "Warning: Label not found for render1769.png\n",
      "Warning: Label not found for render1536.png\n",
      "Warning: Label not found for render4065.png\n",
      "Warning: Label not found for render4319.png\n",
      "Warning: Label not found for render7215.png\n",
      "Warning: Label not found for render3588.png\n",
      "Warning: Label not found for render1850.png\n",
      "Warning: Label not found for render5352.png\n",
      "Warning: Label not found for render4561.png\n",
      "Warning: Label not found for render4112.png\n",
      "Warning: Label not found for render7980.png\n",
      "Warning: Label not found for render2446.png\n",
      "Warning: Label not found for render7390.png\n",
      "Warning: Label not found for render8446.png\n",
      "Warning: Label not found for render8852.png\n",
      "Warning: Label not found for render1648.png\n",
      "Warning: Label not found for render7356.png\n",
      "Warning: Label not found for render8185.png\n",
      "Warning: Label not found for render7526.png\n",
      "Warning: Label not found for render4164.png\n",
      "Warning: Label not found for render4323.png\n",
      "Warning: Label not found for render1064.png\n",
      "Warning: Label not found for render1661.png\n",
      "Warning: Label not found for render9311.png\n",
      "Warning: Label not found for render0278.png\n",
      "Warning: Label not found for render7405.png\n",
      "Warning: Label not found for render6927.png\n",
      "Warning: Label not found for render2394.png\n",
      "Warning: Label not found for render3490.png\n",
      "Warning: Label not found for render2868.png\n",
      "Warning: Label not found for render2210.png\n",
      "Warning: Label not found for render0172.png\n",
      "Warning: Label not found for render4465.png\n",
      "Warning: Label not found for render5218.png\n",
      "Warning: Label not found for render6889.png\n",
      "Warning: Label not found for render1594.png\n",
      "Warning: Label not found for render6424.png\n",
      "Warning: Label not found for render9699.png\n",
      "Warning: Label not found for render3418.png\n",
      "Warning: Label not found for render2522.png\n",
      "Warning: Label not found for render2662.png\n",
      "Warning: Label not found for render2543.png\n",
      "Warning: Label not found for render8691.png\n",
      "Warning: Label not found for render6996.png\n",
      "Warning: Label not found for render5699.png\n",
      "Warning: Label not found for render0974.png\n",
      "Warning: Label not found for render8575.png\n",
      "Warning: Label not found for render7235.png\n",
      "Warning: Label not found for render8122.png\n",
      "Warning: Label not found for render4067.png\n",
      "Warning: Label not found for render7315.png\n",
      "Warning: Label not found for render2392.png\n",
      "Warning: Label not found for render3846.png\n",
      "Warning: Label not found for render5664.png\n",
      "Warning: Label not found for render4257.png\n",
      "Warning: Label not found for render6971.png\n",
      "Warning: Label not found for render5439.png\n",
      "Warning: Label not found for render7981.png\n",
      "Warning: Label not found for render0099.png\n",
      "Warning: Label not found for render8499.png\n",
      "Warning: Label not found for render2206.png\n",
      "Warning: Label not found for render3079.png\n",
      "Warning: Label not found for render3864.png\n",
      "Warning: Label not found for render5579.png\n",
      "Warning: Label not found for render9145.png\n",
      "Warning: Label not found for render6843.png\n",
      "Warning: Label not found for render9704.png\n",
      "Warning: Label not found for render8846.png\n",
      "Warning: Label not found for render0772.png\n",
      "Warning: Label not found for render1188.png\n",
      "Warning: Label not found for render6088.png\n",
      "Warning: Label not found for render4771.png\n",
      "Warning: Label not found for render8126.png\n",
      "Warning: Label not found for render4007.png\n",
      "Warning: Label not found for render5180.png\n",
      "Warning: Label not found for render3524.png\n",
      "Warning: Label not found for render2686.png\n",
      "Warning: Label not found for render4261.png\n",
      "Warning: Label not found for render6543.png\n",
      "Warning: Label not found for render8436.png\n",
      "Warning: Label not found for render6213.png\n",
      "Warning: Label not found for render6873.png\n",
      "Warning: Label not found for render5126.png\n",
      "Warning: Label not found for render9290.png\n",
      "Warning: Label not found for render1060.png\n",
      "Warning: Label not found for render5220.png\n",
      "Warning: Label not found for render2890.png\n",
      "Warning: Label not found for render7703.png\n",
      "Warning: Label not found for render4208.png\n",
      "Warning: Label not found for render5186.png\n",
      "Warning: Label not found for render0549.png\n",
      "Warning: Label not found for render0222.png\n",
      "Warning: Label not found for render2415.png\n",
      "Warning: Label not found for render0837.png\n",
      "Warning: Label not found for render9516.png\n",
      "Warning: Label not found for render7657.png\n",
      "Warning: Label not found for render3955.png\n",
      "Warning: Label not found for render0632.png\n",
      "Warning: Label not found for render0810.png\n",
      "Warning: Label not found for render4098.png\n",
      "Warning: Label not found for render8684.png\n",
      "Warning: Label not found for render1477.png\n",
      "Warning: Label not found for render0496.png\n",
      "Warning: Label not found for render8172.png\n",
      "Warning: Label not found for render8065.png\n",
      "Warning: Label not found for render1540.png\n",
      "Warning: Label not found for render7991.png\n",
      "Warning: Label not found for render6405.png\n",
      "Warning: Label not found for render1790.png\n",
      "Warning: Label not found for render7233.png\n",
      "Warning: Label not found for render9090.png\n",
      "Warning: Label not found for render7490.png\n",
      "Warning: Label not found for render6297.png\n",
      "Warning: Label not found for render4258.png\n",
      "Warning: Label not found for render4796.png\n",
      "Warning: Label not found for render2947.png\n",
      "Warning: Label not found for render0855.png\n",
      "Warning: Label not found for render5122.png\n",
      "Warning: Label not found for render8805.png\n",
      "Warning: Label not found for render5630.png\n",
      "Warning: Label not found for render0747.png\n",
      "Warning: Label not found for render1219.png\n",
      "Warning: Label not found for render5599.png\n",
      "Warning: Label not found for render0655.png\n",
      "Warning: Label not found for render0489.png\n",
      "Warning: Label not found for render2027.png\n",
      "Warning: Label not found for render6931.png\n",
      "Warning: Label not found for render3784.png\n",
      "Warning: Label not found for render1199.png\n",
      "Warning: Label not found for render2992.png\n",
      "Warning: Label not found for render3389.png\n",
      "Warning: Label not found for render5161.png\n",
      "Warning: Label not found for render7168.png\n",
      "Warning: Label not found for render4909.png\n",
      "Warning: Label not found for render4781.png\n",
      "Warning: Label not found for render3018.png\n",
      "Warning: Label not found for render9239.png\n",
      "Warning: Label not found for render1929.png\n",
      "Warning: Label not found for render3928.png\n",
      "Warning: Label not found for render9389.png\n",
      "Warning: Label not found for render1155.png\n",
      "Warning: Label not found for render5620.png\n",
      "Warning: Label not found for render4676.png\n",
      "Warning: Label not found for render9086.png\n",
      "Warning: Label not found for render7119.png\n",
      "Warning: Label not found for render3782.png\n",
      "Warning: Label not found for render8740.png\n",
      "Warning: Label not found for render5485.png\n",
      "Warning: Label not found for render5415.png\n",
      "Warning: Label not found for render7121.png\n",
      "Warning: Label not found for render7433.png\n",
      "Warning: Label not found for render4262.png\n",
      "Warning: Label not found for render2272.png\n",
      "Warning: Label not found for render2609.png\n",
      "Warning: Label not found for render4466.png\n",
      "Warning: Label not found for render9705.png\n",
      "Warning: Label not found for render9298.png\n",
      "Warning: Label not found for render6427.png\n",
      "Warning: Label not found for render5362.png\n",
      "Warning: Label not found for render7187.png\n",
      "Warning: Label not found for render3220.png\n",
      "Warning: Label not found for render2148.png\n",
      "Warning: Label not found for render4746.png\n",
      "Warning: Label not found for render8983.png\n",
      "Warning: Label not found for render1246.png\n",
      "Warning: Label not found for render5673.png\n",
      "Warning: Label not found for render7923.png\n",
      "Warning: Label not found for render4975.png\n",
      "Warning: Label not found for render8855.png\n",
      "Warning: Label not found for render6559.png\n",
      "Warning: Label not found for render1035.png\n",
      "Warning: Label not found for render0661.png\n",
      "Warning: Label not found for render8665.png\n",
      "Warning: Label not found for render8915.png\n",
      "Warning: Label not found for render6653.png\n",
      "Warning: Label not found for render7556.png\n",
      "Warning: Label not found for render5920.png\n",
      "Warning: Label not found for render9585.png\n",
      "Warning: Label not found for render5283.png\n",
      "Warning: Label not found for render2975.png\n",
      "Warning: Label not found for render1231.png\n",
      "Warning: Label not found for render0682.png\n",
      "Warning: Label not found for render7908.png\n",
      "Warning: Label not found for render6631.png\n",
      "Warning: Label not found for render2511.png\n",
      "Warning: Label not found for render5525.png\n",
      "Warning: Label not found for render7995.png\n",
      "Warning: Label not found for render4489.png\n",
      "Warning: Label not found for render9204.png\n",
      "Warning: Label not found for render6880.png\n",
      "Warning: Label not found for render7392.png\n",
      "Warning: Label not found for render7767.png\n",
      "Warning: Label not found for render6190.png\n",
      "Warning: Label not found for render1554.png\n",
      "Warning: Label not found for render3449.png\n",
      "Warning: Label not found for render8146.png\n",
      "Warning: Label not found for render0463.png\n",
      "Warning: Label not found for render8525.png\n",
      "Warning: Label not found for render6714.png\n",
      "Warning: Label not found for render2575.png\n",
      "Warning: Label not found for render5679.png\n",
      "Warning: Label not found for render2328.png\n",
      "Warning: Label not found for render6660.png\n",
      "Warning: Label not found for render7720.png\n",
      "Warning: Label not found for render6434.png\n",
      "Warning: Label not found for render0108.png\n",
      "Warning: Label not found for render6961.png\n",
      "Warning: Label not found for render6949.png\n",
      "Warning: Label not found for render1688.png\n",
      "Warning: Label not found for render7171.png\n",
      "Warning: Label not found for render8316.png\n",
      "Warning: Label not found for render6603.png\n",
      "Warning: Label not found for render9186.png\n",
      "Warning: Label not found for render4324.png\n",
      "Warning: Label not found for render6582.png\n",
      "Warning: Label not found for render9543.png\n",
      "Warning: Label not found for render0201.png\n",
      "Warning: Label not found for render2390.png\n",
      "Warning: Label not found for render0817.png\n",
      "Warning: Label not found for render6842.png\n",
      "Warning: Label not found for render7529.png\n",
      "Warning: Label not found for render1244.png\n",
      "Warning: Label not found for render4131.png\n",
      "Warning: Label not found for render6935.png\n",
      "Warning: Label not found for render1040.png\n",
      "Warning: Label not found for render8746.png\n",
      "Warning: Label not found for render6315.png\n",
      "Warning: Label not found for render0235.png\n",
      "Warning: Label not found for render1162.png\n",
      "Warning: Label not found for render1820.png\n",
      "Warning: Label not found for render5772.png\n",
      "Warning: Label not found for render7360.png\n",
      "Warning: Label not found for render8682.png\n",
      "Warning: Label not found for render8679.png\n",
      "Warning: Label not found for render9537.png\n",
      "Warning: Label not found for render5540.png\n",
      "Warning: Label not found for render0209.png\n",
      "Warning: Label not found for render8977.png\n",
      "Warning: Label not found for render3939.png\n",
      "Warning: Label not found for render2934.png\n",
      "Warning: Label not found for render1184.png\n",
      "Warning: Label not found for render2296.png\n",
      "Warning: Label not found for render0249.png\n",
      "Warning: Label not found for render2413.png\n",
      "Warning: Label not found for render4370.png\n",
      "Warning: Label not found for render3745.png\n",
      "Warning: Label not found for render6912.png\n",
      "Warning: Label not found for render6617.png\n",
      "Warning: Label not found for render4410.png\n",
      "Warning: Label not found for render5314.png\n",
      "Warning: Label not found for render6538.png\n",
      "Warning: Label not found for render5945.png\n",
      "Warning: Label not found for render3853.png\n",
      "Warning: Label not found for render0043.png\n",
      "Warning: Label not found for render6826.png\n",
      "Warning: Label not found for render2149.png\n",
      "Warning: Label not found for render3617.png\n",
      "Warning: Label not found for render2520.png\n",
      "Warning: Label not found for render5217.png\n",
      "Warning: Label not found for render5762.png\n",
      "Warning: Label not found for render0330.png\n",
      "Warning: Label not found for render8662.png\n",
      "Warning: Label not found for render5598.png\n",
      "Warning: Label not found for render6178.png\n",
      "Warning: Label not found for render8057.png\n",
      "Warning: Label not found for render8298.png\n",
      "Warning: Label not found for render8713.png\n",
      "Warning: Label not found for render9324.png\n",
      "Warning: Label not found for render4576.png\n",
      "Warning: Label not found for render1011.png\n",
      "Warning: Label not found for render7036.png\n",
      "Warning: Label not found for render2998.png\n",
      "Warning: Label not found for render4801.png\n",
      "Warning: Label not found for render0540.png\n",
      "Warning: Label not found for render2878.png\n",
      "Warning: Label not found for render6838.png\n",
      "Warning: Label not found for render4900.png\n",
      "Warning: Label not found for render6830.png\n",
      "Warning: Label not found for render9297.png\n",
      "Warning: Label not found for render3118.png\n",
      "Warning: Label not found for render9265.png\n",
      "Warning: Label not found for render2938.png\n",
      "Warning: Label not found for render5871.png\n",
      "Warning: Label not found for render9024.png\n",
      "Warning: Label not found for render5323.png\n",
      "Warning: Label not found for render0300.png\n",
      "Warning: Label not found for render0820.png\n",
      "Warning: Label not found for render8792.png\n",
      "Warning: Label not found for render5767.png\n",
      "Warning: Label not found for render3925.png\n",
      "Warning: Label not found for render1791.png\n",
      "Warning: Label not found for render6263.png\n",
      "Warning: Label not found for render6359.png\n",
      "Warning: Label not found for render0396.png\n",
      "Warning: Label not found for render8712.png\n",
      "Warning: Label not found for render0585.png\n",
      "Warning: Label not found for render2969.png\n",
      "Warning: Label not found for render1951.png\n",
      "Warning: Label not found for render2689.png\n",
      "Warning: Label not found for render9006.png\n",
      "Warning: Label not found for render6976.png\n",
      "Warning: Label not found for render2644.png\n",
      "Warning: Label not found for render1722.png\n",
      "Warning: Label not found for render7450.png\n",
      "Warning: Label not found for render0194.png\n",
      "Warning: Label not found for render3442.png\n",
      "Warning: Label not found for render8186.png\n",
      "Warning: Label not found for render7117.png\n",
      "Warning: Label not found for render4109.png\n",
      "Warning: Label not found for render3781.png\n",
      "Warning: Label not found for render8618.png\n",
      "Warning: Label not found for render0197.png\n",
      "Warning: Label not found for render9050.png\n",
      "Warning: Label not found for render0591.png\n",
      "Warning: Label not found for render3762.png\n",
      "Warning: Label not found for render1717.png\n",
      "Warning: Label not found for render2418.png\n",
      "Warning: Label not found for render7823.png\n",
      "Warning: Label not found for render1878.png\n",
      "Warning: Label not found for render8323.png\n",
      "Warning: Label not found for render7656.png\n",
      "Warning: Label not found for render8370.png\n",
      "Warning: Label not found for render0324.png\n",
      "Warning: Label not found for render7547.png\n",
      "Warning: Label not found for render8485.png\n",
      "Warning: Label not found for render8523.png\n",
      "Warning: Label not found for render4697.png\n",
      "Warning: Label not found for render3164.png\n",
      "Warning: Label not found for render5759.png\n",
      "Warning: Label not found for render1555.png\n",
      "Warning: Label not found for render4902.png\n",
      "Warning: Label not found for render6833.png\n",
      "Warning: Label not found for render2322.png\n",
      "Warning: Label not found for render5083.png\n",
      "Warning: Label not found for render6484.png\n",
      "Warning: Label not found for render2111.png\n",
      "Warning: Label not found for render7586.png\n",
      "Warning: Label not found for render5457.png\n",
      "Warning: Label not found for render6809.png\n",
      "Warning: Label not found for render6804.png\n",
      "Warning: Label not found for render9415.png\n",
      "Warning: Label not found for render8227.png\n",
      "Warning: Label not found for render6899.png\n",
      "Warning: Label not found for render5002.png\n",
      "Warning: Label not found for render2856.png\n",
      "Warning: Label not found for render5712.png\n",
      "Warning: Label not found for render1049.png\n",
      "Warning: Label not found for render3476.png\n",
      "Warning: Label not found for render8868.png\n",
      "Warning: Label not found for render6337.png\n",
      "Warning: Label not found for render0244.png\n",
      "Warning: Label not found for render8769.png\n",
      "Warning: Label not found for render0376.png\n",
      "Warning: Label not found for render2393.png\n",
      "Warning: Label not found for render0452.png\n",
      "Warning: Label not found for render8345.png\n",
      "Warning: Label not found for render3540.png\n",
      "Warning: Label not found for render4743.png\n",
      "Warning: Label not found for render2000.png\n",
      "Warning: Label not found for render1858.png\n",
      "Warning: Label not found for render9219.png\n",
      "Warning: Label not found for render0913.png\n",
      "Warning: Label not found for render3542.png\n",
      "Warning: Label not found for render1258.png\n",
      "Warning: Label not found for render2782.png\n",
      "Warning: Label not found for render1766.png\n",
      "Warning: Label not found for render4937.png\n",
      "Warning: Label not found for render3517.png\n",
      "Warning: Label not found for render3876.png\n",
      "Warning: Label not found for render0051.png\n",
      "Warning: Label not found for render4616.png\n",
      "Warning: Label not found for render0482.png\n",
      "Warning: Label not found for render7000.png\n",
      "Warning: Label not found for render8158.png\n",
      "Warning: Label not found for render5418.png\n",
      "Warning: Label not found for render9741.png\n",
      "Warning: Label not found for render4083.png\n",
      "Warning: Label not found for render6223.png\n",
      "Warning: Label not found for render2440.png\n",
      "Warning: Label not found for render4943.png\n",
      "Warning: Label not found for render0627.png\n",
      "Warning: Label not found for render7514.png\n",
      "Warning: Label not found for render2884.png\n",
      "Warning: Label not found for render2864.png\n",
      "Warning: Label not found for render1432.png\n",
      "Warning: Label not found for render6284.png\n",
      "Warning: Label not found for render8666.png\n",
      "Warning: Label not found for render1115.png\n",
      "Warning: Label not found for render8615.png\n",
      "Warning: Label not found for render0614.png\n",
      "Warning: Label not found for render2126.png\n",
      "Warning: Label not found for render1027.png\n",
      "Warning: Label not found for render4592.png\n",
      "Warning: Label not found for render5038.png\n",
      "Warning: Label not found for render4680.png\n",
      "Warning: Label not found for render4308.png\n",
      "Warning: Label not found for render8187.png\n",
      "Warning: Label not found for render7372.png\n",
      "Warning: Label not found for render6323.png\n",
      "Warning: Label not found for render1721.png\n",
      "Warning: Label not found for render0253.png\n",
      "Warning: Label not found for render8656.png\n",
      "Warning: Label not found for render7913.png\n",
      "Warning: Label not found for render0424.png\n",
      "Warning: Label not found for render4050.png\n",
      "Warning: Label not found for render3576.png\n",
      "Warning: Label not found for render3494.png\n",
      "Warning: Label not found for render5573.png\n",
      "Warning: Label not found for render9218.png\n",
      "Warning: Label not found for render1318.png\n",
      "Warning: Label not found for render9743.png\n",
      "Warning: Label not found for render1431.png\n",
      "Warning: Label not found for render2442.png\n",
      "Warning: Label not found for render2843.png\n",
      "Warning: Label not found for render1174.png\n",
      "Warning: Label not found for render7431.png\n",
      "Warning: Label not found for render9636.png\n",
      "Warning: Label not found for render5355.png\n",
      "Warning: Label not found for render1843.png\n",
      "Warning: Label not found for render7961.png\n",
      "Warning: Label not found for render7391.png\n",
      "Warning: Label not found for render1087.png\n",
      "Warning: Label not found for render2775.png\n",
      "Warning: Label not found for render2200.png\n",
      "Warning: Label not found for render6197.png\n",
      "Warning: Label not found for render5053.png\n",
      "Warning: Label not found for render8929.png\n",
      "Warning: Label not found for render3241.png\n",
      "Warning: Label not found for render1136.png\n",
      "Warning: Label not found for render9250.png\n",
      "Warning: Label not found for render8252.png\n",
      "Warning: Label not found for render0738.png\n",
      "Warning: Label not found for render3674.png\n",
      "Warning: Label not found for render9167.png\n",
      "Warning: Label not found for render6565.png\n",
      "Warning: Label not found for render7253.png\n",
      "Warning: Label not found for render3293.png\n",
      "Warning: Label not found for render0731.png\n",
      "Warning: Label not found for render3335.png\n",
      "Warning: Label not found for render1267.png\n",
      "Warning: Label not found for render9706.png\n",
      "Warning: Label not found for render1976.png\n",
      "Warning: Label not found for render8137.png\n",
      "Warning: Label not found for render2116.png\n",
      "Warning: Label not found for render1523.png\n",
      "Warning: Label not found for render6419.png\n",
      "Warning: Label not found for render3706.png\n",
      "Warning: Label not found for render2014.png\n",
      "Warning: Label not found for render7993.png\n",
      "Warning: Label not found for render3493.png\n",
      "Warning: Label not found for render9211.png\n",
      "Warning: Label not found for render4776.png\n",
      "Warning: Label not found for render9273.png\n",
      "Warning: Label not found for render3640.png\n",
      "Warning: Label not found for render8139.png\n",
      "Warning: Label not found for render7503.png\n",
      "Warning: Label not found for render2574.png\n",
      "Warning: Label not found for render3693.png\n",
      "Warning: Label not found for render6723.png\n",
      "Warning: Label not found for render6531.png\n",
      "Warning: Label not found for render6329.png\n",
      "Warning: Label not found for render7468.png\n",
      "Warning: Label not found for render9133.png\n",
      "Warning: Label not found for render5745.png\n",
      "Warning: Label not found for render2539.png\n",
      "Warning: Label not found for render9456.png\n",
      "Warning: Label not found for render3066.png\n",
      "Warning: Label not found for render8196.png\n",
      "Warning: Label not found for render0199.png\n",
      "Warning: Label not found for render5687.png\n",
      "Warning: Label not found for render6355.png\n",
      "Warning: Label not found for render0654.png\n",
      "Warning: Label not found for render4101.png\n",
      "Warning: Label not found for render5771.png\n",
      "Warning: Label not found for render7940.png\n",
      "Warning: Label not found for render3866.png\n",
      "Warning: Label not found for render4640.png\n",
      "Warning: Label not found for render8702.png\n",
      "Warning: Label not found for render6533.png\n",
      "Warning: Label not found for render5021.png\n",
      "Warning: Label not found for render7734.png\n",
      "Warning: Label not found for render7683.png\n",
      "Warning: Label not found for render3803.png\n",
      "Warning: Label not found for render6206.png\n",
      "Warning: Label not found for render2829.png\n",
      "Warning: Label not found for render3668.png\n",
      "Warning: Label not found for render7886.png\n",
      "Warning: Label not found for render8721.png\n",
      "Warning: Label not found for render0760.png\n",
      "Warning: Label not found for render8645.png\n",
      "Warning: Label not found for render8365.png\n",
      "Warning: Label not found for render2857.png\n",
      "Warning: Label not found for render2606.png\n",
      "Warning: Label not found for render5150.png\n",
      "Warning: Label not found for render6331.png\n",
      "Warning: Label not found for render9494.png\n",
      "Warning: Label not found for render5628.png\n",
      "Warning: Label not found for render7055.png\n",
      "Warning: Label not found for render0087.png\n",
      "Warning: Label not found for render3599.png\n",
      "Warning: Label not found for render1291.png\n",
      "Warning: Label not found for render1970.png\n",
      "Warning: Label not found for render4180.png\n",
      "Warning: Label not found for render1072.png\n",
      "Warning: Label not found for render4953.png\n",
      "Warning: Label not found for render2976.png\n",
      "Warning: Label not found for render9575.png\n",
      "Warning: Label not found for render5754.png\n",
      "Warning: Label not found for render2699.png\n",
      "Warning: Label not found for render3080.png\n",
      "Warning: Label not found for render1914.png\n",
      "Warning: Label not found for render9103.png\n",
      "Warning: Label not found for render0084.png\n",
      "Warning: Label not found for render4625.png\n",
      "Warning: Label not found for render3558.png\n",
      "Warning: Label not found for render8582.png\n",
      "Warning: Label not found for render0031.png\n",
      "Warning: Label not found for render8862.png\n",
      "Warning: Label not found for render9315.png\n",
      "Warning: Label not found for render3556.png\n",
      "Warning: Label not found for render7399.png\n",
      "Warning: Label not found for render5025.png\n",
      "Warning: Label not found for render0557.png\n",
      "Warning: Label not found for render4002.png\n",
      "Warning: Label not found for render0813.png\n",
      "Warning: Label not found for render7327.png\n",
      "Warning: Label not found for render6048.png\n",
      "Warning: Label not found for render9314.png\n",
      "Warning: Label not found for render7909.png\n",
      "Warning: Label not found for render4713.png\n",
      "Warning: Label not found for render7033.png\n",
      "Warning: Label not found for render0017.png\n",
      "Warning: Label not found for render8449.png\n",
      "Warning: Label not found for render3998.png\n",
      "Warning: Label not found for render7530.png\n",
      "Warning: Label not found for render2373.png\n",
      "Warning: Label not found for render0150.png\n",
      "Warning: Label not found for render4125.png\n",
      "Warning: Label not found for render6690.png\n",
      "Warning: Label not found for render9535.png\n",
      "Warning: Label not found for render9132.png\n",
      "Warning: Label not found for render1885.png\n",
      "Warning: Label not found for render4599.png\n",
      "Warning: Label not found for render6643.png\n",
      "Warning: Label not found for render1834.png\n",
      "Warning: Label not found for render6087.png\n",
      "Warning: Label not found for render8201.png\n",
      "Warning: Label not found for render6061.png\n",
      "Warning: Label not found for render6218.png\n",
      "Warning: Label not found for render1849.png\n",
      "Warning: Label not found for render6436.png\n",
      "Warning: Label not found for render5467.png\n",
      "Warning: Label not found for render7955.png\n",
      "Warning: Label not found for render1453.png\n",
      "Warning: Label not found for render6200.png\n",
      "Warning: Label not found for render0562.png\n",
      "Warning: Label not found for render5296.png\n",
      "Warning: Label not found for render5672.png\n",
      "Warning: Label not found for render0852.png\n",
      "Warning: Label not found for render6512.png\n",
      "Warning: Label not found for render3340.png\n",
      "Warning: Label not found for render2124.png\n",
      "Warning: Label not found for render0548.png\n",
      "Warning: Label not found for render0014.png\n",
      "Warning: Label not found for render5617.png\n",
      "Warning: Label not found for render1622.png\n",
      "Warning: Label not found for render7118.png\n",
      "Warning: Label not found for render3434.png\n",
      "Warning: Label not found for render1729.png\n",
      "Warning: Label not found for render0261.png\n",
      "Warning: Label not found for render9382.png\n",
      "Warning: Label not found for render2845.png\n",
      "Warning: Label not found for render2746.png\n",
      "Warning: Label not found for render3651.png\n",
      "Warning: Label not found for render6416.png\n",
      "Warning: Label not found for render3910.png\n",
      "Warning: Label not found for render7506.png\n",
      "Warning: Label not found for render1117.png\n",
      "Warning: Label not found for render2406.png\n",
      "Warning: Label not found for render4951.png\n",
      "Warning: Label not found for render8690.png\n",
      "Warning: Label not found for render1760.png\n",
      "Warning: Label not found for render3479.png\n",
      "Warning: Label not found for render8466.png\n",
      "Warning: Label not found for render2913.png\n",
      "Warning: Label not found for render6572.png\n",
      "Warning: Label not found for render5890.png\n",
      "Warning: Label not found for render3125.png\n",
      "Warning: Label not found for render1888.png\n",
      "Warning: Label not found for render5602.png\n",
      "Warning: Label not found for render1857.png\n",
      "Warning: Label not found for render7284.png\n",
      "Warning: Label not found for render7557.png\n",
      "Warning: Label not found for render4353.png\n",
      "Warning: Label not found for render0347.png\n",
      "Warning: Label not found for render7139.png\n",
      "Warning: Label not found for render9041.png\n",
      "Warning: Label not found for render0917.png\n",
      "Warning: Label not found for render4844.png\n",
      "Warning: Label not found for render6256.png\n",
      "Warning: Label not found for render9445.png\n",
      "Warning: Label not found for render6209.png\n",
      "Warning: Label not found for render5756.png\n",
      "Warning: Label not found for render8269.png\n",
      "Warning: Label not found for render0055.png\n",
      "Warning: Label not found for render3888.png\n",
      "Warning: Label not found for render6233.png\n",
      "Warning: Label not found for render7200.png\n",
      "Warning: Label not found for render4800.png\n",
      "Warning: Label not found for render2730.png\n",
      "Warning: Label not found for render0262.png\n",
      "Warning: Label not found for render1827.png\n",
      "Warning: Label not found for render5744.png\n",
      "Warning: Label not found for render5299.png\n",
      "Warning: Label not found for render3102.png\n",
      "Warning: Label not found for render5896.png\n",
      "Warning: Label not found for render7489.png\n",
      "Warning: Label not found for render0053.png\n",
      "Warning: Label not found for render0326.png\n",
      "Warning: Label not found for render0937.png\n",
      "Warning: Label not found for render9631.png\n",
      "Warning: Label not found for render9301.png\n",
      "Warning: Label not found for render5991.png\n",
      "Warning: Label not found for render1108.png\n",
      "Warning: Label not found for render9105.png\n",
      "Warning: Label not found for render8413.png\n",
      "Warning: Label not found for render7793.png\n",
      "Warning: Label not found for render7150.png\n",
      "Warning: Label not found for render5801.png\n",
      "Warning: Label not found for render2492.png\n",
      "Warning: Label not found for render4030.png\n",
      "Warning: Label not found for render8442.png\n",
      "Warning: Label not found for render4402.png\n",
      "Warning: Label not found for render2172.png\n",
      "Warning: Label not found for render5461.png\n",
      "Warning: Label not found for render7958.png\n",
      "Warning: Label not found for render8036.png\n",
      "Warning: Label not found for render0106.png\n",
      "Warning: Label not found for render3413.png\n",
      "Warning: Label not found for render1681.png\n",
      "Warning: Label not found for render8885.png\n",
      "Warning: Label not found for render6025.png\n",
      "Warning: Label not found for render1726.png\n",
      "Warning: Label not found for render4651.png\n",
      "Warning: Label not found for render7245.png\n",
      "Warning: Label not found for render3181.png\n",
      "Warning: Label not found for render9223.png\n",
      "Warning: Label not found for render9388.png\n",
      "Warning: Label not found for render4214.png\n",
      "Warning: Label not found for render9632.png\n",
      "Warning: Label not found for render6904.png\n",
      "Warning: Label not found for render3292.png\n",
      "Warning: Label not found for render8669.png\n",
      "Warning: Label not found for render6738.png\n",
      "Warning: Label not found for render6067.png\n",
      "Warning: Label not found for render5388.png\n",
      "Warning: Label not found for render5157.png\n",
      "Warning: Label not found for render1023.png\n",
      "Warning: Label not found for render7397.png\n",
      "Warning: Label not found for render3789.png\n",
      "Warning: Label not found for render1987.png\n",
      "Warning: Label not found for render3935.png\n",
      "Warning: Label not found for render5773.png\n",
      "Warning: Label not found for render3071.png\n",
      "Warning: Label not found for render7737.png\n",
      "Warning: Label not found for render0401.png\n",
      "Warning: Label not found for render5045.png\n",
      "Warning: Label not found for render6128.png\n",
      "Warning: Label not found for render0838.png\n",
      "Warning: Label not found for render2894.png\n",
      "Warning: Label not found for render7156.png\n",
      "Warning: Label not found for render3845.png\n",
      "Warning: Label not found for render3575.png\n",
      "Warning: Label not found for render8166.png\n",
      "Warning: Label not found for render0120.png\n",
      "Warning: Label not found for render6318.png\n",
      "Warning: Label not found for render5709.png\n",
      "Warning: Label not found for render2305.png\n",
      "Warning: Label not found for render5652.png\n",
      "Warning: Label not found for render3957.png\n",
      "Warning: Label not found for render9243.png\n",
      "Warning: Label not found for render6469.png\n",
      "Warning: Label not found for render9230.png\n",
      "Warning: Label not found for render3142.png\n",
      "Warning: Label not found for render0544.png\n",
      "Warning: Label not found for render8176.png\n",
      "Warning: Label not found for render8920.png\n",
      "Warning: Label not found for render7130.png\n",
      "Warning: Label not found for render8424.png\n",
      "Warning: Label not found for render9370.png\n",
      "Warning: Label not found for render2871.png\n",
      "Warning: Label not found for render2008.png\n",
      "Warning: Label not found for render7515.png\n",
      "Warning: Label not found for render9189.png\n",
      "Warning: Label not found for render4058.png\n",
      "Warning: Label not found for render3953.png\n",
      "Warning: Label not found for render5528.png\n",
      "Warning: Label not found for render1731.png\n",
      "Warning: Label not found for render3778.png\n",
      "Warning: Label not found for render2500.png\n",
      "Warning: Label not found for render8622.png\n",
      "Warning: Label not found for render6676.png\n",
      "Warning: Label not found for render9571.png\n",
      "Warning: Label not found for render8313.png\n",
      "Warning: Label not found for render6045.png\n",
      "Warning: Label not found for render2741.png\n",
      "Warning: Label not found for render3460.png\n",
      "Warning: Label not found for render3386.png\n",
      "Warning: Label not found for render9752.png\n",
      "Warning: Label not found for render9009.png\n",
      "Warning: Label not found for render3938.png\n",
      "Warning: Label not found for render3526.png\n",
      "Warning: Label not found for render0907.png\n",
      "Warning: Label not found for render6965.png\n",
      "Warning: Label not found for render7573.png\n",
      "Warning: Label not found for render7088.png\n",
      "Warning: Label not found for render9442.png\n",
      "Warning: Label not found for render9160.png\n",
      "Warning: Label not found for render4487.png\n",
      "Warning: Label not found for render0954.png\n",
      "Warning: Label not found for render8279.png\n",
      "Warning: Label not found for render5401.png\n",
      "Warning: Label not found for render2112.png\n",
      "Warning: Label not found for render2929.png\n",
      "Warning: Label not found for render0881.png\n",
      "Warning: Label not found for render5366.png\n",
      "Warning: Label not found for render4247.png\n",
      "Warning: Label not found for render5128.png\n",
      "Warning: Label not found for render9765.png\n",
      "Warning: Label not found for render8637.png\n",
      "Warning: Label not found for render1751.png\n",
      "Warning: Label not found for render2071.png\n",
      "Warning: Label not found for render5421.png\n",
      "Warning: Label not found for render6525.png\n",
      "Warning: Label not found for render5050.png\n",
      "Warning: Label not found for render9153.png\n",
      "Warning: Label not found for render3756.png\n",
      "Warning: Label not found for render8293.png\n",
      "Warning: Label not found for render1690.png\n",
      "Warning: Label not found for render8776.png\n",
      "Warning: Label not found for render7516.png\n",
      "Warning: Label not found for render8925.png\n",
      "Warning: Label not found for render5544.png\n",
      "Warning: Label not found for render0703.png\n",
      "Warning: Label not found for render5884.png\n",
      "Warning: Label not found for render9497.png\n",
      "Warning: Label not found for render8375.png\n",
      "Warning: Label not found for render1744.png\n",
      "Warning: Label not found for render3219.png\n",
      "Warning: Label not found for render6378.png\n",
      "Warning: Label not found for render5785.png\n",
      "Warning: Label not found for render2219.png\n",
      "Warning: Label not found for render1135.png\n",
      "Warning: Label not found for render7562.png\n",
      "Warning: Label not found for render8337.png\n",
      "Warning: Label not found for render1324.png\n",
      "Warning: Label not found for render1747.png\n",
      "Warning: Label not found for render6870.png\n",
      "Warning: Label not found for render7675.png\n",
      "Warning: Label not found for render8623.png\n",
      "Warning: Label not found for render2955.png\n",
      "Warning: Label not found for render5587.png\n",
      "Warning: Label not found for render0431.png\n",
      "Warning: Label not found for render2738.png\n",
      "Warning: Label not found for render6161.png\n",
      "Warning: Label not found for render2668.png\n",
      "Warning: Label not found for render0044.png\n",
      "Warning: Label not found for render3976.png\n",
      "Warning: Label not found for render1805.png\n",
      "Warning: Label not found for render6291.png\n",
      "Warning: Label not found for render4146.png\n",
      "Warning: Label not found for render2638.png\n",
      "Warning: Label not found for render0964.png\n",
      "Warning: Label not found for render2309.png\n",
      "Warning: Label not found for render2291.png\n",
      "Warning: Label not found for render7362.png\n",
      "Warning: Label not found for render5335.png\n",
      "Warning: Label not found for render7251.png\n",
      "Warning: Label not found for render3842.png\n",
      "Warning: Label not found for render5856.png\n",
      "Warning: Label not found for render2499.png\n",
      "Warning: Label not found for render1946.png\n",
      "Warning: Label not found for render7259.png\n",
      "Warning: Label not found for render6437.png\n",
      "Warning: Label not found for render9346.png\n",
      "Warning: Label not found for render2410.png\n",
      "Warning: Label not found for render3878.png\n",
      "Warning: Label not found for render5315.png\n",
      "Warning: Label not found for render7535.png\n",
      "Warning: Label not found for render0459.png\n",
      "Warning: Label not found for render1516.png\n",
      "Warning: Label not found for render3372.png\n",
      "Warning: Label not found for render4126.png\n",
      "Warning: Label not found for render8473.png\n",
      "Warning: Label not found for render0749.png\n",
      "Warning: Label not found for render9141.png\n",
      "Warning: Label not found for render5924.png\n",
      "Warning: Label not found for render4418.png\n",
      "Warning: Label not found for render6478.png\n",
      "Warning: Label not found for render3313.png\n",
      "Warning: Label not found for render6177.png\n",
      "Warning: Label not found for render3602.png\n",
      "Warning: Label not found for render8467.png\n",
      "Warning: Label not found for render6599.png\n",
      "Warning: Label not found for render0787.png\n",
      "Warning: Label not found for render3863.png\n",
      "Warning: Label not found for render3059.png\n",
      "Warning: Label not found for render2207.png\n",
      "Warning: Label not found for render8591.png\n",
      "Warning: Label not found for render2822.png\n",
      "Warning: Label not found for render7726.png\n",
      "Warning: Label not found for render5684.png\n",
      "Warning: Label not found for render7272.png\n",
      "Warning: Label not found for render8421.png\n",
      "Warning: Label not found for render3427.png\n",
      "Warning: Label not found for render0477.png\n",
      "Warning: Label not found for render6243.png\n",
      "Warning: Label not found for render8264.png\n",
      "Warning: Label not found for render3725.png\n",
      "Warning: Label not found for render5906.png\n",
      "Warning: Label not found for render9022.png\n",
      "Warning: Label not found for render9577.png\n",
      "Warning: Label not found for render0603.png\n",
      "Warning: Label not found for render7745.png\n",
      "Warning: Label not found for render8890.png\n",
      "Warning: Label not found for render1086.png\n",
      "Warning: Label not found for render9408.png\n",
      "Warning: Label not found for render7308.png\n",
      "Warning: Label not found for render4057.png\n",
      "Warning: Label not found for render6171.png\n",
      "Warning: Label not found for render2562.png\n",
      "Warning: Label not found for render7789.png\n",
      "Warning: Label not found for render1123.png\n",
      "Warning: Label not found for render8041.png\n",
      "Warning: Label not found for render4936.png\n",
      "Warning: Label not found for render8891.png\n",
      "Warning: Label not found for render3428.png\n",
      "Warning: Label not found for render9334.png\n",
      "Warning: Label not found for render3120.png\n",
      "Warning: Label not found for render9719.png\n",
      "Warning: Label not found for render0961.png\n",
      "Warning: Label not found for render4378.png\n",
      "Warning: Label not found for render0893.png\n",
      "Warning: Label not found for render4589.png\n",
      "Warning: Label not found for render7609.png\n",
      "Warning: Label not found for render3844.png\n",
      "Warning: Label not found for render2029.png\n",
      "Warning: Label not found for render7023.png\n",
      "Warning: Label not found for render1416.png\n",
      "Warning: Label not found for render5458.png\n",
      "Warning: Label not found for render1913.png\n",
      "Warning: Label not found for render4325.png\n",
      "Warning: Label not found for render6036.png\n",
      "Warning: Label not found for render3060.png\n",
      "Warning: Label not found for render1327.png\n",
      "Warning: Label not found for render0579.png\n",
      "Warning: Label not found for render0694.png\n",
      "Warning: Label not found for render3553.png\n",
      "Warning: Label not found for render5473.png\n",
      "Warning: Label not found for render0381.png\n",
      "Warning: Label not found for render8124.png\n",
      "Warning: Label not found for render3966.png\n",
      "Warning: Label not found for render6706.png\n",
      "Warning: Label not found for render8256.png\n",
      "Warning: Label not found for render0148.png\n",
      "Warning: Label not found for render2514.png\n",
      "Warning: Label not found for render8435.png\n",
      "Warning: Label not found for render2209.png\n",
      "Warning: Label not found for render2625.png\n",
      "Warning: Label not found for render5234.png\n",
      "Warning: Label not found for render2567.png\n",
      "Warning: Label not found for render5074.png\n",
      "Warning: Label not found for render3685.png\n",
      "Warning: Label not found for render7458.png\n",
      "Warning: Label not found for render8689.png\n",
      "Warning: Label not found for render1534.png\n",
      "Warning: Label not found for render1386.png\n",
      "Warning: Label not found for render9576.png\n",
      "Warning: Label not found for render4379.png\n",
      "Warning: Label not found for render0816.png\n",
      "Warning: Label not found for render3495.png\n",
      "Warning: Label not found for render7009.png\n",
      "Warning: Label not found for render4532.png\n",
      "Warning: Label not found for render6356.png\n",
      "Warning: Label not found for render3945.png\n",
      "Warning: Label not found for render0474.png\n",
      "Warning: Label not found for render2622.png\n",
      "Warning: Label not found for render5115.png\n",
      "Warning: Label not found for render5566.png\n",
      "Warning: Label not found for render4537.png\n",
      "Warning: Label not found for render9528.png\n",
      "Warning: Label not found for render4001.png\n",
      "Warning: Label not found for render1025.png\n",
      "Warning: Label not found for render9319.png\n",
      "Warning: Label not found for render2016.png\n",
      "Warning: Label not found for render0527.png\n",
      "Warning: Label not found for render5329.png\n",
      "Warning: Label not found for render0680.png\n",
      "Warning: Label not found for render0641.png\n",
      "Warning: Label not found for render8979.png\n",
      "Warning: Label not found for render4973.png\n",
      "Warning: Label not found for render9617.png\n",
      "Warning: Label not found for render5964.png\n",
      "Warning: Label not found for render4511.png\n",
      "Warning: Label not found for render3461.png\n",
      "Warning: Label not found for render5641.png\n",
      "Warning: Label not found for render0173.png\n",
      "Warning: Label not found for render9707.png\n",
      "Warning: Label not found for render7370.png\n",
      "Warning: Label not found for render0517.png\n",
      "Warning: Label not found for render8107.png\n",
      "Warning: Label not found for render0903.png\n",
      "Warning: Label not found for render1656.png\n",
      "Warning: Label not found for render8102.png\n",
      "Warning: Label not found for render4062.png\n",
      "Warning: Label not found for render7037.png\n",
      "Warning: Label not found for render5655.png\n",
      "Warning: Label not found for render0385.png\n",
      "Warning: Label not found for render0272.png\n",
      "Warning: Label not found for render8634.png\n",
      "Warning: Label not found for render2797.png\n",
      "Warning: Label not found for render2766.png\n",
      "Warning: Label not found for render7619.png\n",
      "Warning: Label not found for render9023.png\n",
      "Warning: Label not found for render6698.png\n",
      "Warning: Label not found for render7045.png\n",
      "Warning: Label not found for render5657.png\n",
      "Warning: Label not found for render4174.png\n",
      "Warning: Label not found for render6869.png\n",
      "Warning: Label not found for render8866.png\n",
      "Warning: Label not found for render2218.png\n",
      "Warning: Label not found for render8595.png\n",
      "Warning: Label not found for render4890.png\n",
      "Warning: Label not found for render1037.png\n",
      "Warning: Label not found for render6590.png\n",
      "Warning: Label not found for render5537.png\n",
      "Warning: Label not found for render1337.png\n",
      "Warning: Label not found for render4556.png\n",
      "Warning: Label not found for render4367.png\n",
      "Warning: Label not found for render8125.png\n",
      "Warning: Label not found for render8364.png\n",
      "Warning: Label not found for render6854.png\n",
      "Warning: Label not found for render6597.png\n",
      "Warning: Label not found for render7183.png\n",
      "Warning: Label not found for render8948.png\n",
      "Warning: Label not found for render5071.png\n",
      "Warning: Label not found for render9172.png\n",
      "Warning: Label not found for render6139.png\n",
      "Warning: Label not found for render1983.png\n",
      "Warning: Label not found for render4099.png\n",
      "Warning: Label not found for render5700.png\n",
      "Warning: Label not found for render2928.png\n",
      "Warning: Label not found for render1492.png\n",
      "Warning: Label not found for render4728.png\n",
      "Warning: Label not found for render9419.png\n",
      "Warning: Label not found for render9583.png\n",
      "Warning: Label not found for render1608.png\n",
      "Warning: Label not found for render3083.png\n",
      "Warning: Label not found for render5921.png\n",
      "Warning: Label not found for render4296.png\n",
      "Warning: Label not found for render3850.png\n",
      "Warning: Label not found for render3256.png\n",
      "Warning: Label not found for render8070.png\n",
      "Warning: Label not found for render6004.png\n",
      "Warning: Label not found for render6722.png\n",
      "Warning: Label not found for render0647.png\n",
      "Warning: Label not found for render7872.png\n",
      "Warning: Label not found for render6547.png\n",
      "Warning: Label not found for render3694.png\n",
      "Warning: Label not found for render5530.png\n",
      "Warning: Label not found for render2170.png\n",
      "Warning: Label not found for render6588.png\n",
      "Warning: Label not found for render8894.png\n",
      "Warning: Label not found for render6402.png\n",
      "Warning: Label not found for render8892.png\n",
      "Warning: Label not found for render8432.png\n",
      "Warning: Label not found for render0865.png\n",
      "Warning: Label not found for render5828.png\n",
      "Warning: Label not found for render2033.png\n",
      "Warning: Label not found for render8573.png\n",
      "Warning: Label not found for render7750.png\n",
      "Warning: Label not found for render4932.png\n",
      "Warning: Label not found for render7826.png\n",
      "Warning: Label not found for render8952.png\n",
      "Warning: Label not found for render2064.png\n",
      "Warning: Label not found for render8569.png\n",
      "Warning: Label not found for render6895.png\n",
      "Warning: Label not found for render0317.png\n",
      "Warning: Label not found for render5941.png\n",
      "Warning: Label not found for render8879.png\n",
      "Warning: Label not found for render4358.png\n",
      "Warning: Label not found for render3567.png\n",
      "Warning: Label not found for render7848.png\n",
      "Warning: Label not found for render0219.png\n",
      "Warning: Label not found for render8677.png\n",
      "Warning: Label not found for render1611.png\n",
      "Warning: Label not found for render0115.png\n",
      "Warning: Label not found for render7445.png\n",
      "Warning: Label not found for render0010.png\n",
      "Warning: Label not found for render3436.png\n",
      "Warning: Label not found for render3481.png\n",
      "Warning: Label not found for render6277.png\n",
      "Warning: Label not found for render0470.png\n",
      "Warning: Label not found for render4538.png\n",
      "Warning: Label not found for render7671.png\n",
      "Warning: Label not found for render7905.png\n",
      "Warning: Label not found for render9173.png\n",
      "Warning: Label not found for render0258.png\n",
      "Warning: Label not found for render3195.png\n",
      "Warning: Label not found for render1204.png\n",
      "Warning: Label not found for render9732.png\n",
      "Warning: Label not found for render0862.png\n",
      "Warning: Label not found for render5953.png\n",
      "Warning: Label not found for render7333.png\n",
      "Warning: Label not found for render6940.png\n",
      "Warning: Label not found for render6479.png\n",
      "Warning: Label not found for render8701.png\n",
      "Warning: Label not found for render4916.png\n",
      "Warning: Label not found for render7335.png\n",
      "Warning: Label not found for render0360.png\n",
      "Warning: Label not found for render5680.png\n",
      "Warning: Label not found for render1104.png\n",
      "Warning: Label not found for render5735.png\n",
      "Warning: Label not found for render7941.png\n",
      "Warning: Label not found for render9352.png\n",
      "Warning: Label not found for render7659.png\n",
      "Warning: Label not found for render5255.png\n",
      "Warning: Label not found for render6973.png\n",
      "Warning: Label not found for render8407.png\n",
      "Warning: Label not found for render8061.png\n",
      "Warning: Label not found for render6375.png\n",
      "Warning: Label not found for render2516.png\n",
      "Warning: Label not found for render7287.png\n",
      "Warning: Label not found for render7476.png\n",
      "Warning: Label not found for render5994.png\n",
      "Warning: Label not found for render6556.png\n",
      "Warning: Label not found for render0020.png\n",
      "Warning: Label not found for render5171.png\n",
      "Warning: Label not found for render3983.png\n",
      "Warning: Label not found for render5308.png\n",
      "Warning: Label not found for render1713.png\n",
      "Warning: Label not found for render8782.png\n",
      "Warning: Label not found for render1166.png\n",
      "Warning: Label not found for render6537.png\n",
      "Warning: Label not found for render6003.png\n",
      "Warning: Label not found for render7461.png\n",
      "Warning: Label not found for render7578.png\n",
      "Warning: Label not found for render0054.png\n",
      "Warning: Label not found for render5286.png\n",
      "Warning: Label not found for render1992.png\n",
      "Warning: Label not found for render2299.png\n",
      "Warning: Label not found for render3565.png\n",
      "Warning: Label not found for render6309.png\n",
      "Warning: Label not found for render9763.png\n",
      "Warning: Label not found for render5829.png\n",
      "Warning: Label not found for render5334.png\n",
      "Warning: Label not found for render5847.png\n",
      "Warning: Label not found for render5351.png\n",
      "Warning: Label not found for render8113.png\n",
      "Warning: Label not found for render0335.png\n",
      "Warning: Label not found for render3767.png\n",
      "Warning: Label not found for render2594.png\n",
      "Warning: Label not found for render4121.png\n",
      "Warning: Label not found for render7682.png\n",
      "Warning: Label not found for render4206.png\n",
      "Warning: Label not found for render3577.png\n",
      "Warning: Label not found for render8978.png\n",
      "Warning: Label not found for render4339.png\n",
      "Warning: Label not found for render6403.png\n",
      "Warning: Label not found for render9350.png\n",
      "Warning: Label not found for render5242.png\n",
      "Warning: Label not found for render8174.png\n",
      "Warning: Label not found for render4866.png\n",
      "Warning: Label not found for render1905.png\n",
      "Warning: Label not found for render7641.png\n",
      "Warning: Label not found for render0022.png\n",
      "Warning: Label not found for render0825.png\n",
      "Warning: Label not found for render0981.png\n",
      "Warning: Label not found for render2561.png\n",
      "Warning: Label not found for render1335.png\n",
      "Warning: Label not found for render8338.png\n",
      "Warning: Label not found for render4634.png\n",
      "Warning: Label not found for render0483.png\n",
      "Warning: Label not found for render3363.png\n",
      "Warning: Label not found for render1628.png\n",
      "Warning: Label not found for render3728.png\n",
      "Warning: Label not found for render9581.png\n",
      "Warning: Label not found for render3689.png\n",
      "Warning: Label not found for render5858.png\n",
      "Warning: Label not found for render3210.png\n",
      "Warning: Label not found for render8524.png\n",
      "Warning: Label not found for render7052.png\n",
      "Warning: Label not found for render3369.png\n",
      "Warning: Label not found for render3529.png\n",
      "Warning: Label not found for render2922.png\n",
      "Warning: Label not found for render2937.png\n",
      "Warning: Label not found for render6782.png\n",
      "Warning: Label not found for render2325.png\n",
      "Warning: Label not found for render6468.png\n",
      "Warning: Label not found for render1638.png\n",
      "Warning: Label not found for render6351.png\n",
      "Warning: Label not found for render4303.png\n",
      "Warning: Label not found for render4761.png\n",
      "Warning: Label not found for render1226.png\n",
      "Warning: Label not found for render9017.png\n",
      "Warning: Label not found for render0732.png\n",
      "Warning: Label not found for render9208.png\n",
      "Warning: Label not found for render0504.png\n",
      "Warning: Label not found for render4857.png\n",
      "Warning: Label not found for render3124.png\n",
      "Warning: Label not found for render4048.png\n",
      "Warning: Label not found for render2621.png\n",
      "Warning: Label not found for render5443.png\n",
      "Warning: Label not found for render5702.png\n",
      "Warning: Label not found for render4717.png\n",
      "Warning: Label not found for render8696.png\n",
      "Warning: Label not found for render0472.png\n",
      "Warning: Label not found for render8584.png\n",
      "Warning: Label not found for render3014.png\n",
      "Warning: Label not found for render4401.png\n",
      "Warning: Label not found for render2235.png\n",
      "Warning: Label not found for render5546.png\n",
      "Warning: Label not found for render3226.png\n",
      "Warning: Label not found for render7430.png\n",
      "Warning: Label not found for render6269.png\n",
      "Warning: Label not found for render2037.png\n",
      "Warning: Label not found for render7349.png\n",
      "Warning: Label not found for render5190.png\n",
      "Warning: Label not found for render8225.png\n",
      "Warning: Label not found for render3224.png\n",
      "Warning: Label not found for render8007.png\n",
      "Warning: Label not found for render3054.png\n",
      "Warning: Label not found for render2694.png\n",
      "Warning: Label not found for render8565.png\n",
      "Warning: Label not found for render7271.png\n",
      "Warning: Label not found for render7332.png\n",
      "Warning: Label not found for render9376.png\n",
      "Warning: Label not found for render9092.png\n",
      "Warning: Label not found for render0718.png\n",
      "Warning: Label not found for render6121.png\n",
      "Warning: Label not found for render6097.png\n",
      "Warning: Label not found for render1557.png\n",
      "Warning: Label not found for render4066.png\n",
      "Warning: Label not found for render2527.png\n",
      "Warning: Label not found for render1257.png\n",
      "Warning: Label not found for render4615.png\n",
      "Warning: Label not found for render0666.png\n",
      "Warning: Label not found for render6463.png\n",
      "Warning: Label not found for render9304.png\n",
      "Warning: Label not found for render6910.png\n",
      "Warning: Label not found for render5011.png\n",
      "Warning: Label not found for render7006.png\n",
      "Warning: Label not found for render7193.png\n",
      "Warning: Label not found for render3905.png\n",
      "Warning: Label not found for render2672.png\n",
      "Warning: Label not found for render5666.png\n",
      "Warning: Label not found for render6306.png\n",
      "Warning: Label not found for render3748.png\n",
      "Warning: Label not found for render2258.png\n",
      "Warning: Label not found for render5789.png\n",
      "Warning: Label not found for render7794.png\n",
      "Warning: Label not found for render1503.png\n",
      "Warning: Label not found for render9356.png\n",
      "Warning: Label not found for render1959.png\n",
      "Warning: Label not found for render5698.png\n",
      "Warning: Label not found for render0030.png\n",
      "Warning: Label not found for render0236.png\n",
      "Warning: Label not found for render8742.png\n",
      "Warning: Label not found for render5711.png\n",
      "Warning: Label not found for render0490.png\n",
      "Warning: Label not found for render8064.png\n",
      "Warning: Label not found for render6162.png\n",
      "Warning: Label not found for render4085.png\n",
      "Warning: Label not found for render2783.png\n",
      "Warning: Label not found for render0239.png\n",
      "Warning: Label not found for render2952.png\n",
      "Warning: Label not found for render5151.png\n",
      "Warning: Label not found for render8221.png\n",
      "Warning: Label not found for render0555.png\n",
      "Warning: Label not found for render4499.png\n",
      "Warning: Label not found for render8683.png\n",
      "Warning: Label not found for render8254.png\n",
      "Warning: Label not found for render6198.png\n",
      "Warning: Label not found for render7296.png\n",
      "Warning: Label not found for render8831.png\n",
      "Warning: Label not found for render9079.png\n",
      "Warning: Label not found for render4695.png\n",
      "Warning: Label not found for render3898.png\n",
      "Warning: Label not found for render8865.png\n",
      "Warning: Label not found for render7083.png\n",
      "Warning: Label not found for render9292.png\n",
      "Warning: Label not found for render1449.png\n",
      "Warning: Label not found for render5092.png\n",
      "Warning: Label not found for render0145.png\n",
      "Warning: Label not found for render2067.png\n",
      "Warning: Label not found for render0692.png\n",
      "Warning: Label not found for render0453.png\n",
      "Warning: Label not found for render4995.png\n",
      "Warning: Label not found for render6863.png\n",
      "Warning: Label not found for render9618.png\n",
      "Warning: Label not found for render5873.png\n",
      "Warning: Label not found for render1126.png\n",
      "Warning: Label not found for render7182.png\n",
      "Warning: Label not found for render0940.png\n",
      "Warning: Label not found for render2714.png\n",
      "Warning: Label not found for render1119.png\n",
      "Warning: Label not found for render2727.png\n",
      "Warning: Label not found for render3852.png\n",
      "Warning: Label not found for render9221.png\n",
      "Warning: Label not found for render3127.png\n",
      "Warning: Label not found for render5029.png\n",
      "Warning: Label not found for render4734.png\n",
      "Warning: Label not found for render6700.png\n",
      "Warning: Label not found for render9509.png\n",
      "Warning: Label not found for render2970.png\n",
      "Warning: Label not found for render5079.png\n",
      "Warning: Label not found for render8336.png\n",
      "Warning: Label not found for render5810.png\n",
      "Warning: Label not found for render1870.png\n",
      "Warning: Label not found for render8105.png\n",
      "Warning: Label not found for render0513.png\n",
      "Warning: Label not found for render8969.png\n",
      "Warning: Label not found for render2292.png\n",
      "Warning: Label not found for render5706.png\n",
      "Warning: Label not found for render5886.png\n",
      "Warning: Label not found for render1260.png\n",
      "Warning: Label not found for render0516.png\n",
      "Warning: Label not found for render8544.png\n",
      "Warning: Label not found for render3520.png\n",
      "Warning: Label not found for render2515.png\n",
      "Warning: Label not found for render1350.png\n",
      "Warning: Label not found for render1506.png\n",
      "Warning: Label not found for render3464.png\n",
      "Warning: Label not found for render2497.png\n",
      "Warning: Label not found for render3527.png\n",
      "Warning: Label not found for render5449.png\n",
      "Warning: Label not found for render6204.png\n",
      "Warning: Label not found for render2175.png\n",
      "Warning: Label not found for render0701.png\n",
      "Warning: Label not found for render0985.png\n",
      "Warning: Label not found for render9267.png\n",
      "Warning: Label not found for render5539.png\n",
      "Warning: Label not found for render8529.png\n",
      "Warning: Label not found for render8059.png\n",
      "Warning: Label not found for render6030.png\n",
      "Warning: Label not found for render5645.png\n",
      "Warning: Label not found for render2483.png\n",
      "Warning: Label not found for render8730.png\n",
      "Warning: Label not found for render5462.png\n",
      "Warning: Label not found for render1816.png\n",
      "Warning: Label not found for render8434.png\n",
      "Warning: Label not found for render4029.png\n",
      "Warning: Label not found for render2438.png\n",
      "Warning: Label not found for render0229.png\n",
      "Warning: Label not found for render9182.png\n",
      "Warning: Label not found for render1990.png\n",
      "Warning: Label not found for render0073.png\n",
      "Warning: Label not found for render5760.png\n",
      "Warning: Label not found for render5341.png\n",
      "Warning: Label not found for render3299.png\n",
      "Warning: Label not found for render4156.png\n",
      "Warning: Label not found for render0460.png\n",
      "Warning: Label not found for render6808.png\n",
      "Warning: Label not found for render1981.png\n",
      "Warning: Label not found for render6118.png\n",
      "Warning: Label not found for render2061.png\n",
      "Warning: Label not found for render9542.png\n",
      "Warning: Label not found for render5036.png\n",
      "Warning: Label not found for render1965.png\n",
      "Warning: Label not found for render3914.png\n",
      "Warning: Label not found for render0536.png\n",
      "Warning: Label not found for render0177.png\n",
      "Warning: Label not found for render9660.png\n",
      "Warning: Label not found for render6201.png\n",
      "Warning: Label not found for render7467.png\n",
      "Warning: Label not found for render9073.png\n",
      "Warning: Label not found for render2127.png\n",
      "Warning: Label not found for render2545.png\n",
      "Warning: Label not found for render4758.png\n",
      "Warning: Label not found for render2365.png\n",
      "Warning: Label not found for render4859.png\n",
      "Warning: Label not found for render3798.png\n",
      "Warning: Label not found for render2018.png\n",
      "Warning: Label not found for render9449.png\n",
      "Warning: Label not found for render4269.png\n",
      "Warning: Label not found for render1220.png\n",
      "Warning: Label not found for render4868.png\n",
      "Warning: Label not found for render1829.png\n",
      "Warning: Label not found for render1696.png\n",
      "Warning: Label not found for render0018.png\n",
      "Warning: Label not found for render7757.png\n",
      "Warning: Label not found for render0129.png\n",
      "Warning: Label not found for render3441.png\n",
      "Warning: Label not found for render9735.png\n",
      "Warning: Label not found for render3746.png\n",
      "Warning: Label not found for render1347.png\n",
      "Warning: Label not found for render2422.png\n",
      "Warning: Label not found for render6850.png\n",
      "Warning: Label not found for render9146.png\n",
      "Warning: Label not found for render0203.png\n",
      "Warning: Label not found for render3978.png\n",
      "Warning: Label not found for render7019.png\n",
      "Warning: Label not found for render1839.png\n",
      "Warning: Label not found for render8028.png\n",
      "Warning: Label not found for render4955.png\n",
      "Warning: Label not found for render3135.png\n",
      "Warning: Label not found for render8498.png\n",
      "Warning: Label not found for render0848.png\n",
      "Warning: Label not found for render7132.png\n",
      "Warning: Label not found for render9083.png\n",
      "Warning: Label not found for render2277.png\n",
      "Warning: Label not found for render0931.png\n",
      "Warning: Label not found for render1225.png\n",
      "Warning: Label not found for render7013.png\n",
      "Warning: Label not found for render8131.png\n",
      "Warning: Label not found for render4223.png\n",
      "Warning: Label not found for render9067.png\n",
      "Warning: Label not found for render8619.png\n",
      "Warning: Label not found for render2477.png\n",
      "Warning: Label not found for render8736.png\n",
      "Warning: Label not found for render8396.png\n",
      "Warning: Label not found for render0411.png\n",
      "Warning: Label not found for render1192.png\n",
      "Warning: Label not found for render3090.png\n",
      "Warning: Label not found for render6620.png\n",
      "Warning: Label not found for render4137.png\n",
      "Warning: Label not found for render2837.png\n",
      "Warning: Label not found for render0471.png\n",
      "Warning: Label not found for render9616.png\n",
      "Warning: Label not found for render2017.png\n",
      "Warning: Label not found for render6399.png\n",
      "Warning: Label not found for render2266.png\n",
      "Warning: Label not found for render0534.png\n",
      "Warning: Label not found for render3912.png\n",
      "Warning: Label not found for render9548.png\n",
      "Warning: Label not found for render9438.png\n",
      "Warning: Label not found for render7221.png\n",
      "Warning: Label not found for render0782.png\n",
      "Warning: Label not found for render3232.png\n",
      "Warning: Label not found for render7464.png\n",
      "Warning: Label not found for render8372.png\n",
      "Warning: Label not found for render7614.png\n",
      "Warning: Label not found for render0344.png\n",
      "Warning: Label not found for render1728.png\n",
      "Warning: Label not found for render8661.png\n",
      "Warning: Label not found for render7784.png\n",
      "Warning: Label not found for render6650.png\n",
      "Warning: Label not found for render4745.png\n",
      "Warning: Label not found for render9426.png\n",
      "Warning: Label not found for render6149.png\n",
      "Warning: Label not found for render3382.png\n",
      "Warning: Label not found for render1222.png\n",
      "Warning: Label not found for render9197.png\n",
      "Warning: Label not found for render1450.png\n",
      "Warning: Label not found for render6761.png\n",
      "Warning: Label not found for render9721.png\n",
      "Warning: Label not found for render9097.png\n",
      "Warning: Label not found for render7902.png\n",
      "Warning: Label not found for render4686.png\n",
      "Warning: Label not found for render9525.png\n",
      "Warning: Label not found for render1365.png\n",
      "Warning: Label not found for render1412.png\n",
      "Warning: Label not found for render8708.png\n",
      "Warning: Label not found for render4366.png\n",
      "Warning: Label not found for render4021.png\n",
      "Warning: Label not found for render1223.png\n",
      "Warning: Label not found for render6876.png\n",
      "Warning: Label not found for render7813.png\n",
      "Warning: Label not found for render1880.png\n",
      "Warning: Label not found for render1831.png\n",
      "Warning: Label not found for render4330.png\n",
      "Warning: Label not found for render7650.png\n",
      "Warning: Label not found for render8376.png\n",
      "Warning: Label not found for render9740.png\n",
      "Warning: Label not found for render6010.png\n",
      "Warning: Label not found for render4355.png\n",
      "Warning: Label not found for render1356.png\n",
      "Warning: Label not found for render7046.png\n",
      "Warning: Label not found for render3233.png\n",
      "Warning: Label not found for render0004.png\n",
      "Warning: Label not found for render4957.png\n",
      "Warning: Label not found for render9369.png\n",
      "Warning: Label not found for render5881.png\n",
      "Warning: Label not found for render3394.png\n",
      "Warning: Label not found for render4595.png\n",
      "Warning: Label not found for render9147.png\n",
      "Warning: Label not found for render0806.png\n",
      "Warning: Label not found for render2866.png\n",
      "Warning: Label not found for render2935.png\n",
      "Warning: Label not found for render7966.png\n",
      "Warning: Label not found for render5512.png\n",
      "Warning: Label not found for render9748.png\n",
      "Warning: Label not found for render1695.png\n",
      "Warning: Label not found for render5511.png\n",
      "Warning: Label not found for render2302.png\n",
      "Warning: Label not found for render2636.png\n",
      "Warning: Label not found for render6916.png\n",
      "Warning: Label not found for render0301.png\n",
      "Warning: Label not found for render9545.png\n",
      "Warning: Label not found for render0623.png\n",
      "Warning: Label not found for render2471.png\n",
      "Warning: Label not found for render0761.png\n",
      "Warning: Label not found for render7777.png\n",
      "Warning: Label not found for render7147.png\n",
      "Warning: Label not found for render8904.png\n",
      "Warning: Label not found for render8961.png\n",
      "Warning: Label not found for render3161.png\n",
      "Warning: Label not found for render6415.png\n",
      "Warning: Label not found for render9700.png\n",
      "Warning: Label not found for render9251.png\n",
      "Warning: Label not found for render4318.png\n",
      "Warning: Label not found for render3417.png\n",
      "Warning: Label not found for render2577.png\n",
      "Warning: Label not found for render1626.png\n",
      "Warning: Label not found for render9348.png\n",
      "Warning: Label not found for render4610.png\n",
      "Warning: Label not found for render6797.png\n",
      "Warning: Label not found for render2375.png\n",
      "Warning: Label not found for render5110.png\n",
      "Warning: Label not found for render4368.png\n",
      "Warning: Label not found for render7522.png\n",
      "Warning: Label not found for render1586.png\n",
      "Warning: Label not found for render0965.png\n",
      "Warning: Label not found for render3321.png\n",
      "Warning: Label not found for render5140.png\n",
      "Warning: Label not found for render6703.png\n",
      "Warning: Label not found for render0740.png\n",
      "Warning: Label not found for render3284.png\n",
      "Warning: Label not found for render2099.png\n",
      "Warning: Label not found for render4413.png\n",
      "Warning: Label not found for render8814.png\n",
      "Warning: Label not found for render3913.png\n",
      "Warning: Label not found for render5839.png\n",
      "Warning: Label not found for render1153.png\n",
      "Warning: Label not found for render7389.png\n",
      "Warning: Label not found for render5797.png\n",
      "Warning: Label not found for render6542.png\n",
      "Warning: Label not found for render0367.png\n",
      "Warning: Label not found for render4689.png\n",
      "Warning: Label not found for render9668.png\n",
      "Warning: Label not found for render5611.png\n",
      "Warning: Label not found for render7211.png\n",
      "Warning: Label not found for render2424.png\n",
      "Warning: Label not found for render1442.png\n",
      "Warning: Label not found for render8654.png\n",
      "Warning: Label not found for render4772.png\n",
      "Warning: Label not found for render4809.png\n",
      "Warning: Label not found for render0211.png\n",
      "Warning: Label not found for render5023.png\n",
      "Warning: Label not found for render3610.png\n",
      "Warning: Label not found for render1659.png\n",
      "Warning: Label not found for render1993.png\n",
      "Warning: Label not found for render8924.png\n",
      "Warning: Label not found for render1046.png\n",
      "Warning: Label not found for render7234.png\n",
      "Warning: Label not found for render5184.png\n",
      "Warning: Label not found for render8668.png\n",
      "Warning: Label not found for render7084.png\n",
      "Warning: Label not found for render8991.png\n",
      "Warning: Label not found for render6902.png\n",
      "Warning: Label not found for render6883.png\n",
      "Warning: Label not found for render4190.png\n",
      "Warning: Label not found for render7282.png\n",
      "Warning: Label not found for render8910.png\n",
      "Warning: Label not found for render1736.png\n",
      "Warning: Label not found for render3496.png\n",
      "Warning: Label not found for render8052.png\n",
      "Warning: Label not found for render5977.png\n",
      "Warning: Label not found for render4571.png\n",
      "Warning: Label not found for render3204.png\n",
      "Warning: Label not found for render6300.png\n",
      "Warning: Label not found for render4883.png\n",
      "Warning: Label not found for render3551.png\n",
      "Warning: Label not found for render5044.png\n",
      "Warning: Label not found for render2692.png\n",
      "Warning: Label not found for render9309.png\n",
      "Warning: Label not found for render5497.png\n",
      "Warning: Label not found for render3235.png\n",
      "Warning: Label not found for render0159.png\n",
      "Warning: Label not found for render4731.png\n",
      "Warning: Label not found for render9245.png\n",
      "Warning: Label not found for render3843.png\n",
      "Warning: Label not found for render4967.png\n",
      "Warning: Label not found for render3831.png\n",
      "Warning: Label not found for render6057.png\n",
      "Warning: Label not found for render4244.png\n",
      "Warning: Label not found for render2321.png\n",
      "Warning: Label not found for render9306.png\n",
      "Warning: Label not found for render9745.png\n",
      "Warning: Label not found for render0484.png\n",
      "Warning: Label not found for render4921.png\n",
      "Warning: Label not found for render6760.png\n",
      "Warning: Label not found for render3881.png\n",
      "Warning: Label not found for render3512.png\n",
      "Warning: Label not found for render0528.png\n",
      "Warning: Label not found for render7686.png\n",
      "Warning: Label not found for render3073.png\n",
      "Warning: Label not found for render5499.png\n",
      "Warning: Label not found for render1764.png\n",
      "Warning: Label not found for render7396.png\n",
      "Warning: Label not found for render8889.png\n",
      "Warning: Label not found for render1742.png\n",
      "Warning: Label not found for render2815.png\n",
      "Warning: Label not found for render7440.png\n",
      "Warning: Label not found for render2153.png\n",
      "Warning: Label not found for render2323.png\n",
      "Warning: Label not found for render2080.png\n",
      "Warning: Label not found for render9200.png\n",
      "Warning: Label not found for render4377.png\n",
      "Warning: Label not found for render7102.png\n",
      "Warning: Label not found for render5291.png\n",
      "Warning: Label not found for render3990.png\n",
      "Warning: Label not found for render7428.png\n",
      "Warning: Label not found for render8664.png\n",
      "Warning: Label not found for render6056.png\n",
      "Warning: Label not found for render7077.png\n",
      "Warning: Label not found for render4106.png\n",
      "Warning: Label not found for render2382.png\n",
      "Warning: Label not found for render3157.png\n",
      "Warning: Label not found for render7401.png\n",
      "Warning: Label not found for render1494.png\n",
      "Warning: Label not found for render1620.png\n",
      "Warning: Label not found for render5985.png\n",
      "Warning: Label not found for render2329.png\n",
      "Warning: Label not found for render3921.png\n",
      "Warning: Label not found for render0176.png\n",
      "Warning: Label not found for render3902.png\n",
      "Warning: Label not found for render7952.png\n",
      "Warning: Label not found for render3446.png\n",
      "Warning: Label not found for render7982.png\n",
      "Warning: Label not found for render1910.png\n",
      "Warning: Label not found for render6507.png\n",
      "Warning: Label not found for render3513.png\n",
      "Warning: Label not found for render0814.png\n",
      "Warning: Label not found for render3836.png\n",
      "Warning: Label not found for render3021.png\n",
      "Warning: Label not found for render6432.png\n",
      "Warning: Label not found for render5869.png\n",
      "Warning: Label not found for render0339.png\n",
      "Warning: Label not found for render6583.png\n",
      "Warning: Label not found for render1277.png\n",
      "Warning: Label not found for render3057.png\n",
      "Warning: Label not found for render6806.png\n",
      "Warning: Label not found for render3635.png\n",
      "Warning: Label not found for render3673.png\n",
      "Warning: Label not found for render6875.png\n",
      "Warning: Label not found for render5751.png\n",
      "Warning: Label not found for render3029.png\n",
      "Warning: Label not found for render4435.png\n",
      "Warning: Label not found for render7427.png\n",
      "Warning: Label not found for render8658.png\n",
      "Warning: Label not found for render6008.png\n",
      "Warning: Label not found for render2655.png\n",
      "Warning: Label not found for render5433.png\n",
      "Warning: Label not found for render2844.png\n",
      "Warning: Label not found for render8004.png\n",
      "Warning: Label not found for render4204.png\n",
      "Warning: Label not found for render0442.png\n",
      "Warning: Label not found for render1642.png\n",
      "Warning: Label not found for render8760.png\n",
      "Warning: Label not found for render7394.png\n",
      "Warning: Label not found for render0832.png\n",
      "Warning: Label not found for render0545.png\n",
      "Warning: Label not found for render6414.png\n",
      "Warning: Label not found for render0729.png\n",
      "Warning: Label not found for render7699.png\n",
      "Warning: Label not found for render7762.png\n",
      "Warning: Label not found for render5182.png\n",
      "Warning: Label not found for render1112.png\n",
      "Warning: Label not found for render1353.png\n",
      "Warning: Label not found for render8472.png\n",
      "Warning: Label not found for render7042.png\n",
      "Warning: Label not found for render2681.png\n",
      "Warning: Label not found for render6770.png\n",
      "Warning: Label not found for render3937.png\n",
      "Warning: Label not found for render2791.png\n",
      "Warning: Label not found for render2320.png\n",
      "Warning: Label not found for render7294.png\n",
      "Warning: Label not found for render3683.png\n",
      "Warning: Label not found for render6219.png\n",
      "Warning: Label not found for render9615.png\n",
      "Warning: Label not found for render2247.png\n",
      "Warning: Label not found for render6431.png\n",
      "Warning: Label not found for render5878.png\n",
      "Warning: Label not found for render3510.png\n",
      "Warning: Label not found for render1390.png\n",
      "Warning: Label not found for render3421.png\n",
      "Warning: Label not found for render6524.png\n",
      "Warning: Label not found for render7983.png\n",
      "Warning: Label not found for render3174.png\n",
      "Warning: Label not found for render5390.png\n",
      "Warning: Label not found for render1904.png\n",
      "Warning: Label not found for render1476.png\n",
      "Warning: Label not found for render1644.png\n",
      "Warning: Label not found for render0444.png\n",
      "Warning: Label not found for render0561.png\n",
      "Warning: Label not found for render0279.png\n",
      "Warning: Label not found for render7709.png\n",
      "Warning: Label not found for render0169.png\n",
      "Warning: Label not found for render6952.png\n",
      "Warning: Label not found for render7616.png\n",
      "Warning: Label not found for render1551.png\n",
      "Warning: Label not found for render5619.png\n",
      "Warning: Label not found for render1440.png\n",
      "Warning: Label not found for render5919.png\n",
      "Warning: Label not found for render3324.png\n",
      "Warning: Label not found for render5239.png\n",
      "Warning: Label not found for render6343.png\n",
      "Warning: Label not found for render8215.png\n",
      "Warning: Label not found for render4837.png\n",
      "Warning: Label not found for render3187.png\n",
      "Warning: Label not found for render5534.png\n",
      "Warning: Label not found for render1034.png\n",
      "Warning: Label not found for render1052.png\n",
      "Warning: Label not found for render6382.png\n",
      "Warning: Label not found for render4720.png\n",
      "Warning: Label not found for render1067.png\n",
      "Warning: Label not found for render6181.png\n",
      "Warning: Label not found for render4899.png\n",
      "Warning: Label not found for render4641.png\n",
      "Warning: Label not found for render9557.png\n",
      "Warning: Label not found for render4741.png\n",
      "Warning: Label not found for render0466.png\n",
      "Warning: Label not found for render3787.png\n",
      "Warning: Label not found for render2327.png\n",
      "Warning: Label not found for render4878.png\n",
      "Warning: Label not found for render7520.png\n",
      "Warning: Label not found for render2101.png\n",
      "Warning: Label not found for render7861.png\n",
      "Warning: Label not found for render4786.png\n",
      "Warning: Label not found for render7839.png\n",
      "Warning: Label not found for render3150.png\n",
      "Warning: Label not found for render7059.png\n",
      "Warning: Label not found for render8758.png\n",
      "Warning: Label not found for render0672.png\n",
      "Warning: Label not found for render4630.png\n",
      "Warning: Label not found for render7267.png\n",
      "Warning: Label not found for render8601.png\n",
      "Warning: Label not found for render6550.png\n",
      "Warning: Label not found for render1826.png\n",
      "Warning: Label not found for render9416.png\n",
      "Warning: Label not found for render4488.png\n",
      "Warning: Label not found for render9673.png\n",
      "Warning: Label not found for render5982.png\n",
      "Warning: Label not found for render3218.png\n",
      "Warning: Label not found for render4867.png\n",
      "Warning: Label not found for render6586.png\n",
      "Warning: Label not found for render5360.png\n",
      "Warning: Label not found for render4711.png\n",
      "Warning: Label not found for render9676.png\n",
      "Warning: Label not found for render0313.png\n",
      "Warning: Label not found for render9659.png\n",
      "Warning: Label not found for render9398.png\n",
      "Warning: Label not found for render3927.png\n",
      "Warning: Label not found for render5097.png\n",
      "Warning: Label not found for render4434.png\n",
      "Warning: Label not found for render2849.png\n",
      "Warning: Label not found for render6494.png\n",
      "Warning: Label not found for render8807.png\n",
      "Warning: Label not found for render1876.png\n",
      "Warning: Label not found for render2623.png\n",
      "Warning: Label not found for render1901.png\n",
      "Warning: Label not found for render8907.png\n",
      "Warning: Label not found for render7770.png\n",
      "Warning: Label not found for render5039.png\n",
      "Warning: Label not found for render1875.png\n",
      "Warning: Label not found for render8728.png\n",
      "Warning: Label not found for render1512.png\n",
      "Warning: Label not found for render4086.png\n",
      "Warning: Label not found for render8725.png\n",
      "Warning: Label not found for render0724.png\n",
      "Warning: Label not found for render3101.png\n",
      "Warning: Label not found for render8168.png\n",
      "Warning: Label not found for render4792.png\n",
      "Warning: Label not found for render8571.png\n",
      "Warning: Label not found for render7903.png\n",
      "Warning: Label not found for render5838.png\n",
      "Warning: Label not found for render4239.png\n",
      "Warning: Label not found for render6041.png\n",
      "Warning: Label not found for render4082.png\n",
      "Warning: Label not found for render9372.png\n",
      "Warning: Label not found for render6335.png\n",
      "Warning: Label not found for render7485.png\n",
      "Warning: Label not found for render0827.png\n",
      "Warning: Label not found for render2317.png\n",
      "Warning: Label not found for render6490.png\n",
      "Warning: Label not found for render1458.png\n",
      "Warning: Label not found for render7661.png\n",
      "Warning: Label not found for render0676.png\n",
      "Warning: Label not found for render2038.png\n",
      "Warning: Label not found for render2178.png\n",
      "Warning: Label not found for render5610.png\n",
      "Warning: Label not found for render9227.png\n",
      "Warning: Label not found for render0649.png\n",
      "Warning: Label not found for render2378.png\n",
      "Warning: Label not found for render5478.png\n",
      "Warning: Label not found for render6729.png\n",
      "Warning: Label not found for render7116.png\n",
      "Warning: Label not found for render5119.png\n",
      "Warning: Label not found for render0255.png\n",
      "Warning: Label not found for render9667.png\n",
      "Warning: Label not found for render4893.png\n",
      "Warning: Label not found for render3830.png\n",
      "Warning: Label not found for render2607.png\n",
      "Warning: Label not found for render2719.png\n",
      "Warning: Label not found for render6697.png\n",
      "Warning: Label not found for render0594.png\n",
      "Warning: Label not found for render5136.png\n",
      "Warning: Label not found for render1549.png\n",
      "Warning: Label not found for render8329.png\n",
      "Warning: Label not found for render6157.png\n",
      "Warning: Label not found for render6070.png\n",
      "Warning: Label not found for render1853.png\n",
      "Warning: Label not found for render0991.png\n",
      "Warning: Label not found for render9751.png\n",
      "Warning: Label not found for render6566.png\n",
      "Warning: Label not found for render4150.png\n",
      "Warning: Label not found for render4011.png\n",
      "Warning: Label not found for render7574.png\n",
      "Warning: Label not found for render8250.png\n",
      "Warning: Label not found for render3975.png\n",
      "Warning: Label not found for render2582.png\n",
      "Warning: Label not found for render2187.png\n",
      "Warning: Label not found for render2847.png\n",
      "Warning: Label not found for render7097.png\n",
      "Warning: Label not found for render9714.png\n",
      "Warning: Label not found for render6573.png\n",
      "Warning: Label not found for render2599.png\n",
      "Warning: Label not found for render8088.png\n",
      "Warning: Label not found for render0877.png\n",
      "Warning: Label not found for render1667.png\n",
      "Warning: Label not found for render8213.png\n",
      "Warning: Label not found for render9492.png\n",
      "Warning: Label not found for render4629.png\n",
      "Warning: Label not found for render3466.png\n",
      "Warning: Label not found for render9215.png\n",
      "Warning: Label not found for render2933.png\n",
      "Warning: Label not found for render6853.png\n",
      "Warning: Label not found for render4617.png\n",
      "Warning: Label not found for render3274.png\n",
      "Warning: Label not found for render7901.png\n",
      "Warning: Label not found for render6185.png\n",
      "Warning: Label not found for render9686.png\n",
      "Warning: Label not found for render2069.png\n",
      "Warning: Label not found for render6724.png\n",
      "Warning: Label not found for render6214.png\n",
      "Warning: Label not found for render3091.png\n",
      "Warning: Label not found for render7473.png\n",
      "Warning: Label not found for render1587.png\n",
      "Warning: Label not found for render2869.png\n",
      "Warning: Label not found for render9195.png\n",
      "Warning: Label not found for render2879.png\n",
      "Warning: Label not found for render0616.png\n",
      "Warning: Label not found for render8136.png\n",
      "Warning: Label not found for render1438.png\n",
      "Warning: Label not found for render0166.png\n",
      "Warning: Label not found for render4133.png\n",
      "Warning: Label not found for render7103.png\n",
      "Warning: Label not found for render7972.png\n",
      "Warning: Label not found for render0853.png\n",
      "Warning: Label not found for render2632.png\n",
      "Warning: Label not found for render1569.png\n",
      "Warning: Label not found for render3956.png\n",
      "Warning: Label not found for render4288.png\n",
      "Warning: Label not found for render4613.png\n",
      "Warning: Label not found for render8152.png\n",
      "Warning: Label not found for render5073.png\n",
      "Warning: Label not found for render8374.png\n",
      "Warning: Label not found for render5493.png\n",
      "Warning: Label not found for render8520.png\n",
      "Warning: Label not found for render0245.png\n",
      "Warning: Label not found for render5776.png\n",
      "Warning: Label not found for render7078.png\n",
      "Warning: Label not found for render0686.png\n",
      "Warning: Label not found for render4114.png\n",
      "Warning: Label not found for render9136.png\n",
      "Warning: Label not found for render8378.png\n",
      "Warning: Label not found for render0822.png\n",
      "Warning: Label not found for render5633.png\n",
      "Warning: Label not found for render8235.png\n",
      "Warning: Label not found for render0766.png\n",
      "Warning: Label not found for render5084.png\n",
      "Warning: Label not found for render0427.png\n",
      "Warning: Label not found for render6458.png\n",
      "Warning: Label not found for render6464.png\n",
      "Warning: Label not found for render4642.png\n",
      "Warning: Label not found for render4457.png\n",
      "Warning: Label not found for render8075.png\n",
      "Warning: Label not found for render0405.png\n",
      "Warning: Label not found for render7943.png\n",
      "Warning: Label not found for render2380.png\n",
      "Warning: Label not found for render3205.png\n",
      "Warning: Label not found for render2549.png\n",
      "Warning: Label not found for render4009.png\n",
      "Warning: Label not found for render1746.png\n",
      "Warning: Label not found for render9257.png\n",
      "Warning: Label not found for render4853.png\n",
      "Warning: Label not found for render5570.png\n",
      "Warning: Label not found for render6267.png\n",
      "Warning: Label not found for render2860.png\n",
      "Warning: Label not found for render3010.png\n",
      "Warning: Label not found for render4677.png\n",
      "Warning: Label not found for render2225.png\n",
      "Warning: Label not found for render9177.png\n",
      "Warning: Label not found for render7618.png\n",
      "Warning: Label not found for render1424.png\n",
      "Warning: Label not found for render8145.png\n",
      "Warning: Label not found for render6150.png\n",
      "Warning: Label not found for render7442.png\n",
      "Warning: Label not found for render4380.png\n",
      "Warning: Label not found for render7110.png\n",
      "Warning: Label not found for render2598.png\n",
      "Warning: Label not found for render8394.png\n",
      "Warning: Label not found for render3297.png\n",
      "Warning: Label not found for render0060.png\n",
      "Warning: Label not found for render1302.png\n",
      "Warning: Label not found for render0025.png\n",
      "Warning: Label not found for render4744.png\n",
      "Warning: Label not found for render2079.png\n",
      "Warning: Label not found for render4383.png\n",
      "Warning: Label not found for render9106.png\n",
      "Warning: Label not found for render3655.png\n",
      "Warning: Label not found for render2133.png\n",
      "Warning: Label not found for render4145.png\n",
      "Warning: Label not found for render0927.png\n",
      "Warning: Label not found for render8307.png\n",
      "Warning: Label not found for render5398.png\n",
      "Warning: Label not found for render4299.png\n",
      "Warning: Label not found for render8454.png\n",
      "Warning: Label not found for render0505.png\n",
      "Warning: Label not found for render8794.png\n",
      "Warning: Label not found for render9678.png\n",
      "Warning: Label not found for render7834.png\n",
      "Warning: Label not found for render4714.png\n",
      "Warning: Label not found for render0891.png\n",
      "Warning: Label not found for render8739.png\n",
      "Warning: Label not found for render4128.png\n",
      "Warning: Label not found for render5857.png\n",
      "Warning: Label not found for render5304.png\n",
      "Warning: Label not found for render0404.png\n",
      "Warning: Label not found for render5677.png\n",
      "Warning: Label not found for render1096.png\n",
      "Warning: Label not found for render6476.png\n",
      "Warning: Label not found for render3424.png\n",
      "Warning: Label not found for render0873.png\n",
      "Warning: Label not found for render2459.png\n",
      "Warning: Label not found for render8037.png\n",
      "Warning: Label not found for render1689.png\n",
      "Warning: Label not found for render5621.png\n",
      "Warning: Label not found for render8733.png\n",
      "Warning: Label not found for render7649.png\n",
      "Warning: Label not found for render3200.png\n",
      "Warning: Label not found for render6945.png\n",
      "Warning: Label not found for render1363.png\n",
      "Warning: Label not found for render3368.png\n",
      "Warning: Label not found for render5131.png\n",
      "Warning: Label not found for render1392.png\n",
      "Warning: Label not found for render2078.png\n",
      "Warning: Label not found for render4886.png\n",
      "Warning: Label not found for render9724.png\n",
      "Warning: Label not found for render7190.png\n",
      "Warning: Label not found for render2255.png\n",
      "Warning: Label not found for render3818.png\n",
      "Warning: Label not found for render0314.png\n",
      "Warning: Label not found for render2858.png\n",
      "Warning: Label not found for render7477.png\n",
      "Warning: Label not found for render6120.png\n",
      "Warning: Label not found for render4458.png\n",
      "Warning: Label not found for render0972.png\n",
      "Warning: Label not found for render2462.png\n",
      "Warning: Label not found for render5287.png\n",
      "Warning: Label not found for render7711.png\n",
      "Warning: Label not found for render0802.png\n",
      "Warning: Label not found for render9587.png\n",
      "Warning: Label not found for render0799.png\n",
      "Warning: Label not found for render8253.png\n",
      "Warning: Label not found for render4780.png\n",
      "Warning: Label not found for render4055.png\n",
      "Warning: Label not found for render7637.png\n",
      "Warning: Label not found for render2612.png\n",
      "Warning: Label not found for render6387.png\n",
      "Warning: Label not found for render3606.png\n",
      "Warning: Label not found for render1868.png\n",
      "Warning: Label not found for render4277.png\n",
      "Warning: Label not found for render2965.png\n",
      "Warning: Label not found for render9572.png\n",
      "Warning: Label not found for render8789.png\n",
      "Warning: Label not found for render6541.png\n",
      "Warning: Label not found for render9228.png\n",
      "Warning: Label not found for render1821.png\n",
      "Warning: Label not found for render1414.png\n",
      "Warning: Label not found for render1521.png\n",
      "Warning: Label not found for render2083.png\n",
      "Warning: Label not found for render1828.png\n",
      "Warning: Label not found for render1678.png\n",
      "Warning: Label not found for render3484.png\n",
      "Warning: Label not found for render7638.png\n",
      "Warning: Label not found for render0416.png\n",
      "Warning: Label not found for render6651.png\n",
      "Warning: Label not found for render9672.png\n",
      "Warning: Label not found for render5553.png\n",
      "Warning: Label not found for render8210.png\n",
      "Warning: Label not found for render3022.png\n",
      "Warning: Label not found for render1470.png\n",
      "Warning: Label not found for render9605.png\n",
      "Warning: Label not found for render9008.png\n",
      "Warning: Label not found for render0329.png\n",
      "Warning: Label not found for render2304.png\n",
      "Warning: Label not found for render2478.png\n",
      "Warning: Label not found for render1653.png\n",
      "Warning: Label not found for render4095.png\n",
      "Warning: Label not found for render5686.png\n",
      "Warning: Label not found for render8029.png\n",
      "Warning: Label not found for render1856.png\n",
      "Warning: Label not found for render6777.png\n",
      "Warning: Label not found for render4783.png\n",
      "Warning: Label not found for render7441.png\n",
      "Warning: Label not found for render1547.png\n",
      "Warning: Label not found for render8398.png\n",
      "Warning: Label not found for render3619.png\n",
      "Warning: Label not found for render8224.png\n",
      "Warning: Label not found for render9589.png\n",
      "Warning: Label not found for render8121.png\n",
      "Warning: Label not found for render3183.png\n",
      "Warning: Label not found for render1113.png\n",
      "Warning: Label not found for render5168.png\n",
      "Warning: Label not found for render3501.png\n",
      "Warning: Label not found for render4467.png\n",
      "Warning: Label not found for render4705.png\n",
      "Warning: Label not found for render9569.png\n",
      "Warning: Label not found for render8246.png\n",
      "Warning: Label not found for render3749.png\n",
      "Warning: Label not found for render8553.png\n",
      "Warning: Label not found for render6611.png\n",
      "Warning: Label not found for render3909.png\n",
      "Warning: Label not found for render8755.png\n",
      "Warning: Label not found for render7665.png\n",
      "Warning: Label not found for render0097.png\n",
      "Warning: Label not found for render9470.png\n",
      "Warning: Label not found for render4038.png\n",
      "Warning: Label not found for render7492.png\n",
      "Warning: Label not found for render8362.png\n",
      "Warning: Label not found for render4034.png\n",
      "Warning: Label not found for render7602.png\n",
      "Warning: Label not found for render6274.png\n",
      "Warning: Label not found for render7644.png\n",
      "Warning: Label not found for render5606.png\n",
      "Warning: Label not found for render2818.png\n",
      "Warning: Label not found for render3245.png\n",
      "Warning: Label not found for render4110.png\n",
      "Warning: Label not found for render0781.png\n",
      "Warning: Label not found for render4385.png\n",
      "Warning: Label not found for render9423.png\n",
      "Warning: Label not found for render6510.png\n",
      "Warning: Label not found for render2399.png\n",
      "Warning: Label not found for render7504.png\n",
      "Warning: Label not found for render2152.png\n",
      "Warning: Label not found for render6089.png\n",
      "Warning: Label not found for render1385.png\n",
      "Warning: Label not found for render5667.png\n",
      "Warning: Label not found for render0371.png\n",
      "Warning: Label not found for render4549.png\n",
      "Warning: Label not found for render2685.png\n",
      "Warning: Label not found for render1248.png\n",
      "Warning: Label not found for render3764.png\n",
      "Warning: Label not found for render2295.png\n",
      "Warning: Label not found for render0175.png\n",
      "Warning: Label not found for render4522.png\n",
      "Warning: Label not found for render8085.png\n",
      "Warning: Label not found for render2981.png\n",
      "Warning: Label not found for render0956.png\n",
      "Warning: Label not found for render2641.png\n",
      "Warning: Label not found for render6062.png\n",
      "Warning: Label not found for render5442.png\n",
      "Warning: Label not found for render0921.png\n",
      "Warning: Label not found for render4230.png\n",
      "Warning: Label not found for render9609.png\n",
      "Warning: Label not found for render3020.png\n",
      "Warning: Label not found for render3873.png\n",
      "Warning: Label not found for render2177.png\n",
      "Warning: Label not found for render2075.png\n",
      "Warning: Label not found for render2904.png\n",
      "Warning: Label not found for render7452.png\n",
      "Warning: Label not found for render7807.png\n",
      "Warning: Label not found for render8447.png\n",
      "Warning: Label not found for render6235.png\n",
      "Warning: Label not found for render6753.png\n",
      "Warning: Label not found for render1716.png\n",
      "Warning: Label not found for render9252.png\n",
      "Warning: Label not found for render3243.png\n",
      "Warning: Label not found for render4462.png\n",
      "Warning: Label not found for render0948.png\n",
      "Warning: Label not found for render7029.png\n",
      "Warning: Label not found for render9651.png\n",
      "Warning: Label not found for render4834.png\n",
      "Warning: Label not found for render1007.png\n",
      "Warning: Label not found for render6903.png\n",
      "Warning: Label not found for render7434.png\n",
      "Warning: Label not found for render8402.png\n",
      "Warning: Label not found for render6076.png\n",
      "Warning: Label not found for render1771.png\n",
      "Warning: Label not found for render2735.png\n",
      "Warning: Label not found for render9293.png\n",
      "Warning: Label not found for render0338.png\n",
      "Warning: Label not found for render9722.png\n",
      "Warning: Label not found for render2801.png\n",
      "Warning: Label not found for render1953.png\n",
      "Warning: Label not found for render8162.png\n",
      "Warning: Label not found for render4322.png\n",
      "Warning: Label not found for render1639.png\n",
      "Warning: Label not found for render6086.png\n",
      "Warning: Label not found for render1980.png\n",
      "Warning: Label not found for render8135.png\n",
      "Warning: Label not found for render8012.png\n",
      "Warning: Label not found for render7710.png\n",
      "Warning: Label not found for render2403.png\n",
      "Warning: Label not found for render3492.png\n",
      "Warning: Label not found for render2755.png\n",
      "Warning: Label not found for render5260.png\n",
      "Warning: Label not found for render8416.png\n",
      "Warning: Label not found for render7057.png\n",
      "Warning: Label not found for render1345.png\n",
      "Warning: Label not found for render0790.png\n",
      "Warning: Label not found for render7959.png\n",
      "Warning: Label not found for render6613.png\n",
      "Warning: Label not found for render7775.png\n",
      "Warning: Label not found for render9593.png\n",
      "Warning: Label not found for render2885.png\n",
      "Warning: Label not found for render0908.png\n",
      "Warning: Label not found for render6064.png\n",
      "Warning: Label not found for render3212.png\n",
      "Warning: Label not found for render6545.png\n",
      "Warning: Label not found for render4750.png\n",
      "Warning: Label not found for render4453.png\n",
      "Warning: Label not found for render0234.png\n",
      "Warning: Label not found for render7326.png\n",
      "Warning: Label not found for render2646.png\n",
      "Warning: Label not found for render5098.png\n",
      "Warning: Label not found for render4192.png\n",
      "Warning: Label not found for render4041.png\n",
      "Warning: Label not found for render4871.png\n",
      "Warning: Label not found for render0369.png\n",
      "Warning: Label not found for render8296.png\n",
      "Warning: Label not found for render1615.png\n",
      "Warning: Label not found for render3963.png\n",
      "Warning: Label not found for render4766.png\n",
      "Warning: Label not found for render1084.png\n",
      "Warning: Label not found for render7910.png\n",
      "Warning: Label not found for render2243.png\n",
      "Warning: Label not found for render2168.png\n",
      "Warning: Label not found for render4623.png\n",
      "Warning: Label not found for render7260.png\n",
      "Warning: Label not found for render7145.png\n",
      "Warning: Label not found for render3593.png\n",
      "Warning: Label not found for render2642.png\n",
      "Warning: Label not found for render7384.png\n",
      "Warning: Label not found for render1948.png\n",
      "Warning: Label not found for render4828.png\n",
      "Warning: Label not found for render5381.png\n",
      "Warning: Label not found for render9400.png\n",
      "Warning: Label not found for render9590.png\n",
      "Warning: Label not found for render9368.png\n",
      "Warning: Label not found for render5396.png\n",
      "Warning: Label not found for render7518.png\n",
      "Warning: Label not found for render4632.png\n",
      "Warning: Label not found for render8532.png\n",
      "Warning: Label not found for render4838.png\n",
      "Warning: Label not found for render6593.png\n",
      "Warning: Label not found for render0112.png\n",
      "Warning: Label not found for render7728.png\n",
      "Warning: Label not found for render1233.png\n",
      "Warning: Label not found for render3405.png\n",
      "Warning: Label not found for render5195.png\n",
      "Warning: Label not found for render7566.png\n",
      "Warning: Label not found for render0834.png\n",
      "Warning: Label not found for render1573.png\n",
      "Warning: Label not found for render4139.png\n",
      "Warning: Label not found for render7291.png\n",
      "Warning: Label not found for render0181.png\n",
      "Warning: Label not found for render1514.png\n",
      "Warning: Label not found for render3969.png\n",
      "Warning: Label not found for render5746.png\n",
      "Warning: Label not found for render4988.png\n",
      "Warning: Label not found for render6409.png\n",
      "Warning: Label not found for render2051.png\n",
      "Warning: Label not found for render1006.png\n",
      "Warning: Label not found for render7735.png\n",
      "Warning: Label not found for render3158.png\n",
      "Warning: Label not found for render3616.png\n",
      "Warning: Label not found for render3221.png\n",
      "Warning: Label not found for render1719.png\n",
      "Warning: Label not found for render7666.png\n",
      "Warning: Label not found for render9592.png\n",
      "Warning: Label not found for render2994.png\n",
      "Warning: Label not found for render1677.png\n",
      "Warning: Label not found for render0622.png\n",
      "Warning: Label not found for render7231.png\n",
      "Warning: Label not found for render2893.png\n",
      "Warning: Label not found for render7731.png\n",
      "Warning: Label not found for render3402.png\n",
      "Warning: Label not found for render9185.png\n",
      "Warning: Label not found for render7053.png\n",
      "Warning: Label not found for render4027.png\n",
      "Warning: Label not found for render7552.png\n",
      "Warning: Label not found for render1272.png\n",
      "Warning: Label not found for render9069.png\n",
      "Warning: Label not found for render7432.png\n",
      "Warning: Label not found for render6328.png\n",
      "Warning: Label not found for render2985.png\n",
      "Warning: Label not found for render0590.png\n",
      "Warning: Label not found for render8439.png\n",
      "Warning: Label not found for render1229.png\n",
      "Warning: Label not found for render5885.png\n",
      "Warning: Label not found for render4682.png\n",
      "Warning: Label not found for render9155.png\n",
      "Warning: Label not found for render5827.png\n",
      "Warning: Label not found for render8777.png\n",
      "Warning: Label not found for render6103.png\n",
      "Warning: Label not found for render8537.png\n",
      "Warning: Label not found for render2081.png\n",
      "Warning: Label not found for render8515.png\n",
      "Warning: Label not found for render8972.png\n",
      "Warning: Label not found for render6930.png\n",
      "Warning: Label not found for render6783.png\n",
      "Warning: Label not found for render8280.png\n",
      "Warning: Label not found for render2556.png\n",
      "Warning: Label not found for render6176.png\n",
      "Warning: Label not found for render8069.png\n",
      "Warning: Label not found for render3736.png\n",
      "Warning: Label not found for render6874.png\n",
      "Warning: Label not found for render3422.png\n",
      "Warning: Label not found for render8589.png\n",
      "Warning: Label not found for render8816.png\n",
      "Warning: Label not found for render2333.png\n",
      "Warning: Label not found for render9016.png\n",
      "Warning: Label not found for render6897.png\n",
      "Warning: Label not found for render9578.png\n",
      "Warning: Label not found for render5670.png\n",
      "Warning: Label not found for render2825.png\n",
      "Warning: Label not found for render2650.png\n",
      "Warning: Label not found for render7942.png\n",
      "Warning: Label not found for render3068.png\n",
      "Warning: Label not found for render5989.png\n",
      "Warning: Label not found for render9574.png\n",
      "Warning: Label not found for render6766.png\n",
      "Warning: Label not found for render0248.png\n",
      "Warning: Label not found for render7946.png\n",
      "Warning: Label not found for render8873.png\n",
      "Warning: Label not found for render8412.png\n",
      "Warning: Label not found for render0210.png\n",
      "Warning: Label not found for render5134.png\n",
      "Warning: Label not found for render7833.png\n",
      "Warning: Label not found for render5057.png\n",
      "Warning: Label not found for render2517.png\n",
      "Warning: Label not found for render6066.png\n",
      "Warning: Label not found for render4908.png\n",
      "Warning: Label not found for render5207.png\n",
      "Warning: Label not found for render5215.png\n",
      "Warning: Label not found for render4172.png\n",
      "Warning: Label not found for render9175.png\n",
      "Warning: Label not found for render2449.png\n",
      "Warning: Label not found for render8649.png\n",
      "Warning: Label not found for render9747.png\n",
      "Warning: Label not found for render2072.png\n",
      "Warning: Label not found for render8751.png\n",
      "Warning: Label not found for render7040.png\n",
      "Warning: Label not found for render6052.png\n",
      "Warning: Label not found for render0722.png\n",
      "Warning: Label not found for render5164.png\n",
      "Warning: Label not found for render6395.png\n",
      "Warning: Label not found for render4840.png\n",
      "Warning: Label not found for render6818.png\n",
      "Warning: Label not found for render1997.png\n",
      "Warning: Label not found for render4696.png\n",
      "Warning: Label not found for render4264.png\n",
      "Warning: Label not found for render0678.png\n",
      "Warning: Label not found for render6776.png\n",
      "Warning: Label not found for render2479.png\n",
      "Warning: Label not found for render4497.png\n",
      "Warning: Label not found for render8494.png\n",
      "Warning: Label not found for render1030.png\n",
      "Warning: Label not found for render2557.png\n",
      "Warning: Label not found for render6154.png\n",
      "Warning: Label not found for render1399.png\n",
      "Warning: Label not found for render0849.png\n",
      "Warning: Label not found for render3568.png\n",
      "Warning: Label not found for render7798.png\n",
      "Warning: Label not found for render1504.png\n",
      "Warning: Label not found for render1602.png\n",
      "Warning: Label not found for render1623.png\n",
      "Warning: Label not found for render7979.png\n",
      "Warning: Label not found for render0785.png\n",
      "Warning: Label not found for render9242.png\n",
      "Warning: Label not found for render8709.png\n",
      "Warning: Label not found for render3889.png\n",
      "Warning: Label not found for render7888.png\n",
      "Warning: Label not found for render8470.png\n",
      "Warning: Label not found for render5459.png\n",
      "Warning: Label not found for render9152.png\n",
      "Warning: Label not found for render3285.png\n",
      "Warning: Label not found for render6461.png\n",
      "Warning: Label not found for render0294.png\n",
      "Warning: Label not found for render4213.png\n",
      "Warning: Label not found for render2193.png\n",
      "Warning: Label not found for render1261.png\n",
      "Warning: Label not found for render1999.png\n",
      "Warning: Label not found for render8917.png\n",
      "Warning: Label not found for render0809.png\n",
      "Warning: Label not found for render7345.png\n",
      "Warning: Label not found for render2723.png\n",
      "Warning: Label not found for render9646.png\n",
      "Warning: Label not found for render3280.png\n",
      "Warning: Label not found for render5141.png\n",
      "Warning: Label not found for render6702.png\n",
      "Warning: Label not found for render5656.png\n",
      "Warning: Label not found for render7243.png\n",
      "Warning: Label not found for render3897.png\n",
      "Warning: Label not found for render8508.png\n",
      "Warning: Label not found for render6371.png\n",
      "Warning: Label not found for render6504.png\n",
      "Warning: Label not found for render4491.png\n",
      "Warning: Label not found for render7976.png\n",
      "Warning: Label not found for render7051.png\n",
      "Warning: Label not found for render8644.png\n",
      "Warning: Label not found for render1143.png\n",
      "Warning: Label not found for render9529.png\n",
      "Warning: Label not found for render1650.png\n",
      "Warning: Label not found for render4072.png\n",
      "Warning: Label not found for render7478.png\n",
      "Warning: Label not found for render1218.png\n",
      "Warning: Label not found for render3078.png\n",
      "Warning: Label not found for render4008.png\n",
      "Warning: Label not found for render4823.png\n",
      "Warning: Label not found for render9553.png\n",
      "Warning: Label not found for render9670.png\n",
      "Warning: Label not found for render3502.png\n",
      "Warning: Label not found for render7306.png\n",
      "Warning: Label not found for render9621.png\n",
      "Warning: Label not found for render6433.png\n",
      "Warning: Label not found for render0390.png\n",
      "Warning: Label not found for render0354.png\n",
      "Warning: Label not found for render7358.png\n",
      "Warning: Label not found for render1061.png\n",
      "Warning: Label not found for render1312.png\n",
      "Warning: Label not found for render9104.png\n",
      "Warning: Label not found for render3263.png\n",
      "Warning: Label not found for render3320.png\n",
      "Warning: Label not found for render4140.png\n",
      "Warning: Label not found for render3229.png\n",
      "Warning: Label not found for render1058.png\n",
      "Warning: Label not found for render2476.png\n",
      "Warning: Label not found for render4675.png\n",
      "Warning: Label not found for render1428.png\n",
      "Warning: Label not found for render7177.png\n",
      "Warning: Label not found for render7003.png\n",
      "Warning: Label not found for render8653.png\n",
      "Warning: Label not found for render8660.png\n",
      "Warning: Label not found for render7114.png\n",
      "Warning: Label not found for render4472.png\n",
      "Warning: Label not found for render3877.png\n",
      "Warning: Label not found for render7388.png\n",
      "Warning: Label not found for render5902.png\n",
      "Warning: Label not found for render7340.png\n",
      "Warning: Label not found for render3734.png\n",
      "Warning: Label not found for render0971.png\n",
      "Warning: Label not found for render3908.png\n",
      "Warning: Label not found for render3051.png\n",
      "Warning: Label not found for render6195.png\n",
      "Warning: Label not found for render3962.png\n",
      "Warning: Label not found for render5237.png\n",
      "Warning: Label not found for render3050.png\n",
      "Warning: Label not found for render3304.png\n",
      "Warning: Label not found for render4614.png\n",
      "Warning: Label not found for render9481.png\n",
      "Warning: Label not found for render6404.png\n",
      "Warning: Label not found for render9088.png\n",
      "Warning: Label not found for render3536.png\n",
      "Warning: Label not found for render3252.png\n",
      "Warning: Label not found for render5416.png\n",
      "Warning: Label not found for render0238.png\n",
      "Warning: Label not found for render9203.png\n",
      "Warning: Label not found for render7755.png\n",
      "Warning: Label not found for render3790.png\n",
      "Warning: Label not found for render4360.png\n",
      "Warning: Label not found for render7685.png\n",
      "Warning: Label not found for render4420.png\n",
      "Warning: Label not found for render3006.png\n",
      "Warning: Label not found for render2780.png\n",
      "Warning: Label not found for render6607.png\n",
      "Warning: Label not found for render9256.png\n",
      "Warning: Label not found for render2997.png\n",
      "Warning: Label not found for render9517.png\n",
      "Warning: Label not found for render0524.png\n",
      "Warning: Label not found for render0488.png\n",
      "Warning: Label not found for render4582.png\n",
      "Warning: Label not found for render4464.png\n",
      "Warning: Label not found for render1077.png\n",
      "Warning: Label not found for render7339.png\n",
      "Warning: Label not found for render2294.png\n",
      "Warning: Label not found for render0021.png\n",
      "Warning: Label not found for render5224.png\n",
      "Warning: Label not found for render9444.png\n",
      "Warning: Label not found for render9337.png\n",
      "Warning: Label not found for render8003.png\n",
      "Warning: Label not found for render8874.png\n",
      "Warning: Label not found for render4527.png\n",
      "Warning: Label not found for render4521.png\n",
      "Warning: Label not found for render3465.png\n",
      "Warning: Label not found for render7407.png\n",
      "Warning: Label not found for render3109.png\n",
      "Warning: Label not found for render0319.png\n",
      "Warning: Label not found for render5903.png\n",
      "Warning: Label not found for render3328.png\n",
      "Warning: Label not found for render2966.png\n",
      "Warning: Label not found for render1276.png\n",
      "Warning: Label not found for render4386.png\n",
      "Warning: Label not found for render5632.png\n",
      "Warning: Label not found for render4243.png\n",
      "Warning: Label not found for render4982.png\n",
      "Warning: Label not found for render5428.png\n",
      "Warning: Label not found for render6483.png\n",
      "Warning: Label not found for render9198.png\n",
      "Warning: Label not found for render4120.png\n",
      "Warning: Label not found for render4447.png\n",
      "Warning: Label not found for render0596.png\n",
      "Warning: Label not found for render1741.png\n",
      "Warning: Label not found for render8970.png\n",
      "Warning: Label not found for render8579.png\n",
      "Warning: Label not found for render3098.png\n",
      "Warning: Label not found for render1160.png\n",
      "Warning: Label not found for render3700.png\n",
      "Warning: Label not found for render0479.png\n",
      "Warning: Label not found for render4297.png\n",
      "Warning: Label not found for render8054.png\n",
      "Warning: Label not found for render3145.png\n",
      "Warning: Label not found for render3720.png\n",
      "Warning: Label not found for render5995.png\n",
      "Warning: Label not found for render8074.png\n",
      "Warning: Label not found for render1186.png\n",
      "Warning: Label not found for render3590.png\n",
      "Warning: Label not found for render0019.png\n",
      "Warning: Label not found for render9113.png\n",
      "Warning: Label not found for render3255.png\n",
      "Warning: Label not found for render8955.png\n",
      "Warning: Label not found for render1044.png\n",
      "Warning: Label not found for render8859.png\n",
      "Warning: Label not found for render3193.png\n",
      "Warning: Label not found for render9184.png\n",
      "Warning: Label not found for render3432.png\n",
      "Warning: Label not found for render5090.png\n",
      "Warning: Label not found for render9207.png\n",
      "Warning: Label not found for render9460.png\n",
      "Warning: Label not found for render7965.png\n",
      "Warning: Label not found for render4178.png\n",
      "Warning: Label not found for render4132.png\n",
      "Warning: Label not found for render3916.png\n",
      "Warning: Label not found for render0457.png\n",
      "Warning: Label not found for render7835.png\n",
      "Warning: Label not found for render5918.png\n",
      "Warning: Label not found for render0410.png\n",
      "Warning: Label not found for render5541.png\n",
      "Warning: Label not found for render3857.png\n",
      "Warning: Label not found for render8641.png\n",
      "Warning: Label not found for render4562.png\n",
      "Warning: Label not found for render9620.png\n",
      "Warning: Label not found for render4832.png\n",
      "Warning: Label not found for render4795.png\n",
      "Warning: Label not found for render5424.png\n",
      "Warning: Label not found for render7313.png\n",
      "Warning: Label not found for render8773.png\n",
      "Warning: Label not found for render3744.png\n",
      "Warning: Label not found for render1637.png\n",
      "Warning: Label not found for render0260.png\n",
      "Warning: Label not found for render2297.png\n",
      "Warning: Label not found for render1629.png\n",
      "Warning: Label not found for render0629.png\n",
      "Warning: Label not found for render4400.png\n",
      "Warning: Label not found for render9365.png\n",
      "Warning: Label not found for render3802.png\n",
      "Warning: Label not found for render4374.png\n",
      "Warning: Label not found for render3361.png\n",
      "Warning: Label not found for render2401.png\n",
      "Warning: Label not found for render9033.png\n",
      "Warning: Label not found for render9344.png\n",
      "Warning: Label not found for render4359.png\n",
      "Warning: Label not found for render4010.png\n",
      "Warning: Label not found for render9681.png\n",
      "Warning: Label not found for render8302.png\n",
      "Warning: Label not found for render8993.png\n",
      "Warning: Label not found for render2580.png\n",
      "Warning: Label not found for render9394.png\n",
      "Warning: Label not found for render7076.png\n",
      "Warning: Label not found for render4460.png\n",
      "Warning: Label not found for render4328.png\n",
      "Warning: Label not found for render6069.png\n",
      "Warning: Label not found for render4946.png\n",
      "Warning: Label not found for render5175.png\n",
      "Warning: Label not found for render0883.png\n",
      "Warning: Label not found for render3543.png\n",
      "Warning: Label not found for render8087.png\n",
      "Warning: Label not found for render5876.png\n",
      "Warning: Label not found for render1702.png\n",
      "Warning: Label not found for render3729.png\n",
      "Warning: Label not found for render3359.png\n",
      "Warning: Label not found for render1887.png\n",
      "Warning: Label not found for render4668.png\n",
      "Warning: Label not found for render7448.png\n",
      "Warning: Label not found for render6044.png\n",
      "Warning: Label not found for render7400.png\n",
      "Warning: Label not found for render1439.png\n",
      "Warning: Label not found for render2682.png\n",
      "Warning: Label not found for render8222.png\n",
      "Warning: Label not found for render8965.png\n",
      "Warning: Label not found for render1238.png\n",
      "Warning: Label not found for render8997.png\n",
      "Warning: Label not found for render3239.png\n",
      "Warning: Label not found for render3097.png\n",
      "Warning: Label not found for render9085.png\n",
      "Warning: Label not found for render4215.png\n",
      "Warning: Label not found for render4189.png\n",
      "Warning: Label not found for render6127.png\n",
      "Warning: Label not found for render7064.png\n",
      "Warning: Label not found for render3671.png\n",
      "Warning: Label not found for render0665.png\n",
      "Warning: Label not found for render8333.png\n",
      "Warning: Label not found for render8606.png\n",
      "Warning: Label not found for render3624.png\n",
      "Warning: Label not found for render1842.png\n",
      "Warning: Label not found for render5204.png\n",
      "Warning: Label not found for render7805.png\n",
      "Warning: Label not found for render0886.png\n",
      "Warning: Label not found for render7713.png\n",
      "Warning: Label not found for render0293.png\n",
      "Warning: Label not found for render7197.png\n",
      "Warning: Label not found for render8149.png\n",
      "Warning: Label not found for render0728.png\n",
      "Warning: Label not found for render1692.png\n",
      "Warning: Label not found for render6129.png\n",
      "Warning: Label not found for render6418.png\n",
      "Warning: Label not found for render3318.png\n",
      "Warning: Label not found for render1375.png\n",
      "Warning: Label not found for render3281.png\n",
      "Warning: Label not found for render3170.png\n",
      "Warning: Label not found for render3659.png\n",
      "Warning: Label not found for render6141.png\n",
      "Warning: Label not found for render4246.png\n",
      "Warning: Label not found for render8753.png\n",
      "Warning: Label not found for render7420.png\n",
      "Warning: Label not found for render9709.png\n",
      "Warning: Label not found for render6364.png\n",
      "Warning: Label not found for render6732.png\n",
      "Warning: Label not found for render7581.png\n",
      "Warning: Label not found for render5552.png\n",
      "Warning: Label not found for render2358.png\n",
      "Warning: Label not found for render6117.png\n",
      "Warning: Label not found for render0553.png\n",
      "Warning: Label not found for render3985.png\n",
      "Warning: Label not found for render3431.png\n",
      "Warning: Label not found for render1556.png\n",
      "Warning: Label not found for render4875.png\n",
      "Warning: Label not found for render3247.png\n",
      "Warning: Label not found for render8942.png\n",
      "Warning: Label not found for render7870.png\n",
      "Warning: Label not found for render5166.png\n",
      "Warning: Label not found for render4873.png\n",
      "Warning: Label not found for render9179.png\n",
      "Warning: Label not found for render7162.png\n",
      "Warning: Label not found for render3228.png\n",
      "Warning: Label not found for render5245.png\n",
      "Warning: Label not found for render1341.png\n",
      "Warning: Label not found for render1057.png\n",
      "Warning: Label not found for render7247.png\n",
      "Warning: Label not found for render9217.png\n",
      "Warning: Label not found for render0521.png\n",
      "Warning: Label not found for render0104.png\n",
      "Warning: Label not found for render6151.png\n",
      "Warning: Label not found for render6635.png\n",
      "Warning: Label not found for render8959.png\n",
      "Warning: Label not found for render8231.png\n",
      "Warning: Label not found for render7759.png\n",
      "Warning: Label not found for render9049.png\n",
      "Warning: Label not found for render8626.png\n",
      "Warning: Label not found for render5685.png\n",
      "Warning: Label not found for render8368.png\n",
      "Warning: Label not found for render4018.png\n",
      "Warning: Label not found for render9566.png\n",
      "Warning: Label not found for render4075.png\n",
      "Warning: Label not found for render2389.png\n",
      "Warning: Label not found for render3139.png\n",
      "Warning: Label not found for render5125.png\n",
      "Warning: Label not found for render9354.png\n",
      "Warning: Label not found for render6047.png\n",
      "Warning: Label not found for render5212.png\n",
      "Warning: Label not found for render9507.png\n",
      "Warning: Label not found for render9669.png\n",
      "Warning: Label not found for render8657.png\n",
      "Warning: Label not found for render2593.png\n",
      "Warning: Label not found for render4509.png\n",
      "Warning: Label not found for render7895.png\n",
      "Warning: Label not found for render0615.png\n",
      "Warning: Label not found for render7275.png\n",
      "Warning: Label not found for render7736.png\n",
      "Warning: Label not found for render2312.png\n",
      "Warning: Label not found for render8035.png\n",
      "Warning: Label not found for render3146.png\n",
      "Warning: Label not found for render1918.png\n",
      "Warning: Label not found for render0982.png\n",
      "Warning: Label not found for render0113.png\n",
      "Warning: Label not found for render5052.png\n",
      "Warning: Label not found for render8159.png\n",
      "Warning: Label not found for render3180.png\n",
      "Warning: Label not found for render8756.png\n",
      "Warning: Label not found for render3566.png\n",
      "Warning: Label not found for render4391.png\n",
      "Warning: Label not found for render4575.png\n",
      "Warning: Label not found for render9364.png\n",
      "Warning: Label not found for render9385.png\n",
      "Warning: Label not found for render2154.png\n",
      "Warning: Label not found for render9326.png\n",
      "Warning: Label not found for render5259.png\n",
      "Warning: Label not found for render7105.png\n",
      "Warning: Label not found for render6562.png\n",
      "Warning: Label not found for render7634.png\n",
      "Warning: Label not found for render1145.png\n",
      "Warning: Label not found for render9538.png\n",
      "Warning: Label not found for render0768.png\n",
      "Warning: Label not found for render9101.png\n",
      "Warning: Label not found for render9357.png\n",
      "Warning: Label not found for render1614.png\n",
      "Warning: Label not found for render8305.png\n",
      "Warning: Label not found for render1712.png\n",
      "Warning: Label not found for render3385.png\n",
      "Warning: Label not found for render2704.png\n",
      "Warning: Label not found for render7850.png\n",
      "Warning: Label not found for render3303.png\n",
      "Warning: Label not found for render4490.png\n",
      "Warning: Label not found for render7917.png\n",
      "Warning: Label not found for render8693.png\n",
      "Warning: Label not found for render8217.png\n",
      "Warning: Label not found for render3089.png\n",
      "Warning: Label not found for render8871.png\n",
      "Warning: Label not found for render5311.png\n",
      "Warning: Label not found for render6407.png\n",
      "Warning: Label not found for render4090.png\n",
      "Warning: Label not found for render1461.png\n",
      "Warning: Label not found for render6136.png\n",
      "Warning: Label not found for render3600.png\n",
      "Warning: Label not found for render8011.png\n",
      "Warning: Label not found for render3000.png\n",
      "Warning: Label not found for render2999.png\n",
      "Warning: Label not found for render1670.png\n",
      "Warning: Label not found for render2002.png\n",
      "Warning: Label not found for render3709.png\n",
      "Warning: Label not found for render8005.png\n",
      "Warning: Label not found for render7538.png\n",
      "Warning: Label not found for render5880.png\n",
      "Warning: Label not found for render6417.png\n",
      "Warning: Label not found for render1102.png\n",
      "Warning: Label not found for render5302.png\n",
      "Warning: Label not found for render5014.png\n",
      "Warning: Label not found for render8050.png\n",
      "Warning: Label not found for render6068.png\n",
      "Warning: Label not found for render9307.png\n",
      "Warning: Label not found for render2897.png\n",
      "Warning: Label not found for render5041.png\n",
      "Warning: Label not found for render5324.png\n",
      "Warning: Label not found for render3755.png\n",
      "Warning: Label not found for render7640.png\n",
      "Warning: Label not found for render0282.png\n",
      "Warning: Label not found for render7999.png\n",
      "Warning: Label not found for render2680.png\n",
      "Warning: Label not found for render4221.png\n",
      "Warning: Label not found for render3544.png\n",
      "Warning: Label not found for render1532.png\n",
      "Warning: Label not found for render5227.png\n",
      "Warning: Label not found for render4517.png\n",
      "Warning: Label not found for render2276.png\n",
      "Warning: Label not found for render2250.png\n",
      "Warning: Label not found for render7127.png\n",
      "Warning: Label not found for render0854.png\n",
      "Warning: Label not found for render7451.png\n",
      "Warning: Label not found for render9750.png\n",
      "Warning: Label not found for render9654.png\n",
      "Warning: Label not found for render6929.png\n",
      "Warning: Label not found for render7916.png\n",
      "Warning: Label not found for render4119.png\n",
      "Warning: Label not found for render7191.png\n",
      "Warning: Label not found for render9246.png\n",
      "Warning: Label not found for render4551.png\n",
      "Warning: Label not found for render2803.png\n",
      "Warning: Label not found for render1448.png\n",
      "Warning: Label not found for render6303.png\n",
      "Warning: Label not found for render5155.png\n",
      "Warning: Label not found for render3760.png\n",
      "Warning: Label not found for render4153.png\n",
      "Warning: Label not found for render4862.png\n",
      "Warning: Label not found for render6754.png\n",
      "Warning: Label not found for render0510.png\n",
      "Warning: Label not found for render1761.png\n",
      "Warning: Label not found for render1043.png\n",
      "Warning: Label not found for render5420.png\n",
      "Warning: Label not found for render0114.png\n",
      "Warning: Label not found for render1925.png\n",
      "Warning: Label not found for render6173.png\n",
      "Warning: Label not found for render0542.png\n",
      "Warning: Label not found for render5358.png\n",
      "Warning: Label not found for render5671.png\n",
      "Warning: Label not found for render1281.png\n",
      "Warning: Label not found for render6271.png\n",
      "Warning: Label not found for render7873.png\n",
      "Warning: Label not found for render6132.png\n",
      "Warning: Label not found for render6956.png\n",
      "Warning: Label not found for render8734.png\n",
      "Warning: Label not found for render1969.png\n",
      "Warning: Label not found for render0765.png\n",
      "Warning: Label not found for render9393.png\n",
      "Warning: Label not found for render3470.png\n",
      "Warning: Label not found for render7310.png\n",
      "Warning: Label not found for render1730.png\n",
      "Warning: Label not found for render6762.png\n",
      "Warning: Label not found for render5494.png\n",
      "Warning: Label not found for render3473.png\n",
      "Warning: Label not found for render0583.png\n",
      "Warning: Label not found for render3705.png\n",
      "Warning: Label not found for render6499.png\n",
      "Warning: Label not found for render2308.png\n",
      "Warning: Label not found for render8648.png\n",
      "Warning: Label not found for render5960.png\n",
      "Warning: Label not found for render5214.png\n",
      "Warning: Label not found for render5139.png\n",
      "Warning: Label not found for render4889.png\n",
      "Warning: Label not found for render6966.png\n",
      "Warning: Label not found for render5950.png\n",
      "Warning: Label not found for render1739.png\n",
      "Warning: Label not found for render9028.png\n",
      "Warning: Label not found for render2044.png\n",
      "Warning: Label not found for render2532.png\n",
      "Warning: Label not found for render4459.png\n",
      "Warning: Label not found for render3433.png\n",
      "Warning: Label not found for render9479.png\n",
      "Warning: Label not found for render0066.png\n",
      "Warning: Label not found for render2332.png\n",
      "Warning: Label not found for render2588.png\n",
      "Warning: Label not found for render0290.png\n",
      "Warning: Label not found for render1786.png\n",
      "Warning: Label not found for render1022.png\n",
      "Warning: Label not found for render2288.png\n",
      "Warning: Label not found for render6451.png\n",
      "Warning: Label not found for render7610.png\n",
      "Warning: Label not found for render3702.png\n",
      "Warning: Label not found for render1340.png\n",
      "Warning: Label not found for render5374.png\n",
      "Warning: Label not found for render8911.png\n",
      "Warning: Label not found for render7256.png\n",
      "Warning: Label not found for render5911.png\n",
      "Warning: Label not found for render5205.png\n",
      "Warning: Label not found for render2806.png\n",
      "Warning: Label not found for render8513.png\n",
      "Warning: Label not found for render5593.png\n",
      "Warning: Label not found for render6868.png\n",
      "Warning: Label not found for render0398.png\n",
      "Warning: Label not found for render1369.png\n",
      "Warning: Label not found for render6208.png\n",
      "Warning: Label not found for render3699.png\n",
      "Warning: Label not found for render4604.png\n",
      "Warning: Label not found for render7647.png\n",
      "Warning: Label not found for render7517.png\n",
      "Warning: Label not found for render7662.png\n",
      "Warning: Label not found for render6471.png\n",
      "Warning: Label not found for render9435.png\n",
      "Warning: Label not found for render4693.png\n",
      "Warning: Label not found for render5629.png\n",
      "Warning: Label not found for render5766.png\n",
      "Warning: Label not found for render7225.png\n",
      "Warning: Label not found for render7086.png\n",
      "Warning: Label not found for render2558.png\n",
      "Warning: Label not found for render9549.png\n",
      "Warning: Label not found for render1479.png\n",
      "Warning: Label not found for render7472.png\n",
      "Warning: Label not found for render3023.png\n",
      "Warning: Label not found for render0032.png\n",
      "Warning: Label not found for render2221.png\n",
      "Warning: Label not found for render2778.png\n",
      "Warning: Label not found for render5088.png\n",
      "Warning: Label not found for render6799.png\n",
      "Warning: Label not found for render6473.png\n",
      "Warning: Label not found for render3459.png\n",
      "Warning: Label not found for render2046.png\n",
      "Warning: Label not found for render0808.png\n",
      "Warning: Label not found for render7487.png\n",
      "Warning: Label not found for render7075.png\n",
      "Warning: Label not found for render0685.png\n",
      "Warning: Label not found for render9584.png\n",
      "Warning: Label not found for render9027.png\n",
      "Warning: Label not found for render7305.png\n",
      "Warning: Label not found for render0789.png\n",
      "Warning: Label not found for render8845.png\n",
      "Warning: Label not found for render7691.png\n",
      "Warning: Label not found for render1181.png\n",
      "Warning: Label not found for render2217.png\n",
      "Warning: Label not found for render2108.png\n",
      "Warning: Label not found for render8921.png\n",
      "Warning: Label not found for render9021.png\n",
      "Warning: Label not found for render5411.png\n",
      "Warning: Label not found for render8024.png\n",
      "Warning: Label not found for render5169.png\n",
      "Warning: Label not found for render8832.png\n",
      "Warning: Label not found for render2165.png\n",
      "Warning: Label not found for render4292.png\n",
      "Warning: Label not found for render6941.png\n",
      "Warning: Label not found for render2388.png\n",
      "Warning: Label not found for render8765.png\n",
      "Warning: Label not found for render4310.png\n",
      "Warning: Label not found for render0231.png\n",
      "Warning: Label not found for render3403.png\n",
      "Warning: Label not found for render7094.png\n",
      "Warning: Label not found for render8020.png\n",
      "Warning: Label not found for render6454.png\n",
      "Warning: Label not found for render0957.png\n",
      "Warning: Label not found for render2652.png\n",
      "Warning: Label not found for render0373.png\n",
      "Warning: Label not found for render9742.png\n",
      "Warning: Label not found for render0024.png\n",
      "Warning: Label not found for render5223.png\n",
      "Warning: Label not found for render3188.png\n",
      "Warning: Label not found for render7701.png\n",
      "Warning: Label not found for render0072.png\n",
      "Warning: Label not found for render1618.png\n",
      "Warning: Label not found for render7154.png\n",
      "Warning: Label not found for render9664.png\n",
      "Warning: Label not found for render4187.png\n",
      "Warning: Label not found for render5558.png\n",
      "Warning: Label not found for render0246.png\n",
      "Warning: Label not found for render7936.png\n",
      "Warning: Label not found for render3667.png\n",
      "Warning: Label not found for render2781.png\n",
      "Warning: Label not found for render7781.png\n",
      "Warning: Label not found for render9640.png\n",
      "Warning: Label not found for render5892.png\n",
      "Warning: Label not found for render7151.png\n",
      "Warning: Label not found for render6119.png\n",
      "Warning: Label not found for render9757.png\n",
      "Warning: Label not found for render6362.png\n",
      "Warning: Label not found for render0537.png\n",
      "Warning: Label not found for render5708.png\n",
      "Warning: Label not found for render7066.png\n",
      "Warning: Label not found for render3516.png\n",
      "Warning: Label not found for render9606.png\n",
      "Warning: Label not found for render6313.png\n",
      "Warning: Label not found for render1518.png\n",
      "Warning: Label not found for render6624.png\n",
      "Warning: Label not found for render8720.png\n",
      "Warning: Label not found for render2583.png\n",
      "Warning: Label not found for render2155.png\n",
      "Warning: Label not found for render7947.png\n",
      "Warning: Label not found for render7621.png\n",
      "Warning: Label not found for render9682.png\n",
      "Warning: Label not found for render7216.png\n",
      "Warning: Label not found for render4442.png\n",
      "Warning: Label not found for render7404.png\n",
      "Warning: Label not found for render8388.png\n",
      "Warning: Label not found for render2656.png\n",
      "Warning: Label not found for render5037.png\n",
      "Warning: Label not found for render4306.png\n",
      "Warning: Label not found for render4245.png\n",
      "Warning: Label not found for render2745.png\n",
      "Warning: Label not found for render8771.png\n",
      "Warning: Label not found for render5956.png\n",
      "Warning: Label not found for render2744.png\n",
      "Warning: Label not found for render5556.png\n",
      "Warning: Label not found for render7095.png\n",
      "Warning: Label not found for render3316.png\n",
      "Warning: Label not found for render2988.png\n",
      "Warning: Label not found for render1528.png\n",
      "Warning: Label not found for render1048.png\n",
      "Warning: Label not found for render8482.png\n",
      "Warning: Label not found for render4768.png\n",
      "Warning: Label not found for render2450.png\n",
      "Warning: Label not found for render1734.png\n",
      "Warning: Label not found for render9746.png\n",
      "Warning: Label not found for render8106.png\n",
      "Warning: Label not found for render0083.png\n",
      "Warning: Label not found for render4812.png\n",
      "Warning: Label not found for render4259.png\n",
      "Warning: Label not found for render5185.png\n",
      "Warning: Label not found for render2831.png\n",
      "Warning: Label not found for render1879.png\n",
      "Warning: Label not found for render6367.png\n",
      "Warning: Label not found for render3815.png\n",
      "Warning: Label not found for render6014.png\n",
      "Warning: Label not found for render7613.png\n",
      "Warning: Label not found for render6252.png\n",
      "Warning: Label not found for render9643.png\n",
      "Warning: Label not found for render7421.png\n",
      "Warning: Label not found for render3758.png\n",
      "Warning: Label not found for render9156.png\n",
      "Warning: Label not found for render1566.png\n",
      "Warning: Label not found for render6191.png\n",
      "Warning: Label not found for render4593.png\n",
      "Warning: Label not found for render1793.png\n",
      "Warning: Label not found for render7970.png\n",
      "Warning: Label not found for render7164.png\n",
      "Warning: Label not found for render1071.png\n",
      "Warning: Label not found for render8614.png\n",
      "Warning: Label not found for render3069.png\n",
      "Warning: Label not found for render4692.png\n",
      "Warning: Label not found for render5203.png\n",
      "Warning: Label not found for render3357.png\n",
      "Warning: Label not found for render2809.png\n",
      "Warning: Label not found for render4738.png\n",
      "Warning: Label not found for render3611.png\n",
      "Warning: Label not found for render4807.png\n",
      "Warning: Label not found for render7278.png\n",
      "Warning: Label not found for render8962.png\n",
      "Warning: Label not found for render8290.png\n",
      "Warning: Label not found for render8259.png\n",
      "Warning: Label not found for render2674.png\n",
      "Warning: Label not found for render0885.png\n",
      "Warning: Label not found for render3807.png\n",
      "Warning: Label not found for render0967.png\n",
      "Warning: Label not found for render3234.png\n",
      "Warning: Label not found for render5121.png\n",
      "Warning: Label not found for render4275.png\n",
      "Warning: Label not found for render9076.png\n",
      "Warning: Label not found for render8528.png\n",
      "Warning: Label not found for render5181.png\n",
      "Warning: Label not found for render6750.png\n",
      "Warning: Label not found for render1772.png\n",
      "Warning: Label not found for render2173.png\n",
      "Warning: Label not found for render1567.png\n",
      "Warning: Label not found for render0454.png\n",
      "Warning: Label not found for render1435.png\n",
      "Warning: Label not found for render0657.png\n",
      "Warning: Label not found for render9299.png\n",
      "Warning: Label not found for render2846.png\n",
      "Warning: Label not found for render3376.png\n",
      "Warning: Label not found for render2789.png\n",
      "Warning: Label not found for render0898.png\n",
      "Warning: Label not found for render8063.png\n",
      "Warning: Label not found for render2748.png\n",
      "Warning: Label not found for render9697.png\n",
      "Warning: Label not found for render9340.png\n",
      "Warning: Label not found for render6764.png\n",
      "Warning: Label not found for render0777.png\n",
      "Warning: Label not found for render8363.png\n",
      "Warning: Label not found for render8144.png\n",
      "Warning: Label not found for render7447.png\n",
      "Warning: Label not found for render5042.png\n",
      "Warning: Label not found for render3973.png\n",
      "Warning: Label not found for render9249.png\n",
      "Warning: Label not found for render4263.png\n",
      "Warning: Label not found for render3629.png\n",
      "Warning: Label not found for render9726.png\n",
      "Warning: Label not found for render1047.png\n",
      "Warning: Label not found for render7579.png\n",
      "Warning: Label not found for render8784.png\n",
      "Warning: Label not found for render3246.png\n",
      "Warning: Label not found for render8164.png\n",
      "Warning: Label not found for render1460.png\n",
      "Warning: Label not found for render2819.png\n",
      "Warning: Label not found for render7160.png\n",
      "Warning: Label not found for render1799.png\n",
      "Warning: Label not found for render9052.png\n",
      "Warning: Label not found for render5983.png\n",
      "Warning: Label not found for render1796.png\n",
      "Warning: Label not found for render0429.png\n",
      "Warning: Label not found for render5747.png\n",
      "Warning: Label not found for render6217.png\n",
      "Warning: Label not found for render2715.png\n",
      "Warning: Label not found for render9455.png\n",
      "Warning: Label not found for render4122.png\n",
      "Warning: Label not found for render4493.png\n",
      "Warning: Label not found for render0541.png\n",
      "Warning: Label not found for render0146.png\n",
      "Warning: Label not found for render0151.png\n",
      "Warning: Label not found for render5228.png\n",
      "Warning: Label not found for render5721.png\n",
      "Warning: Label not found for render2759.png\n",
      "Warning: Label not found for render7897.png\n",
      "Warning: Label not found for render8462.png\n",
      "Warning: Label not found for render7090.png\n",
      "Warning: Label not found for render0587.png\n",
      "Warning: Label not found for render4688.png\n",
      "Warning: Label not found for render8311.png\n",
      "Warning: Label not found for render1292.png\n",
      "Warning: Label not found for render6686.png\n",
      "Warning: Label not found for render2697.png\n",
      "Warning: Label not found for render8096.png\n",
      "Warning: Label not found for render8934.png\n",
      "Warning: Label not found for render2786.png\n",
      "Warning: Label not found for render9384.png\n",
      "Warning: Label not found for render9446.png\n",
      "Warning: Label not found for render3911.png\n",
      "Warning: Label not found for render9711.png\n",
      "Warning: Label not found for render5400.png\n",
      "Warning: Label not found for render2485.png\n",
      "Warning: Label not found for render4612.png\n",
      "Warning: Label not found for render7827.png\n",
      "Warning: Label not found for render1578.png\n",
      "Warning: Label not found for render3684.png\n",
      "Warning: Label not found for render3609.png\n",
      "Warning: Label not found for render8241.png\n",
      "Warning: Label not found for render5145.png\n",
      "Warning: Label not found for render1469.png\n",
      "Warning: Label not found for render6989.png\n",
      "Warning: Label not found for render6296.png\n",
      "Warning: Label not found for render6211.png\n",
      "Warning: Label not found for render1947.png\n",
      "Warning: Label not found for render2899.png\n",
      "Warning: Label not found for render4051.png\n",
      "Warning: Label not found for render0969.png\n",
      "Warning: Label not found for render5303.png\n",
      "Warning: Label not found for render4566.png\n",
      "Warning: Label not found for render3409.png\n",
      "Warning: Label not found for render0675.png\n",
      "Warning: Label not found for render3636.png\n",
      "Warning: Label not found for render6730.png\n",
      "Warning: Label not found for render8324.png\n",
      "Warning: Label not found for render2626.png\n",
      "Warning: Label not found for render6991.png\n",
      "Warning: Label not found for render8177.png\n",
      "Warning: Label not found for render8127.png\n",
      "Warning: Label not found for render6250.png\n",
      "Warning: Label not found for render2360.png\n",
      "Warning: Label not found for render7956.png\n",
      "Warning: Label not found for render9142.png\n",
      "Warning: Label not found for render3891.png\n",
      "Warning: Label not found for render7331.png\n",
      "Warning: Label not found for render5729.png\n",
      "Warning: Label not found for render6397.png\n",
      "Warning: Label not found for render1596.png\n",
      "Warning: Label not found for render8306.png\n",
      "Warning: Label not found for render4690.png\n",
      "Warning: Label not found for render7270.png\n",
      "Warning: Label not found for render6420.png\n",
      "Warning: Label not found for render1329.png\n",
      "Warning: Label not found for render8339.png\n",
      "Warning: Label not found for render7960.png\n",
      "Warning: Label not found for render4791.png\n",
      "Warning: Label not found for render5167.png\n",
      "Warning: Label not found for render3038.png\n",
      "Warning: Label not found for render0364.png\n",
      "Warning: Label not found for render6522.png\n",
      "Warning: Label not found for render7878.png\n",
      "Warning: Label not found for render9573.png\n",
      "Warning: Label not found for render6093.png\n",
      "Warning: Label not found for render6053.png\n",
      "Warning: Label not found for render7831.png\n",
      "Warning: Label not found for render1446.png\n",
      "Warning: Label not found for render2115.png\n",
      "Warning: Label not found for render6273.png\n",
      "Warning: Label not found for render5170.png\n",
      "Warning: Label not found for render3664.png\n",
      "Warning: Label not found for render9122.png\n",
      "Warning: Label not found for render4603.png\n",
      "Warning: Label not found for render2870.png\n",
      "Warning: Label not found for render0241.png\n",
      "Warning: Label not found for render7674.png\n",
      "Warning: Label not found for render1743.png\n",
      "Warning: Label not found for render7214.png\n",
      "Warning: Label not found for render3268.png\n",
      "Warning: Label not found for render6386.png\n",
      "Warning: Label not found for render5376.png\n",
      "Warning: Label not found for render9625.png\n",
      "Warning: Label not found for render3362.png\n",
      "Warning: Label not found for render5018.png\n",
      "Warning: Label not found for render9737.png\n",
      "Warning: Label not found for render3207.png\n",
      "Warning: Label not found for render2867.png\n",
      "Warning: Label not found for render6746.png\n",
      "Warning: Label not found for render9531.png\n",
      "Warning: Label not found for render4054.png\n",
      "Warning: Label not found for render3099.png\n",
      "Warning: Label not found for render0458.png\n",
      "Warning: Label not found for render6472.png\n",
      "Warning: Label not found for render6183.png\n",
      "Warning: Label not found for render7898.png\n",
      "Warning: Label not found for render4315.png\n",
      "Warning: Label not found for render7643.png\n",
      "Warning: Label not found for render5817.png\n",
      "Warning: Label not found for render2183.png\n",
      "Warning: Label not found for render2888.png\n",
      "Warning: Label not found for render9244.png\n",
      "Warning: Label not found for render2954.png\n",
      "Warning: Label not found for render8265.png\n",
      "Warning: Label not found for render2426.png\n",
      "Warning: Label not found for render2109.png\n",
      "Warning: Label not found for render6019.png\n",
      "Warning: Label not found for render7393.png\n",
      "Warning: Label not found for render5514.png\n",
      "Warning: Label not found for render4635.png\n",
      "Warning: Label not found for render2253.png\n",
      "Warning: Label not found for render7543.png\n",
      "Warning: Label not found for render7626.png\n",
      "Warning: Label not found for render2769.png\n",
      "Warning: Label not found for render3063.png\n",
      "Warning: Label not found for render4550.png\n",
      "Warning: Label not found for render6846.png\n",
      "Warning: Label not found for render7044.png\n",
      "Warning: Label not found for render1389.png\n",
      "Warning: Label not found for render2628.png\n",
      "Warning: Label not found for render6911.png\n",
      "Warning: Label not found for render9717.png\n",
      "Warning: Label not found for render4691.png\n",
      "Warning: Label not found for render0412.png\n",
      "Warning: Label not found for render8030.png\n",
      "Warning: Label not found for render6100.png\n",
      "Warning: Label not found for render1364.png\n",
      "Warning: Label not found for render7846.png\n",
      "Warning: Label not found for render9392.png\n",
      "Warning: Label not found for render9464.png\n",
      "Warning: Label not found for render6272.png\n",
      "Warning: Label not found for render4409.png\n",
      "Warning: Label not found for render4627.png\n",
      "Warning: Label not found for render9084.png\n",
      "Warning: Label not found for render6591.png\n",
      "Warning: Label not found for render1395.png\n",
      "Warning: Label not found for render5874.png\n",
      "Warning: Label not found for render7742.png\n",
      "Warning: Label not found for render5596.png\n",
      "Warning: Label not found for render8602.png\n",
      "Warning: Label not found for render8791.png\n",
      "Warning: Label not found for render2186.png\n",
      "Warning: Label not found for render6872.png\n",
      "Warning: Label not found for render6393.png\n",
      "Warning: Label not found for render0788.png\n",
      "Warning: Label not found for render5824.png\n",
      "Warning: Label not found for render4539.png\n",
      "Warning: Label not found for render6488.png\n",
      "Warning: Label not found for render7548.png\n",
      "Warning: Label not found for render6970.png\n",
      "Warning: Label not found for render6900.png\n",
      "Warning: Label not found for render6882.png\n",
      "Warning: Label not found for render6138.png\n",
      "Warning: Label not found for render8084.png\n",
      "Warning: Label not found for render8303.png\n",
      "Warning: Label not found for render5059.png\n",
      "Warning: Label not found for render5422.png\n",
      "Warning: Label not found for render1877.png\n",
      "Warning: Label not found for render5913.png\n",
      "Warning: Label not found for render4987.png\n",
      "Warning: Label not found for render9634.png\n",
      "Warning: Label not found for render8829.png\n",
      "Warning: Label not found for render4248.png\n",
      "Warning: Label not found for render1313.png\n",
      "Warning: Label not found for render7386.png\n",
      "Warning: Label not found for render0435.png\n",
      "Warning: Label not found for render5380.png\n",
      "Warning: Label not found for render6661.png\n",
      "Warning: Label not found for render0237.png\n",
      "Warning: Label not found for render6308.png\n",
      "Warning: Label not found for render8853.png\n",
      "Warning: Label not found for render1860.png\n",
      "Warning: Label not found for render3563.png\n",
      "Warning: Label not found for render3159.png\n",
      "Warning: Label not found for render1660.png\n",
      "Warning: Label not found for render1926.png\n",
      "Warning: Label not found for render4529.png\n",
      "Warning: Label not found for render7773.png\n",
      "Warning: Label not found for render1176.png\n",
      "Warning: Label not found for render4605.png\n",
      "Warning: Label not found for render2798.png\n",
      "Warning: Label not found for render9059.png\n",
      "Warning: Label not found for render1745.png\n",
      "Warning: Label not found for render2886.png\n",
      "Warning: Label not found for render2088.png\n",
      "Warning: Label not found for render5905.png\n",
      "Warning: Label not found for render1513.png\n",
      "Warning: Label not found for render5926.png\n",
      "Warning: Label not found for render4626.png\n",
      "Warning: Label not found for render8027.png\n",
      "Warning: Label not found for render1530.png\n",
      "Warning: Label not found for render2967.png\n",
      "Warning: Label not found for render9125.png\n",
      "Warning: Label not found for render5263.png\n",
      "Warning: Label not found for render4999.png\n",
      "Warning: Label not found for render9712.png\n",
      "Warning: Label not found for render8604.png\n",
      "Warning: Label not found for render1935.png\n",
      "Warning: Label not found for render5692.png\n",
      "Warning: Label not found for render6400.png\n",
      "Warning: Label not found for render1055.png\n",
      "Warning: Label not found for render1251.png\n",
      "Warning: Label not found for render1092.png\n",
      "Warning: Label not found for render5437.png\n",
      "Warning: Label not found for render8095.png\n",
      "Warning: Label not found for render9524.png\n",
      "Warning: Label not found for render7363.png\n",
      "Warning: Label not found for render8491.png\n",
      "Warning: Label not found for render6972.png\n",
      "Warning: Label not found for render9087.png\n",
      "Warning: Label not found for render0419.png\n",
      "Warning: Label not found for render6391.png\n",
      "Warning: Label not found for render1883.png\n",
      "Warning: Label not found for render2823.png\n",
      "Warning: Label not found for render6737.png\n",
      "Warning: Label not found for render9168.png\n",
      "Warning: Label not found for render5271.png\n",
      "Warning: Label not found for render9412.png\n",
      "Warning: Label not found for render2989.png\n",
      "Warning: Label not found for render9081.png\n",
      "Warning: Label not found for render0659.png\n",
      "Warning: Label not found for render0670.png\n",
      "Warning: Label not found for render4725.png\n",
      "Warning: Label not found for render3722.png\n",
      "Warning: Label not found for render0476.png\n",
      "Warning: Label not found for render2661.png\n",
      "Warning: Label not found for render1974.png\n",
      "Warning: Label not found for render5267.png\n",
      "Warning: Label not found for render2264.png\n",
      "Warning: Label not found for render0901.png\n",
      "Warning: Label not found for render0193.png\n",
      "Warning: Label not found for render6589.png\n",
      "Warning: Label not found for render7149.png\n",
      "Warning: Label not found for render8554.png\n",
      "Warning: Label not found for render9114.png\n",
      "Warning: Label not found for render7642.png\n",
      "Warning: Label not found for render3132.png\n",
      "Warning: Label not found for render9130.png\n",
      "Warning: Label not found for render9015.png\n",
      "Warning: Label not found for render9209.png\n",
      "Warning: Label not found for render7992.png\n",
      "Warning: Label not found for render0684.png\n",
      "Warning: Label not found for render3633.png\n",
      "Warning: Label not found for render8393.png\n",
      "Warning: Label not found for render6470.png\n",
      "Warning: Label not found for render7226.png\n",
      "Warning: Label not found for render0621.png\n",
      "Warning: Label not found for render0918.png\n",
      "Warning: Label not found for render3504.png\n",
      "Warning: Label not found for render1010.png\n",
      "Warning: Label not found for render6879.png\n",
      "Warning: Label not found for render5137.png\n",
      "Warning: Label not found for render0679.png\n",
      "Warning: Label not found for render8774.png\n",
      "Warning: Label not found for render9351.png\n",
      "Warning: Label not found for render9165.png\n",
      "Warning: Label not found for render5948.png\n",
      "Warning: Label not found for render0349.png\n",
      "Warning: Label not found for render3932.png\n",
      "Warning: Label not found for render7847.png\n",
      "Warning: Label not found for render7446.png\n",
      "Warning: Label not found for render0121.png\n",
      "Warning: Label not found for render0276.png\n",
      "Warning: Label not found for render5688.png\n",
      "Warning: Label not found for render1190.png\n",
      "Warning: Label not found for render1693.png\n",
      "Warning: Label not found for render5795.png\n",
      "Warning: Label not found for render2673.png\n",
      "Warning: Label not found for render0137.png\n",
      "Warning: Label not found for render7375.png\n",
      "Warning: Label not found for render3874.png\n",
      "Warning: Label not found for render1411.png\n",
      "Warning: Label not found for render9362.png\n",
      "Warning: Label not found for render9044.png\n",
      "Warning: Label not found for render3754.png\n",
      "Warning: Label not found for render7546.png\n",
      "Warning: Label not found for render4747.png\n",
      "Warning: Label not found for render7816.png\n",
      "Warning: Label not found for render0180.png\n",
      "Warning: Label not found for render7338.png\n",
      "Warning: Label not found for render2631.png\n",
      "Warning: Label not found for render7792.png\n",
      "Warning: Label not found for render5581.png\n",
      "Warning: Label not found for render9482.png\n",
      "Warning: Label not found for render4481.png\n",
      "Warning: Label not found for render9140.png\n",
      "Warning: Label not found for render4737.png\n",
      "Warning: Label not found for render0681.png\n",
      "Warning: Label not found for render5693.png\n",
      "Warning: Label not found for render8600.png\n",
      "Warning: Label not found for render2972.png\n",
      "Warning: Label not found for render8819.png\n",
      "Warning: Label not found for render6051.png\n",
      "Warning: Label not found for render9313.png\n",
      "Warning: Label not found for render6891.png\n",
      "Warning: Label not found for render1967.png\n",
      "Warning: Label not found for render9157.png\n",
      "Warning: Label not found for render8188.png\n",
      "Warning: Label not found for render0570.png\n",
      "Warning: Label not found for render6307.png\n",
      "Warning: Label not found for render7469.png\n",
      "Warning: Label not found for render4913.png\n",
      "Warning: Label not found for render3676.png\n",
      "Warning: Label not found for render7475.png\n",
      "Warning: Label not found for render5159.png\n",
      "Warning: Label not found for render3665.png\n",
      "Warning: Label not found for render4707.png\n",
      "Warning: Label not found for render9568.png\n",
      "Warning: Label not found for render1355.png\n",
      "Warning: Label not found for render5384.png\n",
      "Warning: Label not found for render5353.png\n",
      "Warning: Label not found for render7498.png\n",
      "Warning: Label not found for render4501.png\n",
      "Warning: Label not found for render5590.png\n",
      "Warning: Label not found for render5460.png\n",
      "Warning: Label not found for render5603.png\n",
      "Warning: Label not found for render6365.png\n",
      "Warning: Label not found for render1321.png\n",
      "Warning: Label not found for render6515.png\n",
      "Warning: Label not found for render0564.png\n",
      "Warning: Label not found for render6852.png\n",
      "Warning: Label not found for render7466.png\n",
      "Warning: Label not found for render3579.png\n",
      "Warning: Label not found for render5764.png\n",
      "Warning: Label not found for render1561.png\n",
      "Warning: Label not found for render0868.png\n",
      "Warning: Label not found for render2421.png\n",
      "Warning: Label not found for render8350.png\n",
      "Warning: Label not found for render6279.png\n",
      "Warning: Label not found for render5830.png\n",
      "Warning: Label not found for render5313.png\n",
      "Warning: Label not found for render4879.png\n",
      "Warning: Label not found for render0393.png\n",
      "Warning: Label not found for render1268.png\n",
      "Warning: Label not found for render9551.png\n",
      "Warning: Label not found for render3374.png\n",
      "Warning: Label not found for render5346.png\n",
      "Warning: Label not found for render8051.png\n",
      "Warning: Label not found for render6001.png\n",
      "Warning: Label not found for render8813.png\n",
      "Warning: Label not found for render1498.png\n",
      "Warning: Label not found for render6035.png\n",
      "Warning: Label not found for render5389.png\n",
      "Warning: Label not found for render2335.png\n",
      "Warning: Label not found for render7763.png\n",
      "Warning: Label not found for render3562.png\n",
      "Warning: Label not found for render6713.png\n",
      "Warning: Label not found for render9199.png\n",
      "Warning: Label not found for render3691.png\n",
      "Warning: Label not found for render7815.png\n",
      "Warning: Label not found for render2427.png\n",
      "Warning: Label not found for render3416.png\n",
      "Warning: Label not found for render8258.png\n",
      "Warning: Label not found for render7129.png\n",
      "Warning: Label not found for render1157.png\n",
      "Warning: Label not found for render3775.png\n",
      "Warning: Label not found for render0630.png\n",
      "Warning: Label not found for render6290.png\n",
      "Warning: Label not found for render5156.png\n",
      "Warning: Label not found for render7935.png\n",
      "Warning: Label not found for render0050.png\n",
      "Warning: Label not found for render0667.png\n",
      "Warning: Label not found for render8195.png\n",
      "Warning: Label not found for render0624.png\n",
      "Warning: Label not found for render8980.png\n",
      "Warning: Label not found for render7806.png\n",
      "Warning: Label not found for render8745.png\n",
      "Warning: Label not found for render4105.png\n",
      "Warning: Label not found for render6694.png\n",
      "Warning: Label not found for render3949.png\n",
      "Warning: Label not found for render3658.png\n",
      "Warning: Label not found for render1833.png\n",
      "Warning: Label not found for render8610.png\n",
      "Warning: Label not found for render6992.png\n",
      "Warning: Label not found for render6622.png\n",
      "Warning: Label not found for render2581.png\n",
      "Warning: Label not found for render4335.png\n",
      "Warning: Label not found for render3595.png\n",
      "Warning: Label not found for render2484.png\n",
      "Warning: Label not found for render1403.png\n",
      "Warning: Label not found for render8857.png\n",
      "Warning: Label not found for render3948.png\n",
      "Warning: Label not found for render4588.png\n",
      "Warning: Label not found for render3199.png\n",
      "Warning: Label not found for render0298.png\n",
      "Warning: Label not found for render3216.png\n",
      "Warning: Label not found for render1912.png\n",
      "Warning: Label not found for render4755.png\n",
      "Warning: Label not found for render2617.png\n",
      "Warning: Label not found for render1674.png\n",
      "Warning: Label not found for render1063.png\n",
      "Warning: Label not found for render6143.png\n",
      "Warning: Label not found for render2252.png\n",
      "Warning: Label not found for render3365.png\n",
      "Warning: Label not found for render7257.png\n",
      "Warning: Label not found for render5102.png\n",
      "Warning: Label not found for render6505.png\n",
      "Warning: Label not found for render1042.png\n",
      "Warning: Label not found for render7677.png\n",
      "Warning: Label not found for render6857.png\n",
      "Warning: Label not found for render3825.png\n",
      "Warning: Label not found for render2310.png\n",
      "Warning: Label not found for render4362.png\n",
      "Warning: Label not found for render9236.png\n",
      "Warning: Label not found for render2629.png\n",
      "Warning: Label not found for render7752.png\n",
      "Warning: Label not found for render3854.png\n",
      "Warning: Label not found for render1009.png\n",
      "Warning: Label not found for render7525.png\n",
      "Warning: Label not found for render5942.png\n",
      "Warning: Label not found for render7108.png\n",
      "Warning: Label not found for render3016.png\n",
      "Warning: Label not found for render5748.png\n",
      "Warning: Label not found for render4251.png\n",
      "Warning: Label not found for render7533.png\n",
      "Warning: Label not found for render6939.png\n",
      "Warning: Label not found for render4817.png\n",
      "Warning: Label not found for render3653.png\n",
      "Warning: Label not found for render6299.png\n",
      "Warning: Label not found for render4976.png\n",
      "Warning: Label not found for render2326.png\n",
      "Warning: Label not found for render1405.png\n",
      "Warning: Label not found for render6642.png\n",
      "Warning: Label not found for render5582.png\n",
      "Warning: Label not found for render0273.png\n",
      "Warning: Label not found for render0012.png\n",
      "Warning: Label not found for render5894.png\n",
      "Warning: Label not found for render0824.png\n",
      "Warning: Label not found for render2159.png\n",
      "Warning: Label not found for render9762.png\n",
      "Warning: Label not found for render5183.png\n",
      "Warning: Label not found for render4583.png\n",
      "Warning: Label not found for render6423.png\n",
      "Warning: Label not found for render4450.png\n",
      "Warning: Label not found for render8342.png\n",
      "Warning: Label not found for render0368.png\n",
      "Warning: Label not found for render1301.png\n",
      "Warning: Label not found for render3317.png\n",
      "Warning: Label not found for render4078.png\n",
      "Warning: Label not found for render6357.png\n",
      "Warning: Label not found for render5268.png\n",
      "Warning: Label not found for render7519.png\n",
      "Warning: Label not found for render1509.png\n",
      "Warning: Label not found for render7842.png\n",
      "Warning: Label not found for render8808.png\n",
      "Warning: Label not found for render8287.png\n",
      "Warning: Label not found for render6079.png\n",
      "Warning: Label not found for render5569.png\n",
      "Warning: Label not found for render0978.png\n",
      "Warning: Label not found for render4740.png\n",
      "Warning: Label not found for render0063.png\n",
      "Warning: Label not found for render3192.png\n",
      "Warning: Label not found for render5367.png\n",
      "Warning: Label not found for render0613.png\n",
      "Warning: Label not found for render8863.png\n",
      "Warning: Label not found for render2814.png\n",
      "Warning: Label not found for render6034.png\n",
      "Warning: Label not found for render8433.png\n",
      "Warning: Label not found for render0639.png\n",
      "Warning: Label not found for render4787.png\n",
      "Warning: Label not found for render1845.png\n",
      "Warning: Label not found for render0515.png\n",
      "Warning: Label not found for render1545.png\n",
      "Warning: Label not found for render1129.png\n",
      "Warning: Label not found for render0859.png\n",
      "Warning: Label not found for render7383.png\n",
      "Warning: Label not found for render4945.png\n",
      "Warning: Label not found for render0642.png\n",
      "Warning: Label not found for render0870.png\n",
      "Warning: Label not found for render0259.png\n",
      "Warning: Label not found for render0037.png\n",
      "Warning: Label not found for render1124.png\n",
      "Warning: Label not found for render5256.png\n",
      "Warning: Label not found for render0094.png\n",
      "Warning: Label not found for render5408.png\n",
      "Warning: Label not found for render6608.png\n",
      "Warning: Label not found for render2811.png\n",
      "Warning: Label not found for render2203.png\n",
      "Warning: Label not found for render2164.png\n",
      "Warning: Label not found for render9457.png\n",
      "Warning: Label not found for render3179.png\n",
      "Warning: Label not found for render5560.png\n",
      "Warning: Label not found for render6029.png\n",
      "Warning: Label not found for render7172.png\n",
      "Warning: Label not found for render8272.png\n",
      "Warning: Label not found for render5627.png\n",
      "Warning: Label not found for render0395.png\n",
      "Warning: Label not found for render2943.png\n",
      "Warning: Label not found for render3899.png\n",
      "Warning: Label not found for render2131.png\n",
      "Warning: Label not found for render9291.png\n",
      "Warning: Label not found for render9607.png\n",
      "Warning: Label not found for render4581.png\n",
      "Warning: Label not found for render3301.png\n",
      "Warning: Label not found for render6040.png\n",
      "Warning: Label not found for render5970.png\n",
      "Warning: Label not found for render2420.png\n",
      "Warning: Label not found for render5404.png\n",
      "Warning: Label not found for render4849.png\n",
      "Warning: Label not found for render6194.png\n",
      "Warning: Label not found for render8275.png\n",
      "Warning: Label not found for render9462.png\n",
      "Warning: Label not found for render4228.png\n",
      "Warning: Label not found for render9192.png\n",
      "Warning: Label not found for render1658.png\n",
      "Warning: Label not found for render4762.png\n",
      "Warning: Label not found for render8518.png\n",
      "Warning: Label not found for render0125.png\n",
      "Warning: Label not found for render5574.png\n",
      "Warning: Label not found for render8815.png\n",
      "Warning: Label not found for render4876.png\n",
      "Warning: Label not found for render4655.png\n",
      "Warning: Label not found for render8768.png\n",
      "Warning: Label not found for render6858.png\n",
      "Warning: Label not found for render5799.png\n",
      "Warning: Label not found for render3772.png\n",
      "Warning: Label not found for render4986.png\n",
      "Warning: Label not found for render7893.png\n",
      "Warning: Label not found for render8514.png\n",
      "Warning: Label not found for render0264.png\n",
      "Warning: Label not found for render7328.png\n",
      "Warning: Label not found for render1423.png\n",
      "Warning: Label not found for render7048.png\n",
      "Warning: Label not found for render0189.png\n",
      "Warning: Label not found for render0966.png\n",
      "Warning: Label not found for render8607.png\n",
      "Warning: Label not found for render0451.png\n",
      "Warning: Label not found for render0949.png\n",
      "Warning: Label not found for render5043.png\n",
      "Warning: Label not found for render8428.png\n",
      "Warning: Label not found for render7590.png\n",
      "Warning: Label not found for render4646.png\n",
      "Warning: Label not found for render6258.png\n",
      "Warning: Label not found for render7381.png\n",
      "Warning: Label not found for render8289.png\n",
      "Warning: Label not found for render3407.png\n",
      "Warning: Label not found for render6641.png\n",
      "Warning: Label not found for render6552.png\n",
      "Warning: Label not found for render9461.png\n",
      "Warning: Label not found for render7017.png\n",
      "Warning: Label not found for render4905.png\n",
      "Warning: Label not found for render8570.png\n",
      "Warning: Label not found for render6246.png\n",
      "Warning: Label not found for render2980.png\n",
      "Warning: Label not found for render3943.png\n",
      "Warning: Label not found for render5326.png\n",
      "Warning: Label not found for render5082.png\n",
      "Warning: Label not found for render7426.png\n",
      "Warning: Label not found for render5387.png\n",
      "Warning: Label not found for render8349.png\n",
      "Warning: Label not found for render7015.png\n",
      "Warning: Label not found for render2347.png\n",
      "Warning: Label not found for render9658.png\n",
      "Warning: Label not found for render2615.png\n",
      "Warning: Label not found for render5811.png\n",
      "Warning: Label not found for render0658.png\n",
      "Warning: Label not found for render7020.png\n",
      "Warning: Label not found for render9540.png\n",
      "Warning: Label not found for render1896.png\n",
      "Warning: Label not found for render4235.png\n",
      "Warning: Label not found for render6026.png\n",
      "Warning: Label not found for render9459.png\n",
      "Warning: Label not found for render2909.png\n",
      "Warning: Label not found for render3271.png\n",
      "Warning: Label not found for render7855.png\n",
      "Warning: Label not found for render5247.png\n",
      "Warning: Label not found for render4830.png\n",
      "Warning: Label not found for render1008.png\n",
      "Warning: Label not found for render7820.png\n",
      "Warning: Label not found for render7093.png\n",
      "Warning: Label not found for render1466.png\n",
      "Warning: Label not found for render7929.png\n",
      "Warning: Label not found for render9559.png\n",
      "Warning: Label not found for render1132.png\n",
      "Warning: Label not found for render1410.png\n",
      "Warning: Label not found for render6711.png\n",
      "Warning: Label not found for render3350.png\n",
      "Warning: Label not found for render5816.png\n",
      "Warning: Label not found for render5549.png\n",
      "Warning: Label not found for render3203.png\n",
      "Warning: Label not found for render2137.png\n",
      "Warning: Label not found for render1373.png\n",
      "Warning: Label not found for render2792.png\n",
      "Warning: Label not found for render5597.png\n",
      "Warning: Label not found for render6456.png\n",
      "Warning: Label not found for render1397.png\n",
      "Warning: Label not found for render4364.png\n",
      "Warning: Label not found for render4103.png\n",
      "Warning: Label not found for render1243.png\n",
      "Warning: Label not found for render8026.png\n",
      "Warning: Label not found for render0876.png\n",
      "Warning: Label not found for render1588.png\n",
      "Warning: Label not found for render6625.png\n",
      "Warning: Label not found for render1003.png\n",
      "Warning: Label not found for render6241.png\n",
      "Warning: Label not found for render9465.png\n",
      "Warning: Label not found for render4709.png\n",
      "Warning: Label not found for render3007.png\n",
      "Warning: Label not found for render4998.png\n",
      "Warning: Label not found for render2062.png\n",
      "Warning: Label not found for render9229.png\n",
      "Warning: Label not found for render4687.png\n",
      "Warning: Label not found for render9395.png\n",
      "Warning: Label not found for render8301.png\n",
      "Warning: Label not found for render2058.png\n",
      "Warning: Label not found for render1396.png\n",
      "Warning: Label not found for render1167.png\n",
      "Warning: Label not found for render8019.png\n",
      "Warning: Label not found for render2128.png\n",
      "Warning: Label not found for render0008.png\n",
      "Warning: Label not found for render8273.png\n",
      "Warning: Label not found for render1462.png\n",
      "Warning: Label not found for render3849.png\n",
      "Warning: Label not found for render6963.png\n",
      "Warning: Label not found for render6462.png\n",
      "Warning: Label not found for render2569.png\n",
      "Warning: Label not found for render2211.png\n",
      "Warning: Label not found for render5997.png\n",
      "Warning: Label not found for render9374.png\n",
      "Warning: Label not found for render4678.png\n",
      "Warning: Label not found for render6255.png\n",
      "Warning: Label not found for render0994.png\n",
      "Warning: Label not found for render6786.png\n",
      "Warning: Label not found for render5072.png\n",
      "Warning: Label not found for render7438.png\n",
      "Warning: Label not found for render7379.png\n",
      "Dataset split complete.\n"
     ]
    }
   ],
   "source": [
    "split_dataset(\n",
    "    images_dir=path_map['ROOT'] / \"rocksdataset/images/render\",\n",
    "    labels_dir=path_map['ROOT'] /\"labels\",\n",
    "    output_dir= path_map['PROJECT_IMAGES'],\n",
    "    train_ratio=0.8,\n",
    "    val_ratio=0.1,\n",
    "    test_ratio=0.1\n",
    ")"
   ]
  },
  {
   "cell_type": "code",
   "execution_count": 45,
   "id": "b6842632-ab54-4db8-8c82-d84cb41f202f",
   "metadata": {},
   "outputs": [
    {
     "name": "stdout",
     "output_type": "stream",
     "text": [
      "Created 'dataset.yaml' with paths as plain strings.\n"
     ]
    }
   ],
   "source": [
    "# Adjusted usage example with the new function parameters\n",
    "make_data_yaml(\n",
    "    data_yaml_path=\"dataset.yaml\",\n",
    "    abs_root_path=str(path_map['ROOT'] / \"datasets/yolov9c_craters\"),  # Absolute root path to dataset\n",
    "    rel_train_images_path=\"images/images/train\",               # Relative path from root\n",
    "    rel_val_images_path=\"images/images/val\",                   # Relative path from root\n",
    "    class_map={0: \"rock\"}                                      # Class map with ID and class name\n",
    ")\n"
   ]
  },
  {
   "cell_type": "code",
   "execution_count": null,
   "id": "a8d50237-eced-49af-9cd4-8c6580d14bb2",
   "metadata": {
    "scrolled": true
   },
   "outputs": [
    {
     "name": "stdout",
     "output_type": "stream",
     "text": [
      "New https://pypi.org/project/ultralytics/8.3.26 available 😃 Update with 'pip install -U ultralytics'\n",
      "Ultralytics 8.3.24 🚀 Python-3.10.15 torch-2.5.0+cu124 CUDA:0 (NVIDIA GeForce RTX 2070, 7952MiB)\n",
      "\u001b[34m\u001b[1mengine/trainer: \u001b[0mtask=detect, mode=train, model=yolov9c.pt, data=dataset.yaml, epochs=300, time=None, patience=25, batch=16, imgsz=512, save=True, save_period=-1, cache=False, device=None, workers=8, project=None, name=train15, exist_ok=False, pretrained=True, optimizer=auto, verbose=True, seed=0, deterministic=True, single_cls=False, rect=False, cos_lr=False, close_mosaic=10, resume=False, amp=True, fraction=1.0, profile=False, freeze=18, multi_scale=False, overlap_mask=True, mask_ratio=4, dropout=0.0, val=True, split=val, save_json=False, save_hybrid=False, conf=None, iou=0.5, max_det=300, half=False, dnn=False, plots=True, source=None, vid_stride=1, stream_buffer=False, visualize=False, augment=False, agnostic_nms=False, classes=None, retina_masks=False, embed=None, show=False, save_frames=False, save_txt=False, save_conf=False, save_crop=False, show_labels=True, show_conf=True, show_boxes=True, line_width=None, format=torchscript, keras=False, optimize=False, int8=False, dynamic=False, simplify=True, opset=None, workspace=4, nms=False, lr0=0.01, lrf=0.01, momentum=0.937, weight_decay=0.0005, warmup_epochs=3.0, warmup_momentum=0.8, warmup_bias_lr=0.1, box=7.5, cls=0.5, dfl=1.5, pose=12.0, kobj=1.0, label_smoothing=0.0, nbs=64, hsv_h=0.015, hsv_s=0.7, hsv_v=0.4, degrees=0.0, translate=0.1, scale=0.5, shear=0.0, perspective=0.0, flipud=0.0, fliplr=0.5, bgr=0.0, mosaic=1.0, mixup=0.0, copy_paste=0.0, copy_paste_mode=flip, auto_augment=randaugment, erasing=0.4, crop_fraction=1.0, cfg=None, tracker=botsort.yaml, save_dir=runs/detect/train15\n",
      "Overriding model.yaml nc=80 with nc=1\n",
      "\n",
      "                   from  n    params  module                                       arguments                     \n",
      "  0                  -1  1      1856  ultralytics.nn.modules.conv.Conv             [3, 64, 3, 2]                 \n",
      "  1                  -1  1     73984  ultralytics.nn.modules.conv.Conv             [64, 128, 3, 2]               \n",
      "  2                  -1  1    212864  ultralytics.nn.modules.block.RepNCSPELAN4    [128, 256, 128, 64, 1]        \n",
      "  3                  -1  1    164352  ultralytics.nn.modules.block.ADown           [256, 256]                    \n",
      "  4                  -1  1    847616  ultralytics.nn.modules.block.RepNCSPELAN4    [256, 512, 256, 128, 1]       \n",
      "  5                  -1  1    656384  ultralytics.nn.modules.block.ADown           [512, 512]                    \n",
      "  6                  -1  1   2857472  ultralytics.nn.modules.block.RepNCSPELAN4    [512, 512, 512, 256, 1]       \n",
      "  7                  -1  1    656384  ultralytics.nn.modules.block.ADown           [512, 512]                    \n",
      "  8                  -1  1   2857472  ultralytics.nn.modules.block.RepNCSPELAN4    [512, 512, 512, 256, 1]       \n",
      "  9                  -1  1    656896  ultralytics.nn.modules.block.SPPELAN         [512, 512, 256]               \n",
      " 10                  -1  1         0  torch.nn.modules.upsampling.Upsample         [None, 2, 'nearest']          \n",
      " 11             [-1, 6]  1         0  ultralytics.nn.modules.conv.Concat           [1]                           \n",
      " 12                  -1  1   3119616  ultralytics.nn.modules.block.RepNCSPELAN4    [1024, 512, 512, 256, 1]      \n",
      " 13                  -1  1         0  torch.nn.modules.upsampling.Upsample         [None, 2, 'nearest']          \n",
      " 14             [-1, 4]  1         0  ultralytics.nn.modules.conv.Concat           [1]                           \n",
      " 15                  -1  1    912640  ultralytics.nn.modules.block.RepNCSPELAN4    [1024, 256, 256, 128, 1]      \n",
      " 16                  -1  1    164352  ultralytics.nn.modules.block.ADown           [256, 256]                    \n",
      " 17            [-1, 12]  1         0  ultralytics.nn.modules.conv.Concat           [1]                           \n",
      " 18                  -1  1   2988544  ultralytics.nn.modules.block.RepNCSPELAN4    [768, 512, 512, 256, 1]       \n",
      " 19                  -1  1    656384  ultralytics.nn.modules.block.ADown           [512, 512]                    \n",
      " 20             [-1, 9]  1         0  ultralytics.nn.modules.conv.Concat           [1]                           \n",
      " 21                  -1  1   3119616  ultralytics.nn.modules.block.RepNCSPELAN4    [1024, 512, 512, 256, 1]      \n",
      " 22        [15, 18, 21]  1   5583571  ultralytics.nn.modules.head.Detect           [1, [256, 512, 512]]          \n",
      "YOLOv9c summary: 618 layers, 25,530,003 parameters, 25,529,987 gradients, 103.7 GFLOPs\n",
      "\n",
      "Transferred 931/937 items from pretrained weights\n",
      "\u001b[34m\u001b[1mTensorBoard: \u001b[0mStart with 'tensorboard --logdir runs/detect/train15', view at http://localhost:6006/\n",
      "Freezing layer 'model.0.conv.weight'\n",
      "Freezing layer 'model.0.bn.weight'\n",
      "Freezing layer 'model.0.bn.bias'\n",
      "Freezing layer 'model.1.conv.weight'\n",
      "Freezing layer 'model.1.bn.weight'\n",
      "Freezing layer 'model.1.bn.bias'\n",
      "Freezing layer 'model.2.cv1.conv.weight'\n",
      "Freezing layer 'model.2.cv1.bn.weight'\n",
      "Freezing layer 'model.2.cv1.bn.bias'\n",
      "Freezing layer 'model.2.cv2.0.cv1.conv.weight'\n",
      "Freezing layer 'model.2.cv2.0.cv1.bn.weight'\n",
      "Freezing layer 'model.2.cv2.0.cv1.bn.bias'\n",
      "Freezing layer 'model.2.cv2.0.cv2.conv.weight'\n",
      "Freezing layer 'model.2.cv2.0.cv2.bn.weight'\n",
      "Freezing layer 'model.2.cv2.0.cv2.bn.bias'\n",
      "Freezing layer 'model.2.cv2.0.cv3.conv.weight'\n",
      "Freezing layer 'model.2.cv2.0.cv3.bn.weight'\n",
      "Freezing layer 'model.2.cv2.0.cv3.bn.bias'\n",
      "Freezing layer 'model.2.cv2.0.m.0.cv1.conv1.conv.weight'\n",
      "Freezing layer 'model.2.cv2.0.m.0.cv1.conv1.bn.weight'\n",
      "Freezing layer 'model.2.cv2.0.m.0.cv1.conv1.bn.bias'\n",
      "Freezing layer 'model.2.cv2.0.m.0.cv1.conv2.conv.weight'\n",
      "Freezing layer 'model.2.cv2.0.m.0.cv1.conv2.bn.weight'\n",
      "Freezing layer 'model.2.cv2.0.m.0.cv1.conv2.bn.bias'\n",
      "Freezing layer 'model.2.cv2.0.m.0.cv2.conv.weight'\n",
      "Freezing layer 'model.2.cv2.0.m.0.cv2.bn.weight'\n",
      "Freezing layer 'model.2.cv2.0.m.0.cv2.bn.bias'\n",
      "Freezing layer 'model.2.cv2.1.conv.weight'\n",
      "Freezing layer 'model.2.cv2.1.bn.weight'\n",
      "Freezing layer 'model.2.cv2.1.bn.bias'\n",
      "Freezing layer 'model.2.cv3.0.cv1.conv.weight'\n",
      "Freezing layer 'model.2.cv3.0.cv1.bn.weight'\n",
      "Freezing layer 'model.2.cv3.0.cv1.bn.bias'\n",
      "Freezing layer 'model.2.cv3.0.cv2.conv.weight'\n",
      "Freezing layer 'model.2.cv3.0.cv2.bn.weight'\n",
      "Freezing layer 'model.2.cv3.0.cv2.bn.bias'\n",
      "Freezing layer 'model.2.cv3.0.cv3.conv.weight'\n",
      "Freezing layer 'model.2.cv3.0.cv3.bn.weight'\n",
      "Freezing layer 'model.2.cv3.0.cv3.bn.bias'\n",
      "Freezing layer 'model.2.cv3.0.m.0.cv1.conv1.conv.weight'\n",
      "Freezing layer 'model.2.cv3.0.m.0.cv1.conv1.bn.weight'\n",
      "Freezing layer 'model.2.cv3.0.m.0.cv1.conv1.bn.bias'\n",
      "Freezing layer 'model.2.cv3.0.m.0.cv1.conv2.conv.weight'\n",
      "Freezing layer 'model.2.cv3.0.m.0.cv1.conv2.bn.weight'\n",
      "Freezing layer 'model.2.cv3.0.m.0.cv1.conv2.bn.bias'\n",
      "Freezing layer 'model.2.cv3.0.m.0.cv2.conv.weight'\n",
      "Freezing layer 'model.2.cv3.0.m.0.cv2.bn.weight'\n",
      "Freezing layer 'model.2.cv3.0.m.0.cv2.bn.bias'\n",
      "Freezing layer 'model.2.cv3.1.conv.weight'\n",
      "Freezing layer 'model.2.cv3.1.bn.weight'\n",
      "Freezing layer 'model.2.cv3.1.bn.bias'\n",
      "Freezing layer 'model.2.cv4.conv.weight'\n",
      "Freezing layer 'model.2.cv4.bn.weight'\n",
      "Freezing layer 'model.2.cv4.bn.bias'\n",
      "Freezing layer 'model.3.cv1.conv.weight'\n",
      "Freezing layer 'model.3.cv1.bn.weight'\n",
      "Freezing layer 'model.3.cv1.bn.bias'\n",
      "Freezing layer 'model.3.cv2.conv.weight'\n",
      "Freezing layer 'model.3.cv2.bn.weight'\n",
      "Freezing layer 'model.3.cv2.bn.bias'\n",
      "Freezing layer 'model.4.cv1.conv.weight'\n",
      "Freezing layer 'model.4.cv1.bn.weight'\n",
      "Freezing layer 'model.4.cv1.bn.bias'\n",
      "Freezing layer 'model.4.cv2.0.cv1.conv.weight'\n",
      "Freezing layer 'model.4.cv2.0.cv1.bn.weight'\n",
      "Freezing layer 'model.4.cv2.0.cv1.bn.bias'\n",
      "Freezing layer 'model.4.cv2.0.cv2.conv.weight'\n",
      "Freezing layer 'model.4.cv2.0.cv2.bn.weight'\n",
      "Freezing layer 'model.4.cv2.0.cv2.bn.bias'\n",
      "Freezing layer 'model.4.cv2.0.cv3.conv.weight'\n",
      "Freezing layer 'model.4.cv2.0.cv3.bn.weight'\n",
      "Freezing layer 'model.4.cv2.0.cv3.bn.bias'\n",
      "Freezing layer 'model.4.cv2.0.m.0.cv1.conv1.conv.weight'\n",
      "Freezing layer 'model.4.cv2.0.m.0.cv1.conv1.bn.weight'\n",
      "Freezing layer 'model.4.cv2.0.m.0.cv1.conv1.bn.bias'\n",
      "Freezing layer 'model.4.cv2.0.m.0.cv1.conv2.conv.weight'\n",
      "Freezing layer 'model.4.cv2.0.m.0.cv1.conv2.bn.weight'\n",
      "Freezing layer 'model.4.cv2.0.m.0.cv1.conv2.bn.bias'\n",
      "Freezing layer 'model.4.cv2.0.m.0.cv2.conv.weight'\n",
      "Freezing layer 'model.4.cv2.0.m.0.cv2.bn.weight'\n",
      "Freezing layer 'model.4.cv2.0.m.0.cv2.bn.bias'\n",
      "Freezing layer 'model.4.cv2.1.conv.weight'\n",
      "Freezing layer 'model.4.cv2.1.bn.weight'\n",
      "Freezing layer 'model.4.cv2.1.bn.bias'\n",
      "Freezing layer 'model.4.cv3.0.cv1.conv.weight'\n",
      "Freezing layer 'model.4.cv3.0.cv1.bn.weight'\n",
      "Freezing layer 'model.4.cv3.0.cv1.bn.bias'\n",
      "Freezing layer 'model.4.cv3.0.cv2.conv.weight'\n",
      "Freezing layer 'model.4.cv3.0.cv2.bn.weight'\n",
      "Freezing layer 'model.4.cv3.0.cv2.bn.bias'\n",
      "Freezing layer 'model.4.cv3.0.cv3.conv.weight'\n",
      "Freezing layer 'model.4.cv3.0.cv3.bn.weight'\n",
      "Freezing layer 'model.4.cv3.0.cv3.bn.bias'\n",
      "Freezing layer 'model.4.cv3.0.m.0.cv1.conv1.conv.weight'\n",
      "Freezing layer 'model.4.cv3.0.m.0.cv1.conv1.bn.weight'\n",
      "Freezing layer 'model.4.cv3.0.m.0.cv1.conv1.bn.bias'\n",
      "Freezing layer 'model.4.cv3.0.m.0.cv1.conv2.conv.weight'\n",
      "Freezing layer 'model.4.cv3.0.m.0.cv1.conv2.bn.weight'\n",
      "Freezing layer 'model.4.cv3.0.m.0.cv1.conv2.bn.bias'\n",
      "Freezing layer 'model.4.cv3.0.m.0.cv2.conv.weight'\n",
      "Freezing layer 'model.4.cv3.0.m.0.cv2.bn.weight'\n",
      "Freezing layer 'model.4.cv3.0.m.0.cv2.bn.bias'\n",
      "Freezing layer 'model.4.cv3.1.conv.weight'\n",
      "Freezing layer 'model.4.cv3.1.bn.weight'\n",
      "Freezing layer 'model.4.cv3.1.bn.bias'\n",
      "Freezing layer 'model.4.cv4.conv.weight'\n",
      "Freezing layer 'model.4.cv4.bn.weight'\n",
      "Freezing layer 'model.4.cv4.bn.bias'\n",
      "Freezing layer 'model.5.cv1.conv.weight'\n",
      "Freezing layer 'model.5.cv1.bn.weight'\n",
      "Freezing layer 'model.5.cv1.bn.bias'\n",
      "Freezing layer 'model.5.cv2.conv.weight'\n",
      "Freezing layer 'model.5.cv2.bn.weight'\n",
      "Freezing layer 'model.5.cv2.bn.bias'\n",
      "Freezing layer 'model.6.cv1.conv.weight'\n",
      "Freezing layer 'model.6.cv1.bn.weight'\n",
      "Freezing layer 'model.6.cv1.bn.bias'\n",
      "Freezing layer 'model.6.cv2.0.cv1.conv.weight'\n",
      "Freezing layer 'model.6.cv2.0.cv1.bn.weight'\n",
      "Freezing layer 'model.6.cv2.0.cv1.bn.bias'\n",
      "Freezing layer 'model.6.cv2.0.cv2.conv.weight'\n",
      "Freezing layer 'model.6.cv2.0.cv2.bn.weight'\n",
      "Freezing layer 'model.6.cv2.0.cv2.bn.bias'\n",
      "Freezing layer 'model.6.cv2.0.cv3.conv.weight'\n",
      "Freezing layer 'model.6.cv2.0.cv3.bn.weight'\n",
      "Freezing layer 'model.6.cv2.0.cv3.bn.bias'\n",
      "Freezing layer 'model.6.cv2.0.m.0.cv1.conv1.conv.weight'\n",
      "Freezing layer 'model.6.cv2.0.m.0.cv1.conv1.bn.weight'\n",
      "Freezing layer 'model.6.cv2.0.m.0.cv1.conv1.bn.bias'\n",
      "Freezing layer 'model.6.cv2.0.m.0.cv1.conv2.conv.weight'\n",
      "Freezing layer 'model.6.cv2.0.m.0.cv1.conv2.bn.weight'\n",
      "Freezing layer 'model.6.cv2.0.m.0.cv1.conv2.bn.bias'\n",
      "Freezing layer 'model.6.cv2.0.m.0.cv2.conv.weight'\n",
      "Freezing layer 'model.6.cv2.0.m.0.cv2.bn.weight'\n",
      "Freezing layer 'model.6.cv2.0.m.0.cv2.bn.bias'\n",
      "Freezing layer 'model.6.cv2.1.conv.weight'\n",
      "Freezing layer 'model.6.cv2.1.bn.weight'\n",
      "Freezing layer 'model.6.cv2.1.bn.bias'\n",
      "Freezing layer 'model.6.cv3.0.cv1.conv.weight'\n",
      "Freezing layer 'model.6.cv3.0.cv1.bn.weight'\n",
      "Freezing layer 'model.6.cv3.0.cv1.bn.bias'\n",
      "Freezing layer 'model.6.cv3.0.cv2.conv.weight'\n",
      "Freezing layer 'model.6.cv3.0.cv2.bn.weight'\n",
      "Freezing layer 'model.6.cv3.0.cv2.bn.bias'\n",
      "Freezing layer 'model.6.cv3.0.cv3.conv.weight'\n",
      "Freezing layer 'model.6.cv3.0.cv3.bn.weight'\n",
      "Freezing layer 'model.6.cv3.0.cv3.bn.bias'\n",
      "Freezing layer 'model.6.cv3.0.m.0.cv1.conv1.conv.weight'\n",
      "Freezing layer 'model.6.cv3.0.m.0.cv1.conv1.bn.weight'\n",
      "Freezing layer 'model.6.cv3.0.m.0.cv1.conv1.bn.bias'\n",
      "Freezing layer 'model.6.cv3.0.m.0.cv1.conv2.conv.weight'\n",
      "Freezing layer 'model.6.cv3.0.m.0.cv1.conv2.bn.weight'\n",
      "Freezing layer 'model.6.cv3.0.m.0.cv1.conv2.bn.bias'\n",
      "Freezing layer 'model.6.cv3.0.m.0.cv2.conv.weight'\n",
      "Freezing layer 'model.6.cv3.0.m.0.cv2.bn.weight'\n",
      "Freezing layer 'model.6.cv3.0.m.0.cv2.bn.bias'\n",
      "Freezing layer 'model.6.cv3.1.conv.weight'\n",
      "Freezing layer 'model.6.cv3.1.bn.weight'\n",
      "Freezing layer 'model.6.cv3.1.bn.bias'\n",
      "Freezing layer 'model.6.cv4.conv.weight'\n",
      "Freezing layer 'model.6.cv4.bn.weight'\n",
      "Freezing layer 'model.6.cv4.bn.bias'\n",
      "Freezing layer 'model.7.cv1.conv.weight'\n",
      "Freezing layer 'model.7.cv1.bn.weight'\n",
      "Freezing layer 'model.7.cv1.bn.bias'\n",
      "Freezing layer 'model.7.cv2.conv.weight'\n",
      "Freezing layer 'model.7.cv2.bn.weight'\n",
      "Freezing layer 'model.7.cv2.bn.bias'\n",
      "Freezing layer 'model.8.cv1.conv.weight'\n",
      "Freezing layer 'model.8.cv1.bn.weight'\n",
      "Freezing layer 'model.8.cv1.bn.bias'\n",
      "Freezing layer 'model.8.cv2.0.cv1.conv.weight'\n",
      "Freezing layer 'model.8.cv2.0.cv1.bn.weight'\n",
      "Freezing layer 'model.8.cv2.0.cv1.bn.bias'\n",
      "Freezing layer 'model.8.cv2.0.cv2.conv.weight'\n",
      "Freezing layer 'model.8.cv2.0.cv2.bn.weight'\n",
      "Freezing layer 'model.8.cv2.0.cv2.bn.bias'\n",
      "Freezing layer 'model.8.cv2.0.cv3.conv.weight'\n",
      "Freezing layer 'model.8.cv2.0.cv3.bn.weight'\n",
      "Freezing layer 'model.8.cv2.0.cv3.bn.bias'\n",
      "Freezing layer 'model.8.cv2.0.m.0.cv1.conv1.conv.weight'\n",
      "Freezing layer 'model.8.cv2.0.m.0.cv1.conv1.bn.weight'\n",
      "Freezing layer 'model.8.cv2.0.m.0.cv1.conv1.bn.bias'\n",
      "Freezing layer 'model.8.cv2.0.m.0.cv1.conv2.conv.weight'\n",
      "Freezing layer 'model.8.cv2.0.m.0.cv1.conv2.bn.weight'\n",
      "Freezing layer 'model.8.cv2.0.m.0.cv1.conv2.bn.bias'\n",
      "Freezing layer 'model.8.cv2.0.m.0.cv2.conv.weight'\n",
      "Freezing layer 'model.8.cv2.0.m.0.cv2.bn.weight'\n",
      "Freezing layer 'model.8.cv2.0.m.0.cv2.bn.bias'\n",
      "Freezing layer 'model.8.cv2.1.conv.weight'\n",
      "Freezing layer 'model.8.cv2.1.bn.weight'\n",
      "Freezing layer 'model.8.cv2.1.bn.bias'\n",
      "Freezing layer 'model.8.cv3.0.cv1.conv.weight'\n",
      "Freezing layer 'model.8.cv3.0.cv1.bn.weight'\n",
      "Freezing layer 'model.8.cv3.0.cv1.bn.bias'\n",
      "Freezing layer 'model.8.cv3.0.cv2.conv.weight'\n",
      "Freezing layer 'model.8.cv3.0.cv2.bn.weight'\n",
      "Freezing layer 'model.8.cv3.0.cv2.bn.bias'\n",
      "Freezing layer 'model.8.cv3.0.cv3.conv.weight'\n",
      "Freezing layer 'model.8.cv3.0.cv3.bn.weight'\n",
      "Freezing layer 'model.8.cv3.0.cv3.bn.bias'\n",
      "Freezing layer 'model.8.cv3.0.m.0.cv1.conv1.conv.weight'\n",
      "Freezing layer 'model.8.cv3.0.m.0.cv1.conv1.bn.weight'\n",
      "Freezing layer 'model.8.cv3.0.m.0.cv1.conv1.bn.bias'\n",
      "Freezing layer 'model.8.cv3.0.m.0.cv1.conv2.conv.weight'\n",
      "Freezing layer 'model.8.cv3.0.m.0.cv1.conv2.bn.weight'\n",
      "Freezing layer 'model.8.cv3.0.m.0.cv1.conv2.bn.bias'\n",
      "Freezing layer 'model.8.cv3.0.m.0.cv2.conv.weight'\n",
      "Freezing layer 'model.8.cv3.0.m.0.cv2.bn.weight'\n",
      "Freezing layer 'model.8.cv3.0.m.0.cv2.bn.bias'\n",
      "Freezing layer 'model.8.cv3.1.conv.weight'\n",
      "Freezing layer 'model.8.cv3.1.bn.weight'\n",
      "Freezing layer 'model.8.cv3.1.bn.bias'\n",
      "Freezing layer 'model.8.cv4.conv.weight'\n",
      "Freezing layer 'model.8.cv4.bn.weight'\n",
      "Freezing layer 'model.8.cv4.bn.bias'\n",
      "Freezing layer 'model.9.cv1.conv.weight'\n",
      "Freezing layer 'model.9.cv1.bn.weight'\n",
      "Freezing layer 'model.9.cv1.bn.bias'\n",
      "Freezing layer 'model.9.cv5.conv.weight'\n",
      "Freezing layer 'model.9.cv5.bn.weight'\n",
      "Freezing layer 'model.9.cv5.bn.bias'\n",
      "Freezing layer 'model.12.cv1.conv.weight'\n",
      "Freezing layer 'model.12.cv1.bn.weight'\n",
      "Freezing layer 'model.12.cv1.bn.bias'\n",
      "Freezing layer 'model.12.cv2.0.cv1.conv.weight'\n",
      "Freezing layer 'model.12.cv2.0.cv1.bn.weight'\n",
      "Freezing layer 'model.12.cv2.0.cv1.bn.bias'\n",
      "Freezing layer 'model.12.cv2.0.cv2.conv.weight'\n",
      "Freezing layer 'model.12.cv2.0.cv2.bn.weight'\n",
      "Freezing layer 'model.12.cv2.0.cv2.bn.bias'\n",
      "Freezing layer 'model.12.cv2.0.cv3.conv.weight'\n",
      "Freezing layer 'model.12.cv2.0.cv3.bn.weight'\n",
      "Freezing layer 'model.12.cv2.0.cv3.bn.bias'\n",
      "Freezing layer 'model.12.cv2.0.m.0.cv1.conv1.conv.weight'\n",
      "Freezing layer 'model.12.cv2.0.m.0.cv1.conv1.bn.weight'\n",
      "Freezing layer 'model.12.cv2.0.m.0.cv1.conv1.bn.bias'\n",
      "Freezing layer 'model.12.cv2.0.m.0.cv1.conv2.conv.weight'\n",
      "Freezing layer 'model.12.cv2.0.m.0.cv1.conv2.bn.weight'\n",
      "Freezing layer 'model.12.cv2.0.m.0.cv1.conv2.bn.bias'\n",
      "Freezing layer 'model.12.cv2.0.m.0.cv2.conv.weight'\n",
      "Freezing layer 'model.12.cv2.0.m.0.cv2.bn.weight'\n",
      "Freezing layer 'model.12.cv2.0.m.0.cv2.bn.bias'\n",
      "Freezing layer 'model.12.cv2.1.conv.weight'\n",
      "Freezing layer 'model.12.cv2.1.bn.weight'\n",
      "Freezing layer 'model.12.cv2.1.bn.bias'\n",
      "Freezing layer 'model.12.cv3.0.cv1.conv.weight'\n",
      "Freezing layer 'model.12.cv3.0.cv1.bn.weight'\n",
      "Freezing layer 'model.12.cv3.0.cv1.bn.bias'\n",
      "Freezing layer 'model.12.cv3.0.cv2.conv.weight'\n",
      "Freezing layer 'model.12.cv3.0.cv2.bn.weight'\n",
      "Freezing layer 'model.12.cv3.0.cv2.bn.bias'\n",
      "Freezing layer 'model.12.cv3.0.cv3.conv.weight'\n",
      "Freezing layer 'model.12.cv3.0.cv3.bn.weight'\n",
      "Freezing layer 'model.12.cv3.0.cv3.bn.bias'\n",
      "Freezing layer 'model.12.cv3.0.m.0.cv1.conv1.conv.weight'\n",
      "Freezing layer 'model.12.cv3.0.m.0.cv1.conv1.bn.weight'\n",
      "Freezing layer 'model.12.cv3.0.m.0.cv1.conv1.bn.bias'\n",
      "Freezing layer 'model.12.cv3.0.m.0.cv1.conv2.conv.weight'\n",
      "Freezing layer 'model.12.cv3.0.m.0.cv1.conv2.bn.weight'\n",
      "Freezing layer 'model.12.cv3.0.m.0.cv1.conv2.bn.bias'\n",
      "Freezing layer 'model.12.cv3.0.m.0.cv2.conv.weight'\n",
      "Freezing layer 'model.12.cv3.0.m.0.cv2.bn.weight'\n",
      "Freezing layer 'model.12.cv3.0.m.0.cv2.bn.bias'\n",
      "Freezing layer 'model.12.cv3.1.conv.weight'\n",
      "Freezing layer 'model.12.cv3.1.bn.weight'\n",
      "Freezing layer 'model.12.cv3.1.bn.bias'\n",
      "Freezing layer 'model.12.cv4.conv.weight'\n",
      "Freezing layer 'model.12.cv4.bn.weight'\n",
      "Freezing layer 'model.12.cv4.bn.bias'\n",
      "Freezing layer 'model.15.cv1.conv.weight'\n",
      "Freezing layer 'model.15.cv1.bn.weight'\n",
      "Freezing layer 'model.15.cv1.bn.bias'\n",
      "Freezing layer 'model.15.cv2.0.cv1.conv.weight'\n",
      "Freezing layer 'model.15.cv2.0.cv1.bn.weight'\n",
      "Freezing layer 'model.15.cv2.0.cv1.bn.bias'\n",
      "Freezing layer 'model.15.cv2.0.cv2.conv.weight'\n",
      "Freezing layer 'model.15.cv2.0.cv2.bn.weight'\n",
      "Freezing layer 'model.15.cv2.0.cv2.bn.bias'\n",
      "Freezing layer 'model.15.cv2.0.cv3.conv.weight'\n",
      "Freezing layer 'model.15.cv2.0.cv3.bn.weight'\n",
      "Freezing layer 'model.15.cv2.0.cv3.bn.bias'\n",
      "Freezing layer 'model.15.cv2.0.m.0.cv1.conv1.conv.weight'\n",
      "Freezing layer 'model.15.cv2.0.m.0.cv1.conv1.bn.weight'\n",
      "Freezing layer 'model.15.cv2.0.m.0.cv1.conv1.bn.bias'\n",
      "Freezing layer 'model.15.cv2.0.m.0.cv1.conv2.conv.weight'\n",
      "Freezing layer 'model.15.cv2.0.m.0.cv1.conv2.bn.weight'\n",
      "Freezing layer 'model.15.cv2.0.m.0.cv1.conv2.bn.bias'\n",
      "Freezing layer 'model.15.cv2.0.m.0.cv2.conv.weight'\n",
      "Freezing layer 'model.15.cv2.0.m.0.cv2.bn.weight'\n",
      "Freezing layer 'model.15.cv2.0.m.0.cv2.bn.bias'\n",
      "Freezing layer 'model.15.cv2.1.conv.weight'\n",
      "Freezing layer 'model.15.cv2.1.bn.weight'\n",
      "Freezing layer 'model.15.cv2.1.bn.bias'\n",
      "Freezing layer 'model.15.cv3.0.cv1.conv.weight'\n",
      "Freezing layer 'model.15.cv3.0.cv1.bn.weight'\n",
      "Freezing layer 'model.15.cv3.0.cv1.bn.bias'\n",
      "Freezing layer 'model.15.cv3.0.cv2.conv.weight'\n",
      "Freezing layer 'model.15.cv3.0.cv2.bn.weight'\n",
      "Freezing layer 'model.15.cv3.0.cv2.bn.bias'\n",
      "Freezing layer 'model.15.cv3.0.cv3.conv.weight'\n",
      "Freezing layer 'model.15.cv3.0.cv3.bn.weight'\n",
      "Freezing layer 'model.15.cv3.0.cv3.bn.bias'\n",
      "Freezing layer 'model.15.cv3.0.m.0.cv1.conv1.conv.weight'\n",
      "Freezing layer 'model.15.cv3.0.m.0.cv1.conv1.bn.weight'\n",
      "Freezing layer 'model.15.cv3.0.m.0.cv1.conv1.bn.bias'\n",
      "Freezing layer 'model.15.cv3.0.m.0.cv1.conv2.conv.weight'\n",
      "Freezing layer 'model.15.cv3.0.m.0.cv1.conv2.bn.weight'\n",
      "Freezing layer 'model.15.cv3.0.m.0.cv1.conv2.bn.bias'\n",
      "Freezing layer 'model.15.cv3.0.m.0.cv2.conv.weight'\n",
      "Freezing layer 'model.15.cv3.0.m.0.cv2.bn.weight'\n",
      "Freezing layer 'model.15.cv3.0.m.0.cv2.bn.bias'\n",
      "Freezing layer 'model.15.cv3.1.conv.weight'\n",
      "Freezing layer 'model.15.cv3.1.bn.weight'\n",
      "Freezing layer 'model.15.cv3.1.bn.bias'\n",
      "Freezing layer 'model.15.cv4.conv.weight'\n",
      "Freezing layer 'model.15.cv4.bn.weight'\n",
      "Freezing layer 'model.15.cv4.bn.bias'\n",
      "Freezing layer 'model.16.cv1.conv.weight'\n",
      "Freezing layer 'model.16.cv1.bn.weight'\n",
      "Freezing layer 'model.16.cv1.bn.bias'\n",
      "Freezing layer 'model.16.cv2.conv.weight'\n",
      "Freezing layer 'model.16.cv2.bn.weight'\n",
      "Freezing layer 'model.16.cv2.bn.bias'\n",
      "Freezing layer 'model.22.dfl.conv.weight'\n",
      "\u001b[34m\u001b[1mAMP: \u001b[0mrunning Automatic Mixed Precision (AMP) checks...\n",
      "\u001b[34m\u001b[1mAMP: \u001b[0mchecks passed ✅\n"
     ]
    },
    {
     "name": "stderr",
     "output_type": "stream",
     "text": [
      "\u001b[34m\u001b[1mtrain: \u001b[0mScanning /home/microuasml/tmp/craterdetectionluna/datasets/yolov9c_craters/images/labels/train.cache... 4979 images, 0 backgrounds, 0 corrupt: 100%|██████████| 4979/4979 [00:00<?, ?it/s]\u001b[0m\n",
      "\u001b[34m\u001b[1mval: \u001b[0mScanning /home/microuasml/tmp/craterdetectionluna/datasets/yolov9c_craters/images/labels/val.cache... 616 images, 0 backgrounds, 0 corrupt: 100%|██████████| 616/616 [00:00<?, ?it/s]\u001b[0m\n"
     ]
    },
    {
     "name": "stdout",
     "output_type": "stream",
     "text": [
      "Plotting labels to runs/detect/train15/labels.jpg... \n",
      "\u001b[34m\u001b[1moptimizer:\u001b[0m 'optimizer=auto' found, ignoring 'lr0=0.01' and 'momentum=0.937' and determining best 'optimizer', 'lr0' and 'momentum' automatically... \n",
      "\u001b[34m\u001b[1moptimizer:\u001b[0m SGD(lr=0.01, momentum=0.9) with parameter groups 154 weight(decay=0.0), 161 weight(decay=0.0005), 160 bias(decay=0.0)\n",
      "\u001b[34m\u001b[1mTensorBoard: \u001b[0mmodel graph visualization added ✅\n",
      "Image sizes 512 train, 512 val\n",
      "Using 8 dataloader workers\n",
      "Logging results to \u001b[1mruns/detect/train15\u001b[0m\n",
      "Starting training for 300 epochs...\n",
      "\n",
      "      Epoch    GPU_mem   box_loss   cls_loss   dfl_loss  Instances       Size\n"
     ]
    },
    {
     "name": "stderr",
     "output_type": "stream",
     "text": [
      "      1/300      1.65G      1.754      1.971      1.462         22        512: 100%|██████████| 312/312 [00:54<00:00,  5.70it/s]\n",
      "                 Class     Images  Instances      Box(P          R      mAP50  mAP50-95): 100%|██████████| 20/20 [00:04<00:00,  4.78it/s]"
     ]
    },
    {
     "name": "stdout",
     "output_type": "stream",
     "text": [
      "                   all        616       1921      0.597      0.504      0.519      0.271\n"
     ]
    },
    {
     "name": "stderr",
     "output_type": "stream",
     "text": [
      "\n"
     ]
    },
    {
     "name": "stdout",
     "output_type": "stream",
     "text": [
      "\n",
      "      Epoch    GPU_mem   box_loss   cls_loss   dfl_loss  Instances       Size\n"
     ]
    },
    {
     "name": "stderr",
     "output_type": "stream",
     "text": [
      "      2/300      1.96G       1.76      1.714      1.409         20        512: 100%|██████████| 312/312 [00:53<00:00,  5.81it/s]\n",
      "                 Class     Images  Instances      Box(P          R      mAP50  mAP50-95): 100%|██████████| 20/20 [00:03<00:00,  5.04it/s]"
     ]
    },
    {
     "name": "stdout",
     "output_type": "stream",
     "text": [
      "                   all        616       1921      0.598      0.537      0.527      0.273\n"
     ]
    },
    {
     "name": "stderr",
     "output_type": "stream",
     "text": [
      "\n"
     ]
    },
    {
     "name": "stdout",
     "output_type": "stream",
     "text": [
      "\n",
      "      Epoch    GPU_mem   box_loss   cls_loss   dfl_loss  Instances       Size\n"
     ]
    },
    {
     "name": "stderr",
     "output_type": "stream",
     "text": [
      "      3/300      1.98G      1.786      1.691      1.385         10        512: 100%|██████████| 312/312 [00:51<00:00,  6.00it/s]\n",
      "                 Class     Images  Instances      Box(P          R      mAP50  mAP50-95): 100%|██████████| 20/20 [00:03<00:00,  5.11it/s]"
     ]
    },
    {
     "name": "stdout",
     "output_type": "stream",
     "text": [
      "                   all        616       1921      0.642      0.537      0.569      0.291\n"
     ]
    },
    {
     "name": "stderr",
     "output_type": "stream",
     "text": [
      "\n"
     ]
    },
    {
     "name": "stdout",
     "output_type": "stream",
     "text": [
      "\n",
      "      Epoch    GPU_mem   box_loss   cls_loss   dfl_loss  Instances       Size\n"
     ]
    },
    {
     "name": "stderr",
     "output_type": "stream",
     "text": [
      "      4/300      1.96G      1.812      1.649      1.395          4        512: 100%|██████████| 312/312 [00:52<00:00,  5.96it/s]\n",
      "                 Class     Images  Instances      Box(P          R      mAP50  mAP50-95): 100%|██████████| 20/20 [00:03<00:00,  5.03it/s]"
     ]
    },
    {
     "name": "stdout",
     "output_type": "stream",
     "text": [
      "                   all        616       1921      0.664      0.549      0.584      0.302\n"
     ]
    },
    {
     "name": "stderr",
     "output_type": "stream",
     "text": [
      "\n"
     ]
    },
    {
     "name": "stdout",
     "output_type": "stream",
     "text": [
      "\n",
      "      Epoch    GPU_mem   box_loss   cls_loss   dfl_loss  Instances       Size\n"
     ]
    },
    {
     "name": "stderr",
     "output_type": "stream",
     "text": [
      "      5/300       1.7G      1.765      1.597      1.376         12        512: 100%|██████████| 312/312 [00:51<00:00,  6.02it/s]\n",
      "                 Class     Images  Instances      Box(P          R      mAP50  mAP50-95): 100%|██████████| 20/20 [00:04<00:00,  4.88it/s]"
     ]
    },
    {
     "name": "stdout",
     "output_type": "stream",
     "text": [
      "                   all        616       1921      0.707      0.527      0.602       0.32\n"
     ]
    },
    {
     "name": "stderr",
     "output_type": "stream",
     "text": [
      "\n"
     ]
    },
    {
     "name": "stdout",
     "output_type": "stream",
     "text": [
      "\n",
      "      Epoch    GPU_mem   box_loss   cls_loss   dfl_loss  Instances       Size\n"
     ]
    },
    {
     "name": "stderr",
     "output_type": "stream",
     "text": [
      "      6/300      1.55G      1.735      1.568      1.348         34        512: 100%|██████████| 312/312 [00:52<00:00,  5.99it/s]\n",
      "                 Class     Images  Instances      Box(P          R      mAP50  mAP50-95): 100%|██████████| 20/20 [00:03<00:00,  5.11it/s]"
     ]
    },
    {
     "name": "stdout",
     "output_type": "stream",
     "text": [
      "                   all        616       1921        0.7      0.558      0.615      0.328\n"
     ]
    },
    {
     "name": "stderr",
     "output_type": "stream",
     "text": [
      "\n"
     ]
    },
    {
     "name": "stdout",
     "output_type": "stream",
     "text": [
      "\n",
      "      Epoch    GPU_mem   box_loss   cls_loss   dfl_loss  Instances       Size\n"
     ]
    },
    {
     "name": "stderr",
     "output_type": "stream",
     "text": [
      "      7/300      1.55G      1.696      1.496      1.322         21        512: 100%|██████████| 312/312 [00:50<00:00,  6.12it/s]\n",
      "                 Class     Images  Instances      Box(P          R      mAP50  mAP50-95): 100%|██████████| 20/20 [00:03<00:00,  5.11it/s]"
     ]
    },
    {
     "name": "stdout",
     "output_type": "stream",
     "text": [
      "                   all        616       1921      0.713      0.549      0.614      0.338\n"
     ]
    },
    {
     "name": "stderr",
     "output_type": "stream",
     "text": [
      "\n"
     ]
    },
    {
     "name": "stdout",
     "output_type": "stream",
     "text": [
      "\n",
      "      Epoch    GPU_mem   box_loss   cls_loss   dfl_loss  Instances       Size\n"
     ]
    },
    {
     "name": "stderr",
     "output_type": "stream",
     "text": [
      "      8/300      1.86G      1.694      1.501      1.325         13        512: 100%|██████████| 312/312 [00:50<00:00,  6.14it/s]\n",
      "                 Class     Images  Instances      Box(P          R      mAP50  mAP50-95): 100%|██████████| 20/20 [00:03<00:00,  5.12it/s]"
     ]
    },
    {
     "name": "stdout",
     "output_type": "stream",
     "text": [
      "                   all        616       1921      0.677      0.575      0.619      0.333\n"
     ]
    },
    {
     "name": "stderr",
     "output_type": "stream",
     "text": [
      "\n"
     ]
    },
    {
     "name": "stdout",
     "output_type": "stream",
     "text": [
      "\n",
      "      Epoch    GPU_mem   box_loss   cls_loss   dfl_loss  Instances       Size\n"
     ]
    },
    {
     "name": "stderr",
     "output_type": "stream",
     "text": [
      "      9/300         2G      1.694      1.498      1.321         13        512: 100%|██████████| 312/312 [00:51<00:00,  6.08it/s]\n",
      "                 Class     Images  Instances      Box(P          R      mAP50  mAP50-95): 100%|██████████| 20/20 [00:03<00:00,  5.11it/s]"
     ]
    },
    {
     "name": "stdout",
     "output_type": "stream",
     "text": [
      "                   all        616       1921      0.722      0.564      0.624      0.344\n"
     ]
    },
    {
     "name": "stderr",
     "output_type": "stream",
     "text": [
      "\n"
     ]
    },
    {
     "name": "stdout",
     "output_type": "stream",
     "text": [
      "\n",
      "      Epoch    GPU_mem   box_loss   cls_loss   dfl_loss  Instances       Size\n"
     ]
    },
    {
     "name": "stderr",
     "output_type": "stream",
     "text": [
      "     10/300      1.93G      1.676      1.467      1.303         16        512: 100%|██████████| 312/312 [00:51<00:00,  6.09it/s]\n",
      "                 Class     Images  Instances      Box(P          R      mAP50  mAP50-95): 100%|██████████| 20/20 [00:03<00:00,  5.11it/s]"
     ]
    },
    {
     "name": "stdout",
     "output_type": "stream",
     "text": [
      "                   all        616       1921       0.72      0.585      0.643      0.355\n"
     ]
    },
    {
     "name": "stderr",
     "output_type": "stream",
     "text": [
      "\n"
     ]
    },
    {
     "name": "stdout",
     "output_type": "stream",
     "text": [
      "\n",
      "      Epoch    GPU_mem   box_loss   cls_loss   dfl_loss  Instances       Size\n"
     ]
    },
    {
     "name": "stderr",
     "output_type": "stream",
     "text": [
      "     11/300      1.97G      1.667      1.457      1.291         17        512: 100%|██████████| 312/312 [00:51<00:00,  6.12it/s]\n",
      "                 Class     Images  Instances      Box(P          R      mAP50  mAP50-95): 100%|██████████| 20/20 [00:03<00:00,  5.03it/s]"
     ]
    },
    {
     "name": "stdout",
     "output_type": "stream",
     "text": [
      "                   all        616       1921      0.705      0.571      0.636       0.35\n"
     ]
    },
    {
     "name": "stderr",
     "output_type": "stream",
     "text": [
      "\n"
     ]
    },
    {
     "name": "stdout",
     "output_type": "stream",
     "text": [
      "\n",
      "      Epoch    GPU_mem   box_loss   cls_loss   dfl_loss  Instances       Size\n"
     ]
    },
    {
     "name": "stderr",
     "output_type": "stream",
     "text": [
      "     12/300      1.97G      1.645      1.428      1.285         12        512: 100%|██████████| 312/312 [00:52<00:00,  5.92it/s]\n",
      "                 Class     Images  Instances      Box(P          R      mAP50  mAP50-95): 100%|██████████| 20/20 [00:03<00:00,  5.00it/s]"
     ]
    },
    {
     "name": "stdout",
     "output_type": "stream",
     "text": [
      "                   all        616       1921      0.742      0.576      0.647      0.356\n"
     ]
    },
    {
     "name": "stderr",
     "output_type": "stream",
     "text": [
      "\n"
     ]
    },
    {
     "name": "stdout",
     "output_type": "stream",
     "text": [
      "\n",
      "      Epoch    GPU_mem   box_loss   cls_loss   dfl_loss  Instances       Size\n"
     ]
    },
    {
     "name": "stderr",
     "output_type": "stream",
     "text": [
      "     13/300      1.97G      1.653      1.428      1.277         13        512: 100%|██████████| 312/312 [00:51<00:00,  6.11it/s]\n",
      "                 Class     Images  Instances      Box(P          R      mAP50  mAP50-95): 100%|██████████| 20/20 [00:03<00:00,  5.16it/s]"
     ]
    },
    {
     "name": "stdout",
     "output_type": "stream",
     "text": [
      "                   all        616       1921      0.711      0.591      0.648       0.35\n"
     ]
    },
    {
     "name": "stderr",
     "output_type": "stream",
     "text": [
      "\n"
     ]
    },
    {
     "name": "stdout",
     "output_type": "stream",
     "text": [
      "\n",
      "      Epoch    GPU_mem   box_loss   cls_loss   dfl_loss  Instances       Size\n"
     ]
    },
    {
     "name": "stderr",
     "output_type": "stream",
     "text": [
      "     14/300      1.96G      1.636      1.427      1.273          4        512: 100%|██████████| 312/312 [00:50<00:00,  6.14it/s]\n",
      "                 Class     Images  Instances      Box(P          R      mAP50  mAP50-95): 100%|██████████| 20/20 [00:03<00:00,  5.15it/s]"
     ]
    },
    {
     "name": "stdout",
     "output_type": "stream",
     "text": [
      "                   all        616       1921      0.689      0.603      0.642      0.352\n"
     ]
    },
    {
     "name": "stderr",
     "output_type": "stream",
     "text": [
      "\n"
     ]
    },
    {
     "name": "stdout",
     "output_type": "stream",
     "text": [
      "\n",
      "      Epoch    GPU_mem   box_loss   cls_loss   dfl_loss  Instances       Size\n"
     ]
    },
    {
     "name": "stderr",
     "output_type": "stream",
     "text": [
      "     15/300      1.96G      1.628      1.393      1.263         14        512: 100%|██████████| 312/312 [00:50<00:00,  6.14it/s]\n",
      "                 Class     Images  Instances      Box(P          R      mAP50  mAP50-95): 100%|██████████| 20/20 [00:03<00:00,  5.18it/s]"
     ]
    },
    {
     "name": "stdout",
     "output_type": "stream",
     "text": [
      "                   all        616       1921      0.715      0.601      0.655      0.364\n"
     ]
    },
    {
     "name": "stderr",
     "output_type": "stream",
     "text": [
      "\n"
     ]
    },
    {
     "name": "stdout",
     "output_type": "stream",
     "text": [
      "\n",
      "      Epoch    GPU_mem   box_loss   cls_loss   dfl_loss  Instances       Size\n"
     ]
    },
    {
     "name": "stderr",
     "output_type": "stream",
     "text": [
      "     16/300      1.97G      1.636      1.394      1.264         21        512: 100%|██████████| 312/312 [00:50<00:00,  6.14it/s]\n",
      "                 Class     Images  Instances      Box(P          R      mAP50  mAP50-95): 100%|██████████| 20/20 [00:03<00:00,  5.16it/s]"
     ]
    },
    {
     "name": "stdout",
     "output_type": "stream",
     "text": [
      "                   all        616       1921      0.744      0.583      0.654      0.366\n"
     ]
    },
    {
     "name": "stderr",
     "output_type": "stream",
     "text": [
      "\n"
     ]
    },
    {
     "name": "stdout",
     "output_type": "stream",
     "text": [
      "\n",
      "      Epoch    GPU_mem   box_loss   cls_loss   dfl_loss  Instances       Size\n"
     ]
    },
    {
     "name": "stderr",
     "output_type": "stream",
     "text": [
      "     17/300      1.97G      1.609      1.383      1.248         24        512: 100%|██████████| 312/312 [00:51<00:00,  6.02it/s]\n",
      "                 Class     Images  Instances      Box(P          R      mAP50  mAP50-95): 100%|██████████| 20/20 [00:03<00:00,  5.12it/s]"
     ]
    },
    {
     "name": "stdout",
     "output_type": "stream",
     "text": [
      "                   all        616       1921      0.716        0.6      0.643      0.355\n"
     ]
    },
    {
     "name": "stderr",
     "output_type": "stream",
     "text": [
      "\n"
     ]
    },
    {
     "name": "stdout",
     "output_type": "stream",
     "text": [
      "\n",
      "      Epoch    GPU_mem   box_loss   cls_loss   dfl_loss  Instances       Size\n"
     ]
    },
    {
     "name": "stderr",
     "output_type": "stream",
     "text": [
      "     18/300      1.97G      1.623      1.386      1.261         16        512: 100%|██████████| 312/312 [00:50<00:00,  6.14it/s]\n",
      "                 Class     Images  Instances      Box(P          R      mAP50  mAP50-95): 100%|██████████| 20/20 [00:03<00:00,  5.17it/s]"
     ]
    },
    {
     "name": "stdout",
     "output_type": "stream",
     "text": [
      "                   all        616       1921      0.734      0.586      0.653      0.368\n"
     ]
    },
    {
     "name": "stderr",
     "output_type": "stream",
     "text": [
      "\n"
     ]
    },
    {
     "name": "stdout",
     "output_type": "stream",
     "text": [
      "\n",
      "      Epoch    GPU_mem   box_loss   cls_loss   dfl_loss  Instances       Size\n"
     ]
    },
    {
     "name": "stderr",
     "output_type": "stream",
     "text": [
      "     19/300      1.76G      1.606      1.381      1.252         17        512: 100%|██████████| 312/312 [00:51<00:00,  6.06it/s]\n",
      "                 Class     Images  Instances      Box(P          R      mAP50  mAP50-95): 100%|██████████| 20/20 [00:03<00:00,  5.11it/s]"
     ]
    },
    {
     "name": "stdout",
     "output_type": "stream",
     "text": [
      "                   all        616       1921      0.734        0.6      0.663      0.368\n"
     ]
    },
    {
     "name": "stderr",
     "output_type": "stream",
     "text": [
      "\n"
     ]
    },
    {
     "name": "stdout",
     "output_type": "stream",
     "text": [
      "\n",
      "      Epoch    GPU_mem   box_loss   cls_loss   dfl_loss  Instances       Size\n"
     ]
    },
    {
     "name": "stderr",
     "output_type": "stream",
     "text": [
      "     20/300      1.85G      1.598      1.344      1.241         12        512: 100%|██████████| 312/312 [00:51<00:00,  6.04it/s]\n",
      "                 Class     Images  Instances      Box(P          R      mAP50  mAP50-95): 100%|██████████| 20/20 [00:03<00:00,  5.12it/s]"
     ]
    },
    {
     "name": "stdout",
     "output_type": "stream",
     "text": [
      "                   all        616       1921      0.705      0.608      0.657      0.367\n"
     ]
    },
    {
     "name": "stderr",
     "output_type": "stream",
     "text": [
      "\n"
     ]
    },
    {
     "name": "stdout",
     "output_type": "stream",
     "text": [
      "\n",
      "      Epoch    GPU_mem   box_loss   cls_loss   dfl_loss  Instances       Size\n"
     ]
    },
    {
     "name": "stderr",
     "output_type": "stream",
     "text": [
      "     21/300      1.66G      1.602      1.357       1.24         15        512: 100%|██████████| 312/312 [00:51<00:00,  6.07it/s]\n",
      "                 Class     Images  Instances      Box(P          R      mAP50  mAP50-95): 100%|██████████| 20/20 [00:03<00:00,  5.12it/s]"
     ]
    },
    {
     "name": "stdout",
     "output_type": "stream",
     "text": [
      "                   all        616       1921      0.735      0.605      0.657      0.368\n"
     ]
    },
    {
     "name": "stderr",
     "output_type": "stream",
     "text": [
      "\n"
     ]
    },
    {
     "name": "stdout",
     "output_type": "stream",
     "text": [
      "\n",
      "      Epoch    GPU_mem   box_loss   cls_loss   dfl_loss  Instances       Size\n"
     ]
    },
    {
     "name": "stderr",
     "output_type": "stream",
     "text": [
      "     22/300      1.76G      1.587      1.346      1.236         18        512: 100%|██████████| 312/312 [00:50<00:00,  6.13it/s]\n",
      "                 Class     Images  Instances      Box(P          R      mAP50  mAP50-95): 100%|██████████| 20/20 [00:03<00:00,  5.11it/s]"
     ]
    },
    {
     "name": "stdout",
     "output_type": "stream",
     "text": [
      "                   all        616       1921      0.756      0.594      0.665      0.376\n"
     ]
    },
    {
     "name": "stderr",
     "output_type": "stream",
     "text": [
      "\n"
     ]
    },
    {
     "name": "stdout",
     "output_type": "stream",
     "text": [
      "\n",
      "      Epoch    GPU_mem   box_loss   cls_loss   dfl_loss  Instances       Size\n"
     ]
    },
    {
     "name": "stderr",
     "output_type": "stream",
     "text": [
      "     23/300      1.96G      1.609      1.347       1.24         11        512: 100%|██████████| 312/312 [00:50<00:00,  6.14it/s]\n",
      "                 Class     Images  Instances      Box(P          R      mAP50  mAP50-95): 100%|██████████| 20/20 [00:03<00:00,  5.16it/s]"
     ]
    },
    {
     "name": "stdout",
     "output_type": "stream",
     "text": [
      "                   all        616       1921      0.718      0.607      0.654       0.37\n"
     ]
    },
    {
     "name": "stderr",
     "output_type": "stream",
     "text": [
      "\n"
     ]
    },
    {
     "name": "stdout",
     "output_type": "stream",
     "text": [
      "\n",
      "      Epoch    GPU_mem   box_loss   cls_loss   dfl_loss  Instances       Size\n"
     ]
    },
    {
     "name": "stderr",
     "output_type": "stream",
     "text": [
      "     24/300      1.96G      1.583      1.329      1.229          8        512: 100%|██████████| 312/312 [00:51<00:00,  6.10it/s]\n",
      "                 Class     Images  Instances      Box(P          R      mAP50  mAP50-95): 100%|██████████| 20/20 [00:03<00:00,  5.11it/s]"
     ]
    },
    {
     "name": "stdout",
     "output_type": "stream",
     "text": [
      "                   all        616       1921      0.722      0.607      0.661      0.372\n"
     ]
    },
    {
     "name": "stderr",
     "output_type": "stream",
     "text": [
      "\n"
     ]
    },
    {
     "name": "stdout",
     "output_type": "stream",
     "text": [
      "\n",
      "      Epoch    GPU_mem   box_loss   cls_loss   dfl_loss  Instances       Size\n"
     ]
    },
    {
     "name": "stderr",
     "output_type": "stream",
     "text": [
      "     25/300      1.96G      1.575       1.32      1.221          8        512: 100%|██████████| 312/312 [00:50<00:00,  6.14it/s]\n",
      "                 Class     Images  Instances      Box(P          R      mAP50  mAP50-95): 100%|██████████| 20/20 [00:03<00:00,  5.17it/s]"
     ]
    },
    {
     "name": "stdout",
     "output_type": "stream",
     "text": [
      "                   all        616       1921      0.718      0.605      0.667      0.379\n"
     ]
    },
    {
     "name": "stderr",
     "output_type": "stream",
     "text": [
      "\n"
     ]
    },
    {
     "name": "stdout",
     "output_type": "stream",
     "text": [
      "\n",
      "      Epoch    GPU_mem   box_loss   cls_loss   dfl_loss  Instances       Size\n"
     ]
    },
    {
     "name": "stderr",
     "output_type": "stream",
     "text": [
      "     26/300      1.97G      1.568      1.317      1.222         26        512: 100%|██████████| 312/312 [00:50<00:00,  6.14it/s]\n",
      "                 Class     Images  Instances      Box(P          R      mAP50  mAP50-95): 100%|██████████| 20/20 [00:03<00:00,  5.16it/s]"
     ]
    },
    {
     "name": "stdout",
     "output_type": "stream",
     "text": [
      "                   all        616       1921      0.754      0.591      0.668      0.377\n"
     ]
    },
    {
     "name": "stderr",
     "output_type": "stream",
     "text": [
      "\n"
     ]
    },
    {
     "name": "stdout",
     "output_type": "stream",
     "text": [
      "\n",
      "      Epoch    GPU_mem   box_loss   cls_loss   dfl_loss  Instances       Size\n"
     ]
    },
    {
     "name": "stderr",
     "output_type": "stream",
     "text": [
      "     27/300      1.97G       1.57      1.308      1.219         25        512: 100%|██████████| 312/312 [00:50<00:00,  6.14it/s]\n",
      "                 Class     Images  Instances      Box(P          R      mAP50  mAP50-95): 100%|██████████| 20/20 [00:03<00:00,  5.16it/s]"
     ]
    },
    {
     "name": "stdout",
     "output_type": "stream",
     "text": [
      "                   all        616       1921      0.731      0.617      0.671      0.379\n"
     ]
    },
    {
     "name": "stderr",
     "output_type": "stream",
     "text": [
      "\n"
     ]
    },
    {
     "name": "stdout",
     "output_type": "stream",
     "text": [
      "\n",
      "      Epoch    GPU_mem   box_loss   cls_loss   dfl_loss  Instances       Size\n"
     ]
    },
    {
     "name": "stderr",
     "output_type": "stream",
     "text": [
      "     28/300      1.96G      1.574      1.312      1.222          5        512: 100%|██████████| 312/312 [00:51<00:00,  6.11it/s]\n",
      "                 Class     Images  Instances      Box(P          R      mAP50  mAP50-95): 100%|██████████| 20/20 [00:03<00:00,  5.12it/s]"
     ]
    },
    {
     "name": "stdout",
     "output_type": "stream",
     "text": [
      "                   all        616       1921      0.739      0.603      0.672      0.378\n"
     ]
    },
    {
     "name": "stderr",
     "output_type": "stream",
     "text": [
      "\n"
     ]
    },
    {
     "name": "stdout",
     "output_type": "stream",
     "text": [
      "\n",
      "      Epoch    GPU_mem   box_loss   cls_loss   dfl_loss  Instances       Size\n"
     ]
    },
    {
     "name": "stderr",
     "output_type": "stream",
     "text": [
      "     29/300      1.83G      1.565      1.311      1.222          8        512: 100%|██████████| 312/312 [00:50<00:00,  6.14it/s]\n",
      "                 Class     Images  Instances      Box(P          R      mAP50  mAP50-95): 100%|██████████| 20/20 [00:03<00:00,  5.17it/s]"
     ]
    },
    {
     "name": "stdout",
     "output_type": "stream",
     "text": [
      "                   all        616       1921      0.728      0.616      0.671       0.38\n"
     ]
    },
    {
     "name": "stderr",
     "output_type": "stream",
     "text": [
      "\n"
     ]
    },
    {
     "name": "stdout",
     "output_type": "stream",
     "text": [
      "\n",
      "      Epoch    GPU_mem   box_loss   cls_loss   dfl_loss  Instances       Size\n"
     ]
    },
    {
     "name": "stderr",
     "output_type": "stream",
     "text": [
      "     30/300      1.96G      1.556      1.275      1.212         14        512: 100%|██████████| 312/312 [00:50<00:00,  6.13it/s]\n",
      "                 Class     Images  Instances      Box(P          R      mAP50  mAP50-95): 100%|██████████| 20/20 [00:03<00:00,  5.16it/s]"
     ]
    },
    {
     "name": "stdout",
     "output_type": "stream",
     "text": [
      "                   all        616       1921       0.76      0.612      0.677      0.383\n"
     ]
    },
    {
     "name": "stderr",
     "output_type": "stream",
     "text": [
      "\n"
     ]
    },
    {
     "name": "stdout",
     "output_type": "stream",
     "text": [
      "\n",
      "      Epoch    GPU_mem   box_loss   cls_loss   dfl_loss  Instances       Size\n"
     ]
    },
    {
     "name": "stderr",
     "output_type": "stream",
     "text": [
      "     31/300      1.97G      1.562      1.307      1.209         18        512: 100%|██████████| 312/312 [00:50<00:00,  6.14it/s]\n",
      "                 Class     Images  Instances      Box(P          R      mAP50  mAP50-95): 100%|██████████| 20/20 [00:03<00:00,  5.17it/s]"
     ]
    },
    {
     "name": "stdout",
     "output_type": "stream",
     "text": [
      "                   all        616       1921      0.719       0.63      0.673      0.383\n"
     ]
    },
    {
     "name": "stderr",
     "output_type": "stream",
     "text": [
      "\n"
     ]
    },
    {
     "name": "stdout",
     "output_type": "stream",
     "text": [
      "\n",
      "      Epoch    GPU_mem   box_loss   cls_loss   dfl_loss  Instances       Size\n"
     ]
    },
    {
     "name": "stderr",
     "output_type": "stream",
     "text": [
      "     32/300      1.96G      1.553      1.293      1.209         12        512: 100%|██████████| 312/312 [00:51<00:00,  6.08it/s]\n",
      "                 Class     Images  Instances      Box(P          R      mAP50  mAP50-95): 100%|██████████| 20/20 [00:03<00:00,  5.12it/s]"
     ]
    },
    {
     "name": "stdout",
     "output_type": "stream",
     "text": [
      "                   all        616       1921      0.725      0.616      0.665       0.38\n"
     ]
    },
    {
     "name": "stderr",
     "output_type": "stream",
     "text": [
      "\n"
     ]
    },
    {
     "name": "stdout",
     "output_type": "stream",
     "text": [
      "\n",
      "      Epoch    GPU_mem   box_loss   cls_loss   dfl_loss  Instances       Size\n"
     ]
    },
    {
     "name": "stderr",
     "output_type": "stream",
     "text": [
      "     33/300      1.97G      1.545      1.281      1.208         16        512: 100%|██████████| 312/312 [00:51<00:00,  6.12it/s]\n",
      "                 Class     Images  Instances      Box(P          R      mAP50  mAP50-95): 100%|██████████| 20/20 [00:03<00:00,  5.11it/s]"
     ]
    },
    {
     "name": "stdout",
     "output_type": "stream",
     "text": [
      "                   all        616       1921      0.725      0.611      0.664       0.38\n"
     ]
    },
    {
     "name": "stderr",
     "output_type": "stream",
     "text": [
      "\n"
     ]
    },
    {
     "name": "stdout",
     "output_type": "stream",
     "text": [
      "\n",
      "      Epoch    GPU_mem   box_loss   cls_loss   dfl_loss  Instances       Size\n"
     ]
    },
    {
     "name": "stderr",
     "output_type": "stream",
     "text": [
      "     34/300      1.96G      1.537       1.27      1.201          6        512: 100%|██████████| 312/312 [00:50<00:00,  6.13it/s]\n",
      "                 Class     Images  Instances      Box(P          R      mAP50  mAP50-95): 100%|██████████| 20/20 [00:03<00:00,  5.16it/s]"
     ]
    },
    {
     "name": "stdout",
     "output_type": "stream",
     "text": [
      "                   all        616       1921      0.713      0.629      0.681      0.386\n"
     ]
    },
    {
     "name": "stderr",
     "output_type": "stream",
     "text": [
      "\n"
     ]
    },
    {
     "name": "stdout",
     "output_type": "stream",
     "text": [
      "\n",
      "      Epoch    GPU_mem   box_loss   cls_loss   dfl_loss  Instances       Size\n"
     ]
    },
    {
     "name": "stderr",
     "output_type": "stream",
     "text": [
      "     35/300      1.83G      1.535      1.274      1.204         14        512: 100%|██████████| 312/312 [00:50<00:00,  6.14it/s]\n",
      "                 Class     Images  Instances      Box(P          R      mAP50  mAP50-95): 100%|██████████| 20/20 [00:03<00:00,  5.16it/s]"
     ]
    },
    {
     "name": "stdout",
     "output_type": "stream",
     "text": [
      "                   all        616       1921      0.723      0.632      0.679      0.389\n"
     ]
    },
    {
     "name": "stderr",
     "output_type": "stream",
     "text": [
      "\n"
     ]
    },
    {
     "name": "stdout",
     "output_type": "stream",
     "text": [
      "\n",
      "      Epoch    GPU_mem   box_loss   cls_loss   dfl_loss  Instances       Size\n"
     ]
    },
    {
     "name": "stderr",
     "output_type": "stream",
     "text": [
      "     36/300      1.96G      1.561      1.295      1.208         15        512: 100%|██████████| 312/312 [00:50<00:00,  6.14it/s]\n",
      "                 Class     Images  Instances      Box(P          R      mAP50  mAP50-95): 100%|██████████| 20/20 [00:03<00:00,  5.16it/s]"
     ]
    },
    {
     "name": "stdout",
     "output_type": "stream",
     "text": [
      "                   all        616       1921      0.753      0.608      0.685      0.396\n"
     ]
    },
    {
     "name": "stderr",
     "output_type": "stream",
     "text": [
      "\n"
     ]
    },
    {
     "name": "stdout",
     "output_type": "stream",
     "text": [
      "\n",
      "      Epoch    GPU_mem   box_loss   cls_loss   dfl_loss  Instances       Size\n"
     ]
    },
    {
     "name": "stderr",
     "output_type": "stream",
     "text": [
      "     37/300      1.73G      1.531      1.261      1.194         26        512: 100%|██████████| 312/312 [00:50<00:00,  6.14it/s]\n",
      "                 Class     Images  Instances      Box(P          R      mAP50  mAP50-95): 100%|██████████| 20/20 [00:03<00:00,  5.16it/s]"
     ]
    },
    {
     "name": "stdout",
     "output_type": "stream",
     "text": [
      "                   all        616       1921      0.757      0.606      0.683      0.394\n"
     ]
    },
    {
     "name": "stderr",
     "output_type": "stream",
     "text": [
      "\n"
     ]
    },
    {
     "name": "stdout",
     "output_type": "stream",
     "text": [
      "\n",
      "      Epoch    GPU_mem   box_loss   cls_loss   dfl_loss  Instances       Size\n"
     ]
    },
    {
     "name": "stderr",
     "output_type": "stream",
     "text": [
      "     38/300      1.96G      1.535       1.26      1.198         17        512: 100%|██████████| 312/312 [00:50<00:00,  6.14it/s]\n",
      "                 Class     Images  Instances      Box(P          R      mAP50  mAP50-95): 100%|██████████| 20/20 [00:03<00:00,  5.16it/s]"
     ]
    },
    {
     "name": "stdout",
     "output_type": "stream",
     "text": [
      "                   all        616       1921      0.733      0.613      0.674      0.388\n"
     ]
    },
    {
     "name": "stderr",
     "output_type": "stream",
     "text": [
      "\n"
     ]
    },
    {
     "name": "stdout",
     "output_type": "stream",
     "text": [
      "\n",
      "      Epoch    GPU_mem   box_loss   cls_loss   dfl_loss  Instances       Size\n"
     ]
    },
    {
     "name": "stderr",
     "output_type": "stream",
     "text": [
      "     39/300       1.9G      1.527      1.259      1.193         17        512: 100%|██████████| 312/312 [00:50<00:00,  6.14it/s]\n",
      "                 Class     Images  Instances      Box(P          R      mAP50  mAP50-95): 100%|██████████| 20/20 [00:03<00:00,  5.17it/s]"
     ]
    },
    {
     "name": "stdout",
     "output_type": "stream",
     "text": [
      "                   all        616       1921      0.743       0.61      0.678      0.393\n"
     ]
    },
    {
     "name": "stderr",
     "output_type": "stream",
     "text": [
      "\n"
     ]
    },
    {
     "name": "stdout",
     "output_type": "stream",
     "text": [
      "\n",
      "      Epoch    GPU_mem   box_loss   cls_loss   dfl_loss  Instances       Size\n"
     ]
    },
    {
     "name": "stderr",
     "output_type": "stream",
     "text": [
      "     40/300      2.03G      1.532      1.261      1.198         16        512: 100%|██████████| 312/312 [00:50<00:00,  6.14it/s]\n",
      "                 Class     Images  Instances      Box(P          R      mAP50  mAP50-95): 100%|██████████| 20/20 [00:03<00:00,  5.17it/s]"
     ]
    },
    {
     "name": "stdout",
     "output_type": "stream",
     "text": [
      "                   all        616       1921      0.755      0.604      0.673      0.389\n"
     ]
    },
    {
     "name": "stderr",
     "output_type": "stream",
     "text": [
      "\n"
     ]
    },
    {
     "name": "stdout",
     "output_type": "stream",
     "text": [
      "\n",
      "      Epoch    GPU_mem   box_loss   cls_loss   dfl_loss  Instances       Size\n"
     ]
    },
    {
     "name": "stderr",
     "output_type": "stream",
     "text": [
      "     41/300      1.76G       1.53      1.262      1.187         25        512: 100%|██████████| 312/312 [00:51<00:00,  6.04it/s]\n",
      "                 Class     Images  Instances      Box(P          R      mAP50  mAP50-95): 100%|██████████| 20/20 [00:03<00:00,  5.12it/s]"
     ]
    },
    {
     "name": "stdout",
     "output_type": "stream",
     "text": [
      "                   all        616       1921      0.732      0.624      0.685      0.395\n"
     ]
    },
    {
     "name": "stderr",
     "output_type": "stream",
     "text": [
      "\n"
     ]
    },
    {
     "name": "stdout",
     "output_type": "stream",
     "text": [
      "\n",
      "      Epoch    GPU_mem   box_loss   cls_loss   dfl_loss  Instances       Size\n"
     ]
    },
    {
     "name": "stderr",
     "output_type": "stream",
     "text": [
      "     42/300       1.9G       1.52      1.245      1.186         22        512: 100%|██████████| 312/312 [00:50<00:00,  6.14it/s]\n",
      "                 Class     Images  Instances      Box(P          R      mAP50  mAP50-95): 100%|██████████| 20/20 [00:03<00:00,  5.16it/s]"
     ]
    },
    {
     "name": "stdout",
     "output_type": "stream",
     "text": [
      "                   all        616       1921      0.736      0.625      0.684       0.39\n"
     ]
    },
    {
     "name": "stderr",
     "output_type": "stream",
     "text": [
      "\n"
     ]
    },
    {
     "name": "stdout",
     "output_type": "stream",
     "text": [
      "\n",
      "      Epoch    GPU_mem   box_loss   cls_loss   dfl_loss  Instances       Size\n"
     ]
    },
    {
     "name": "stderr",
     "output_type": "stream",
     "text": [
      "     43/300      1.83G      1.525      1.244       1.19         28        512: 100%|██████████| 312/312 [00:51<00:00,  6.03it/s]\n",
      "                 Class     Images  Instances      Box(P          R      mAP50  mAP50-95): 100%|██████████| 20/20 [00:03<00:00,  5.11it/s]"
     ]
    },
    {
     "name": "stdout",
     "output_type": "stream",
     "text": [
      "                   all        616       1921      0.753      0.615      0.686      0.393\n"
     ]
    },
    {
     "name": "stderr",
     "output_type": "stream",
     "text": [
      "\n"
     ]
    },
    {
     "name": "stdout",
     "output_type": "stream",
     "text": [
      "\n",
      "      Epoch    GPU_mem   box_loss   cls_loss   dfl_loss  Instances       Size\n"
     ]
    },
    {
     "name": "stderr",
     "output_type": "stream",
     "text": [
      "     44/300      1.97G      1.519      1.254      1.188         16        512: 100%|██████████| 312/312 [00:50<00:00,  6.14it/s]\n",
      "                 Class     Images  Instances      Box(P          R      mAP50  mAP50-95): 100%|██████████| 20/20 [00:03<00:00,  5.17it/s]"
     ]
    },
    {
     "name": "stdout",
     "output_type": "stream",
     "text": [
      "                   all        616       1921      0.745      0.626      0.678       0.39\n"
     ]
    },
    {
     "name": "stderr",
     "output_type": "stream",
     "text": [
      "\n"
     ]
    },
    {
     "name": "stdout",
     "output_type": "stream",
     "text": [
      "\n",
      "      Epoch    GPU_mem   box_loss   cls_loss   dfl_loss  Instances       Size\n"
     ]
    },
    {
     "name": "stderr",
     "output_type": "stream",
     "text": [
      "     45/300      1.97G       1.52       1.24      1.182         20        512: 100%|██████████| 312/312 [00:50<00:00,  6.13it/s]\n",
      "                 Class     Images  Instances      Box(P          R      mAP50  mAP50-95): 100%|██████████| 20/20 [00:03<00:00,  5.16it/s]"
     ]
    },
    {
     "name": "stdout",
     "output_type": "stream",
     "text": [
      "                   all        616       1921       0.74      0.616      0.682       0.39\n"
     ]
    },
    {
     "name": "stderr",
     "output_type": "stream",
     "text": [
      "\n"
     ]
    },
    {
     "name": "stdout",
     "output_type": "stream",
     "text": [
      "\n",
      "      Epoch    GPU_mem   box_loss   cls_loss   dfl_loss  Instances       Size\n"
     ]
    },
    {
     "name": "stderr",
     "output_type": "stream",
     "text": [
      "     46/300      1.96G      1.523      1.239      1.184         13        512: 100%|██████████| 312/312 [00:50<00:00,  6.14it/s]\n",
      "                 Class     Images  Instances      Box(P          R      mAP50  mAP50-95): 100%|██████████| 20/20 [00:03<00:00,  5.15it/s]"
     ]
    },
    {
     "name": "stdout",
     "output_type": "stream",
     "text": [
      "                   all        616       1921      0.735      0.635       0.69      0.399\n"
     ]
    },
    {
     "name": "stderr",
     "output_type": "stream",
     "text": [
      "\n"
     ]
    },
    {
     "name": "stdout",
     "output_type": "stream",
     "text": [
      "\n",
      "      Epoch    GPU_mem   box_loss   cls_loss   dfl_loss  Instances       Size\n"
     ]
    },
    {
     "name": "stderr",
     "output_type": "stream",
     "text": [
      "     47/300      1.96G      1.512      1.229      1.185         18        512: 100%|██████████| 312/312 [00:50<00:00,  6.14it/s]\n",
      "                 Class     Images  Instances      Box(P          R      mAP50  mAP50-95): 100%|██████████| 20/20 [00:03<00:00,  5.16it/s]"
     ]
    },
    {
     "name": "stdout",
     "output_type": "stream",
     "text": [
      "                   all        616       1921      0.737      0.631      0.682      0.393\n"
     ]
    },
    {
     "name": "stderr",
     "output_type": "stream",
     "text": [
      "\n"
     ]
    },
    {
     "name": "stdout",
     "output_type": "stream",
     "text": [
      "\n",
      "      Epoch    GPU_mem   box_loss   cls_loss   dfl_loss  Instances       Size\n"
     ]
    },
    {
     "name": "stderr",
     "output_type": "stream",
     "text": [
      "     48/300      1.74G      1.505      1.236      1.183          6        512: 100%|██████████| 312/312 [00:50<00:00,  6.14it/s]\n",
      "                 Class     Images  Instances      Box(P          R      mAP50  mAP50-95): 100%|██████████| 20/20 [00:03<00:00,  5.16it/s]"
     ]
    },
    {
     "name": "stdout",
     "output_type": "stream",
     "text": [
      "                   all        616       1921      0.754      0.622      0.685      0.398\n"
     ]
    },
    {
     "name": "stderr",
     "output_type": "stream",
     "text": [
      "\n"
     ]
    },
    {
     "name": "stdout",
     "output_type": "stream",
     "text": [
      "\n",
      "      Epoch    GPU_mem   box_loss   cls_loss   dfl_loss  Instances       Size\n"
     ]
    },
    {
     "name": "stderr",
     "output_type": "stream",
     "text": [
      "     49/300      1.76G      1.504      1.223       1.18         14        512: 100%|██████████| 312/312 [00:51<00:00,  6.05it/s]\n",
      "                 Class     Images  Instances      Box(P          R      mAP50  mAP50-95): 100%|██████████| 20/20 [00:03<00:00,  5.08it/s]"
     ]
    },
    {
     "name": "stdout",
     "output_type": "stream",
     "text": [
      "                   all        616       1921       0.73      0.622       0.68      0.393\n"
     ]
    },
    {
     "name": "stderr",
     "output_type": "stream",
     "text": [
      "\n"
     ]
    },
    {
     "name": "stdout",
     "output_type": "stream",
     "text": [
      "\n",
      "      Epoch    GPU_mem   box_loss   cls_loss   dfl_loss  Instances       Size\n"
     ]
    },
    {
     "name": "stderr",
     "output_type": "stream",
     "text": [
      "     50/300      1.85G      1.501       1.23       1.18         17        512: 100%|██████████| 312/312 [00:51<00:00,  6.03it/s]\n",
      "                 Class     Images  Instances      Box(P          R      mAP50  mAP50-95): 100%|██████████| 20/20 [00:03<00:00,  5.17it/s]"
     ]
    },
    {
     "name": "stdout",
     "output_type": "stream",
     "text": [
      "                   all        616       1921      0.739      0.624      0.679      0.393\n"
     ]
    },
    {
     "name": "stderr",
     "output_type": "stream",
     "text": [
      "\n"
     ]
    },
    {
     "name": "stdout",
     "output_type": "stream",
     "text": [
      "\n",
      "      Epoch    GPU_mem   box_loss   cls_loss   dfl_loss  Instances       Size\n"
     ]
    },
    {
     "name": "stderr",
     "output_type": "stream",
     "text": [
      "     51/300      1.72G      1.491      1.211      1.173         13        512: 100%|██████████| 312/312 [00:51<00:00,  6.07it/s]\n",
      "                 Class     Images  Instances      Box(P          R      mAP50  mAP50-95): 100%|██████████| 20/20 [00:03<00:00,  5.12it/s]"
     ]
    },
    {
     "name": "stdout",
     "output_type": "stream",
     "text": [
      "                   all        616       1921      0.729      0.644      0.685      0.397\n"
     ]
    },
    {
     "name": "stderr",
     "output_type": "stream",
     "text": [
      "\n"
     ]
    },
    {
     "name": "stdout",
     "output_type": "stream",
     "text": [
      "\n",
      "      Epoch    GPU_mem   box_loss   cls_loss   dfl_loss  Instances       Size\n"
     ]
    },
    {
     "name": "stderr",
     "output_type": "stream",
     "text": [
      "     52/300      1.66G      1.496      1.228      1.171          8        512: 100%|██████████| 312/312 [00:50<00:00,  6.13it/s]\n",
      "                 Class     Images  Instances      Box(P          R      mAP50  mAP50-95): 100%|██████████| 20/20 [00:03<00:00,  5.16it/s]"
     ]
    },
    {
     "name": "stdout",
     "output_type": "stream",
     "text": [
      "                   all        616       1921      0.735      0.631      0.678      0.391\n"
     ]
    },
    {
     "name": "stderr",
     "output_type": "stream",
     "text": [
      "\n"
     ]
    },
    {
     "name": "stdout",
     "output_type": "stream",
     "text": [
      "\n",
      "      Epoch    GPU_mem   box_loss   cls_loss   dfl_loss  Instances       Size\n"
     ]
    },
    {
     "name": "stderr",
     "output_type": "stream",
     "text": [
      "     53/300      1.92G      1.497      1.217      1.171         14        512: 100%|██████████| 312/312 [00:50<00:00,  6.13it/s]\n",
      "                 Class     Images  Instances      Box(P          R      mAP50  mAP50-95): 100%|██████████| 20/20 [00:03<00:00,  5.15it/s]"
     ]
    },
    {
     "name": "stdout",
     "output_type": "stream",
     "text": [
      "                   all        616       1921      0.735      0.638      0.685      0.399\n"
     ]
    },
    {
     "name": "stderr",
     "output_type": "stream",
     "text": [
      "\n"
     ]
    },
    {
     "name": "stdout",
     "output_type": "stream",
     "text": [
      "\n",
      "      Epoch    GPU_mem   box_loss   cls_loss   dfl_loss  Instances       Size\n"
     ]
    },
    {
     "name": "stderr",
     "output_type": "stream",
     "text": [
      "     54/300       1.8G      1.511      1.234      1.174         16        512: 100%|██████████| 312/312 [00:50<00:00,  6.12it/s]\n",
      "                 Class     Images  Instances      Box(P          R      mAP50  mAP50-95): 100%|██████████| 20/20 [00:03<00:00,  5.10it/s]"
     ]
    },
    {
     "name": "stdout",
     "output_type": "stream",
     "text": [
      "                   all        616       1921      0.726      0.639      0.683      0.391\n"
     ]
    },
    {
     "name": "stderr",
     "output_type": "stream",
     "text": [
      "\n"
     ]
    },
    {
     "name": "stdout",
     "output_type": "stream",
     "text": [
      "\n",
      "      Epoch    GPU_mem   box_loss   cls_loss   dfl_loss  Instances       Size\n"
     ]
    },
    {
     "name": "stderr",
     "output_type": "stream",
     "text": [
      "     55/300      1.76G      1.502      1.216      1.175          5        512: 100%|██████████| 312/312 [00:50<00:00,  6.12it/s]\n",
      "                 Class     Images  Instances      Box(P          R      mAP50  mAP50-95): 100%|██████████| 20/20 [00:03<00:00,  5.14it/s]"
     ]
    },
    {
     "name": "stdout",
     "output_type": "stream",
     "text": [
      "                   all        616       1921      0.742      0.633      0.684      0.394\n"
     ]
    },
    {
     "name": "stderr",
     "output_type": "stream",
     "text": [
      "\n"
     ]
    },
    {
     "name": "stdout",
     "output_type": "stream",
     "text": [
      "\n",
      "      Epoch    GPU_mem   box_loss   cls_loss   dfl_loss  Instances       Size\n"
     ]
    },
    {
     "name": "stderr",
     "output_type": "stream",
     "text": [
      "     56/300      1.96G      1.492      1.213       1.17          9        512: 100%|██████████| 312/312 [00:51<00:00,  6.08it/s]\n",
      "                 Class     Images  Instances      Box(P          R      mAP50  mAP50-95): 100%|██████████| 20/20 [00:03<00:00,  5.06it/s]"
     ]
    },
    {
     "name": "stdout",
     "output_type": "stream",
     "text": [
      "                   all        616       1921      0.737      0.627      0.679      0.389\n"
     ]
    },
    {
     "name": "stderr",
     "output_type": "stream",
     "text": [
      "\n"
     ]
    },
    {
     "name": "stdout",
     "output_type": "stream",
     "text": [
      "\n",
      "      Epoch    GPU_mem   box_loss   cls_loss   dfl_loss  Instances       Size\n"
     ]
    },
    {
     "name": "stderr",
     "output_type": "stream",
     "text": [
      "     57/300       1.6G       1.49      1.208      1.164         13        512: 100%|██████████| 312/312 [00:55<00:00,  5.59it/s]\n",
      "                 Class     Images  Instances      Box(P          R      mAP50  mAP50-95): 100%|██████████| 20/20 [00:03<00:00,  5.04it/s]"
     ]
    },
    {
     "name": "stdout",
     "output_type": "stream",
     "text": [
      "                   all        616       1921      0.742      0.627       0.69      0.397\n"
     ]
    },
    {
     "name": "stderr",
     "output_type": "stream",
     "text": [
      "\n"
     ]
    },
    {
     "name": "stdout",
     "output_type": "stream",
     "text": [
      "\n",
      "      Epoch    GPU_mem   box_loss   cls_loss   dfl_loss  Instances       Size\n"
     ]
    },
    {
     "name": "stderr",
     "output_type": "stream",
     "text": [
      "     58/300      1.81G      1.478      1.193      1.161         12        512: 100%|██████████| 312/312 [00:52<00:00,  5.94it/s]\n",
      "                 Class     Images  Instances      Box(P          R      mAP50  mAP50-95): 100%|██████████| 20/20 [00:03<00:00,  5.11it/s]"
     ]
    },
    {
     "name": "stdout",
     "output_type": "stream",
     "text": [
      "                   all        616       1921      0.734      0.635      0.685      0.397\n"
     ]
    },
    {
     "name": "stderr",
     "output_type": "stream",
     "text": [
      "\n"
     ]
    },
    {
     "name": "stdout",
     "output_type": "stream",
     "text": [
      "\n",
      "      Epoch    GPU_mem   box_loss   cls_loss   dfl_loss  Instances       Size\n"
     ]
    },
    {
     "name": "stderr",
     "output_type": "stream",
     "text": [
      "     59/300      1.72G      1.491      1.205      1.165         22        512: 100%|██████████| 312/312 [00:51<00:00,  6.06it/s]\n",
      "                 Class     Images  Instances      Box(P          R      mAP50  mAP50-95): 100%|██████████| 20/20 [00:04<00:00,  4.91it/s]"
     ]
    },
    {
     "name": "stdout",
     "output_type": "stream",
     "text": [
      "                   all        616       1921      0.737      0.642      0.695      0.404\n"
     ]
    },
    {
     "name": "stderr",
     "output_type": "stream",
     "text": [
      "\n"
     ]
    },
    {
     "name": "stdout",
     "output_type": "stream",
     "text": [
      "\n",
      "      Epoch    GPU_mem   box_loss   cls_loss   dfl_loss  Instances       Size\n"
     ]
    },
    {
     "name": "stderr",
     "output_type": "stream",
     "text": [
      "     60/300      1.97G      1.486      1.204      1.164         14        512: 100%|██████████| 312/312 [00:51<00:00,  6.03it/s]\n",
      "                 Class     Images  Instances      Box(P          R      mAP50  mAP50-95): 100%|██████████| 20/20 [00:03<00:00,  5.16it/s]"
     ]
    },
    {
     "name": "stdout",
     "output_type": "stream",
     "text": [
      "                   all        616       1921      0.732       0.65      0.696      0.405\n"
     ]
    },
    {
     "name": "stderr",
     "output_type": "stream",
     "text": [
      "\n"
     ]
    },
    {
     "name": "stdout",
     "output_type": "stream",
     "text": [
      "\n",
      "      Epoch    GPU_mem   box_loss   cls_loss   dfl_loss  Instances       Size\n"
     ]
    },
    {
     "name": "stderr",
     "output_type": "stream",
     "text": [
      "     61/300      1.97G      1.498      1.214      1.173         31        512: 100%|██████████| 312/312 [00:51<00:00,  6.05it/s]\n",
      "                 Class     Images  Instances      Box(P          R      mAP50  mAP50-95): 100%|██████████| 20/20 [00:03<00:00,  5.16it/s]"
     ]
    },
    {
     "name": "stdout",
     "output_type": "stream",
     "text": [
      "                   all        616       1921      0.738      0.642      0.689      0.402\n"
     ]
    },
    {
     "name": "stderr",
     "output_type": "stream",
     "text": [
      "\n"
     ]
    },
    {
     "name": "stdout",
     "output_type": "stream",
     "text": [
      "\n",
      "      Epoch    GPU_mem   box_loss   cls_loss   dfl_loss  Instances       Size\n"
     ]
    },
    {
     "name": "stderr",
     "output_type": "stream",
     "text": [
      "     62/300      1.62G      1.491      1.212      1.169         20        512: 100%|██████████| 312/312 [00:50<00:00,  6.13it/s]\n",
      "                 Class     Images  Instances      Box(P          R      mAP50  mAP50-95): 100%|██████████| 20/20 [00:03<00:00,  5.16it/s]"
     ]
    },
    {
     "name": "stdout",
     "output_type": "stream",
     "text": [
      "                   all        616       1921      0.759      0.618      0.693      0.403\n"
     ]
    },
    {
     "name": "stderr",
     "output_type": "stream",
     "text": [
      "\n"
     ]
    },
    {
     "name": "stdout",
     "output_type": "stream",
     "text": [
      "\n",
      "      Epoch    GPU_mem   box_loss   cls_loss   dfl_loss  Instances       Size\n"
     ]
    },
    {
     "name": "stderr",
     "output_type": "stream",
     "text": [
      "     63/300      1.76G      1.481      1.198      1.162         15        512: 100%|██████████| 312/312 [00:50<00:00,  6.13it/s]\n",
      "                 Class     Images  Instances      Box(P          R      mAP50  mAP50-95): 100%|██████████| 20/20 [00:03<00:00,  5.15it/s]"
     ]
    },
    {
     "name": "stdout",
     "output_type": "stream",
     "text": [
      "                   all        616       1921      0.739      0.633      0.681      0.399\n"
     ]
    },
    {
     "name": "stderr",
     "output_type": "stream",
     "text": [
      "\n"
     ]
    },
    {
     "name": "stdout",
     "output_type": "stream",
     "text": [
      "\n",
      "      Epoch    GPU_mem   box_loss   cls_loss   dfl_loss  Instances       Size\n"
     ]
    },
    {
     "name": "stderr",
     "output_type": "stream",
     "text": [
      "     64/300      1.96G      1.476      1.191       1.16         16        512: 100%|██████████| 312/312 [00:50<00:00,  6.12it/s]\n",
      "                 Class     Images  Instances      Box(P          R      mAP50  mAP50-95): 100%|██████████| 20/20 [00:03<00:00,  5.16it/s]"
     ]
    },
    {
     "name": "stdout",
     "output_type": "stream",
     "text": [
      "                   all        616       1921      0.737       0.64      0.692      0.401\n"
     ]
    },
    {
     "name": "stderr",
     "output_type": "stream",
     "text": [
      "\n"
     ]
    },
    {
     "name": "stdout",
     "output_type": "stream",
     "text": [
      "\n",
      "      Epoch    GPU_mem   box_loss   cls_loss   dfl_loss  Instances       Size\n"
     ]
    },
    {
     "name": "stderr",
     "output_type": "stream",
     "text": [
      "     65/300      1.97G      1.496      1.199      1.164         17        512: 100%|██████████| 312/312 [00:50<00:00,  6.13it/s]\n",
      "                 Class     Images  Instances      Box(P          R      mAP50  mAP50-95): 100%|██████████| 20/20 [00:03<00:00,  5.16it/s]"
     ]
    },
    {
     "name": "stdout",
     "output_type": "stream",
     "text": [
      "                   all        616       1921      0.743      0.633      0.691      0.402\n"
     ]
    },
    {
     "name": "stderr",
     "output_type": "stream",
     "text": [
      "\n"
     ]
    },
    {
     "name": "stdout",
     "output_type": "stream",
     "text": [
      "\n",
      "      Epoch    GPU_mem   box_loss   cls_loss   dfl_loss  Instances       Size\n"
     ]
    },
    {
     "name": "stderr",
     "output_type": "stream",
     "text": [
      "     66/300      1.97G       1.47      1.187      1.154         17        512: 100%|██████████| 312/312 [00:50<00:00,  6.13it/s]\n",
      "                 Class     Images  Instances      Box(P          R      mAP50  mAP50-95): 100%|██████████| 20/20 [00:03<00:00,  5.16it/s]"
     ]
    },
    {
     "name": "stdout",
     "output_type": "stream",
     "text": [
      "                   all        616       1921      0.745      0.625      0.686      0.403\n"
     ]
    },
    {
     "name": "stderr",
     "output_type": "stream",
     "text": [
      "\n"
     ]
    },
    {
     "name": "stdout",
     "output_type": "stream",
     "text": [
      "\n",
      "      Epoch    GPU_mem   box_loss   cls_loss   dfl_loss  Instances       Size\n"
     ]
    },
    {
     "name": "stderr",
     "output_type": "stream",
     "text": [
      "     67/300      1.76G      1.482      1.184      1.159         11        512: 100%|██████████| 312/312 [00:51<00:00,  6.11it/s]\n",
      "                 Class     Images  Instances      Box(P          R      mAP50  mAP50-95): 100%|██████████| 20/20 [00:03<00:00,  5.16it/s]"
     ]
    },
    {
     "name": "stdout",
     "output_type": "stream",
     "text": [
      "                   all        616       1921      0.742      0.635      0.689      0.404\n"
     ]
    },
    {
     "name": "stderr",
     "output_type": "stream",
     "text": [
      "\n"
     ]
    },
    {
     "name": "stdout",
     "output_type": "stream",
     "text": [
      "\n",
      "      Epoch    GPU_mem   box_loss   cls_loss   dfl_loss  Instances       Size\n"
     ]
    },
    {
     "name": "stderr",
     "output_type": "stream",
     "text": [
      "     68/300       1.9G       1.48      1.192       1.16         18        512: 100%|██████████| 312/312 [00:51<00:00,  6.10it/s]\n",
      "                 Class     Images  Instances      Box(P          R      mAP50  mAP50-95): 100%|██████████| 20/20 [00:03<00:00,  5.14it/s]"
     ]
    },
    {
     "name": "stdout",
     "output_type": "stream",
     "text": [
      "                   all        616       1921      0.745      0.627      0.688      0.405\n"
     ]
    },
    {
     "name": "stderr",
     "output_type": "stream",
     "text": [
      "\n"
     ]
    },
    {
     "name": "stdout",
     "output_type": "stream",
     "text": [
      "\n",
      "      Epoch    GPU_mem   box_loss   cls_loss   dfl_loss  Instances       Size\n"
     ]
    },
    {
     "name": "stderr",
     "output_type": "stream",
     "text": [
      "     69/300      1.96G      1.466       1.18      1.157          9        512: 100%|██████████| 312/312 [00:51<00:00,  6.08it/s]\n",
      "                 Class     Images  Instances      Box(P          R      mAP50  mAP50-95): 100%|██████████| 20/20 [00:04<00:00,  4.98it/s]"
     ]
    },
    {
     "name": "stdout",
     "output_type": "stream",
     "text": [
      "                   all        616       1921      0.731      0.643      0.689      0.404\n"
     ]
    },
    {
     "name": "stderr",
     "output_type": "stream",
     "text": [
      "\n"
     ]
    },
    {
     "name": "stdout",
     "output_type": "stream",
     "text": [
      "\n",
      "      Epoch    GPU_mem   box_loss   cls_loss   dfl_loss  Instances       Size\n"
     ]
    },
    {
     "name": "stderr",
     "output_type": "stream",
     "text": [
      "     70/300      1.96G      1.481      1.186      1.165         32        512: 100%|██████████| 312/312 [00:50<00:00,  6.12it/s]\n",
      "                 Class     Images  Instances      Box(P          R      mAP50  mAP50-95): 100%|██████████| 20/20 [00:03<00:00,  5.16it/s]"
     ]
    },
    {
     "name": "stdout",
     "output_type": "stream",
     "text": [
      "                   all        616       1921      0.742       0.65      0.699       0.41\n"
     ]
    },
    {
     "name": "stderr",
     "output_type": "stream",
     "text": [
      "\n"
     ]
    },
    {
     "name": "stdout",
     "output_type": "stream",
     "text": [
      "\n",
      "      Epoch    GPU_mem   box_loss   cls_loss   dfl_loss  Instances       Size\n"
     ]
    },
    {
     "name": "stderr",
     "output_type": "stream",
     "text": [
      "     71/300      1.96G      1.464      1.182      1.151         16        512: 100%|██████████| 312/312 [00:50<00:00,  6.13it/s]\n",
      "                 Class     Images  Instances      Box(P          R      mAP50  mAP50-95): 100%|██████████| 20/20 [00:03<00:00,  5.17it/s]"
     ]
    },
    {
     "name": "stdout",
     "output_type": "stream",
     "text": [
      "                   all        616       1921      0.737      0.646      0.696      0.408\n"
     ]
    },
    {
     "name": "stderr",
     "output_type": "stream",
     "text": [
      "\n"
     ]
    },
    {
     "name": "stdout",
     "output_type": "stream",
     "text": [
      "\n",
      "      Epoch    GPU_mem   box_loss   cls_loss   dfl_loss  Instances       Size\n"
     ]
    },
    {
     "name": "stderr",
     "output_type": "stream",
     "text": [
      "     72/300      1.76G       1.46       1.17      1.149         16        512: 100%|██████████| 312/312 [00:51<00:00,  6.04it/s]\n",
      "                 Class     Images  Instances      Box(P          R      mAP50  mAP50-95): 100%|██████████| 20/20 [00:03<00:00,  5.09it/s]"
     ]
    },
    {
     "name": "stdout",
     "output_type": "stream",
     "text": [
      "                   all        616       1921      0.753       0.64      0.703      0.411\n"
     ]
    },
    {
     "name": "stderr",
     "output_type": "stream",
     "text": [
      "\n"
     ]
    },
    {
     "name": "stdout",
     "output_type": "stream",
     "text": [
      "\n",
      "      Epoch    GPU_mem   box_loss   cls_loss   dfl_loss  Instances       Size\n"
     ]
    },
    {
     "name": "stderr",
     "output_type": "stream",
     "text": [
      "     73/300      1.62G      1.477      1.182       1.15         20        512: 100%|██████████| 312/312 [00:51<00:00,  6.10it/s]\n",
      "                 Class     Images  Instances      Box(P          R      mAP50  mAP50-95): 100%|██████████| 20/20 [00:03<00:00,  5.14it/s]"
     ]
    },
    {
     "name": "stdout",
     "output_type": "stream",
     "text": [
      "                   all        616       1921      0.756      0.631      0.698      0.409\n"
     ]
    },
    {
     "name": "stderr",
     "output_type": "stream",
     "text": [
      "\n"
     ]
    },
    {
     "name": "stdout",
     "output_type": "stream",
     "text": [
      "\n",
      "      Epoch    GPU_mem   box_loss   cls_loss   dfl_loss  Instances       Size\n"
     ]
    },
    {
     "name": "stderr",
     "output_type": "stream",
     "text": [
      "     74/300      1.64G      1.473       1.19      1.152         23        512: 100%|██████████| 312/312 [00:51<00:00,  6.04it/s]\n",
      "                 Class     Images  Instances      Box(P          R      mAP50  mAP50-95): 100%|██████████| 20/20 [00:03<00:00,  5.08it/s]"
     ]
    },
    {
     "name": "stdout",
     "output_type": "stream",
     "text": [
      "                   all        616       1921      0.757      0.641      0.701      0.411\n"
     ]
    },
    {
     "name": "stderr",
     "output_type": "stream",
     "text": [
      "\n"
     ]
    },
    {
     "name": "stdout",
     "output_type": "stream",
     "text": [
      "\n",
      "      Epoch    GPU_mem   box_loss   cls_loss   dfl_loss  Instances       Size\n"
     ]
    },
    {
     "name": "stderr",
     "output_type": "stream",
     "text": [
      "     75/300      1.58G      1.466      1.172      1.158         34        512: 100%|██████████| 312/312 [00:51<00:00,  6.11it/s]\n",
      "                 Class     Images  Instances      Box(P          R      mAP50  mAP50-95): 100%|██████████| 20/20 [00:03<00:00,  5.14it/s]"
     ]
    },
    {
     "name": "stdout",
     "output_type": "stream",
     "text": [
      "                   all        616       1921      0.755      0.631      0.691      0.405\n"
     ]
    },
    {
     "name": "stderr",
     "output_type": "stream",
     "text": [
      "\n"
     ]
    },
    {
     "name": "stdout",
     "output_type": "stream",
     "text": [
      "\n",
      "      Epoch    GPU_mem   box_loss   cls_loss   dfl_loss  Instances       Size\n"
     ]
    },
    {
     "name": "stderr",
     "output_type": "stream",
     "text": [
      "     76/300      1.96G      1.462      1.178      1.152         12        512: 100%|██████████| 312/312 [00:51<00:00,  6.11it/s]\n",
      "                 Class     Images  Instances      Box(P          R      mAP50  mAP50-95): 100%|██████████| 20/20 [00:03<00:00,  5.13it/s]"
     ]
    },
    {
     "name": "stdout",
     "output_type": "stream",
     "text": [
      "                   all        616       1921      0.763      0.627      0.695       0.41\n"
     ]
    },
    {
     "name": "stderr",
     "output_type": "stream",
     "text": [
      "\n"
     ]
    },
    {
     "name": "stdout",
     "output_type": "stream",
     "text": [
      "\n",
      "      Epoch    GPU_mem   box_loss   cls_loss   dfl_loss  Instances       Size\n"
     ]
    },
    {
     "name": "stderr",
     "output_type": "stream",
     "text": [
      "     77/300      1.62G      1.463       1.17      1.148         20        512: 100%|██████████| 312/312 [00:51<00:00,  6.11it/s]\n",
      "                 Class     Images  Instances      Box(P          R      mAP50  mAP50-95): 100%|██████████| 20/20 [00:03<00:00,  5.15it/s]"
     ]
    },
    {
     "name": "stdout",
     "output_type": "stream",
     "text": [
      "                   all        616       1921      0.748      0.629      0.695      0.408\n"
     ]
    },
    {
     "name": "stderr",
     "output_type": "stream",
     "text": [
      "\n"
     ]
    },
    {
     "name": "stdout",
     "output_type": "stream",
     "text": [
      "\n",
      "      Epoch    GPU_mem   box_loss   cls_loss   dfl_loss  Instances       Size\n"
     ]
    },
    {
     "name": "stderr",
     "output_type": "stream",
     "text": [
      "     78/300      1.59G      1.453      1.168      1.147         30        512: 100%|██████████| 312/312 [00:51<00:00,  6.11it/s]\n",
      "                 Class     Images  Instances      Box(P          R      mAP50  mAP50-95): 100%|██████████| 20/20 [00:03<00:00,  5.13it/s]"
     ]
    },
    {
     "name": "stdout",
     "output_type": "stream",
     "text": [
      "                   all        616       1921       0.76       0.63      0.698       0.41\n"
     ]
    },
    {
     "name": "stderr",
     "output_type": "stream",
     "text": [
      "\n"
     ]
    },
    {
     "name": "stdout",
     "output_type": "stream",
     "text": [
      "\n",
      "      Epoch    GPU_mem   box_loss   cls_loss   dfl_loss  Instances       Size\n"
     ]
    },
    {
     "name": "stderr",
     "output_type": "stream",
     "text": [
      "     79/300      1.76G      1.455      1.166      1.147         14        512: 100%|██████████| 312/312 [00:51<00:00,  6.10it/s]\n",
      "                 Class     Images  Instances      Box(P          R      mAP50  mAP50-95): 100%|██████████| 20/20 [00:03<00:00,  5.09it/s]"
     ]
    },
    {
     "name": "stdout",
     "output_type": "stream",
     "text": [
      "                   all        616       1921       0.74      0.647      0.691      0.408\n"
     ]
    },
    {
     "name": "stderr",
     "output_type": "stream",
     "text": [
      "\n"
     ]
    },
    {
     "name": "stdout",
     "output_type": "stream",
     "text": [
      "\n",
      "      Epoch    GPU_mem   box_loss   cls_loss   dfl_loss  Instances       Size\n"
     ]
    },
    {
     "name": "stderr",
     "output_type": "stream",
     "text": [
      "     80/300      1.63G      1.443      1.158      1.137         13        512: 100%|██████████| 312/312 [00:51<00:00,  6.07it/s]\n",
      "                 Class     Images  Instances      Box(P          R      mAP50  mAP50-95): 100%|██████████| 20/20 [00:04<00:00,  4.99it/s]"
     ]
    },
    {
     "name": "stdout",
     "output_type": "stream",
     "text": [
      "                   all        616       1921      0.756      0.636      0.698      0.411\n"
     ]
    },
    {
     "name": "stderr",
     "output_type": "stream",
     "text": [
      "\n"
     ]
    },
    {
     "name": "stdout",
     "output_type": "stream",
     "text": [
      "\n",
      "      Epoch    GPU_mem   box_loss   cls_loss   dfl_loss  Instances       Size\n"
     ]
    },
    {
     "name": "stderr",
     "output_type": "stream",
     "text": [
      "     81/300       1.9G      1.435      1.143      1.141         50        512:  71%|███████   | 222/312 [00:37<00:15,  5.71it/s]"
     ]
    }
   ],
   "source": [
    "from ultralytics import YOLO\n",
    "\n",
    "# Initialize the model with pretrained weights\n",
    "model = YOLO(\"yolov9c.pt\")\n",
    "\n",
    "model.train(\n",
    "    data=\"dataset.yaml\",        # Path to dataset YAML\n",
    "    epochs=300,                 # Number of training epochs\n",
    "    patience=25,                # Early stopping patience\n",
    "    imgsz=512,                  # Image size\n",
    "    batch=16,                   # Batch size\n",
    "    iou=0.5,                    # IoU threshold for validation\n",
    "    freeze=18                   # Freeze the first 18 layers\n",
    ")\n"
   ]
  },
  {
   "cell_type": "code",
   "execution_count": null,
   "id": "8118af6b-63dc-4fe8-b05c-d82e0e294fc2",
   "metadata": {},
   "outputs": [],
   "source": []
  }
 ],
 "metadata": {
  "kernelspec": {
   "display_name": "Python 3 (ipykernel)",
   "language": "python",
   "name": "python3"
  },
  "language_info": {
   "codemirror_mode": {
    "name": "ipython",
    "version": 3
   },
   "file_extension": ".py",
   "mimetype": "text/x-python",
   "name": "python",
   "nbconvert_exporter": "python",
   "pygments_lexer": "ipython3",
   "version": "3.10.15"
  }
 },
 "nbformat": 4,
 "nbformat_minor": 5
}
